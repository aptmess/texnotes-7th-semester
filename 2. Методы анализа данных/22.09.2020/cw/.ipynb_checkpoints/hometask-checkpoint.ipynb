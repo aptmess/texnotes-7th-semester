{
 "cells": [
  {
   "cell_type": "code",
   "execution_count": null,
   "metadata": {},
   "outputs": [],
   "source": [
    "# -*- coding: utf-8 -*-\n",
    "\"\"\"\n",
    "Created on Tue Sep 22 13:36:21 2020\n",
    "\n",
    "@author: shiro\n",
    "\"\"\"\n",
    "import numpy as np\n",
    "import pandas as pd\n",
    "import re\n",
    "import string"
   ]
  },
  {
   "cell_type": "code",
   "execution_count": null,
   "metadata": {},
   "outputs": [],
   "source": [
    "def text_prepare(text):\n",
    "    \"\"\"\n",
    "        text: a string\n",
    "\n",
    "        return: modified string\n",
    "    \"\"\"\n",
    "    # Перевести символы в нижний регистр\n",
    "    text = text.lower() #your code\n",
    "\n",
    "    # Заменить символы пунктуации на пробелы\n",
    "    text = re.sub(r'[{}]'.format(string.punctuation), ' ', text)\n",
    "\n",
    "    # Удалить \"плохие\" символы\n",
    "    text = re.sub('[^A-Za-z0-9 ]', '', text)\n",
    "    return text\n",
    "\n",
    "def preprocess(file_name: str, amount_of_columns: int = 2):\n",
    "    dict_columns = {2:['k', 'nu'],\n",
    "                    3:['k-1', 'k', 'nu']}\n",
    "    with open(file_name, 'r') as file:\n",
    "        lines = file.readlines()\n",
    "    count_words = np.array(list(map(lambda x: x.split(), lines)))\n",
    "    k_words = pd.DataFrame(data=count_words, columns=dict_columns[amount_of_columns])\n",
    "    k_words['nu'] = k_words['nu'].astype(dtype=np.int64)\n",
    "    k_words['k'] = k_words['k'].apply(text_prepare)\n",
    "    if amount_of_columns == 3:\n",
    "        k_words['k-1'] = k_words['k-1'].apply(text_prepare)\n",
    "    return k_words\n",
    "\n",
    "def predict_next_word(onegrams,bigrams_full, word):\n",
    "   candidates = bigrams_full[bigrams_full['k-1']==word]\n",
    "   logs = onegrams[onegrams['k'].isin(candidates['k'])].iloc[:,3] + candidates.iloc[:,3].values\n",
    "   try:\n",
    "       result = onegrams.iloc[logs.index[np.argmax(logs)]]['k']\n",
    "       return result\n",
    "   except:\n",
    "       return f\"Word {word} is not in vocalbulary\""
   ]
  },
  {
   "cell_type": "code",
   "execution_count": null,
   "metadata": {},
   "outputs": [],
   "source": [
    "onegrams = preprocess(file_name='count_1w.txt', amount_of_columns=2)\n",
    "bigrams = preprocess(file_name='count_2w.txt', amount_of_columns=3)\n",
    "bigrams = bigrams.groupby(by = ['k-1','k'], as_index=False).sum()\n",
    "onegrams[r'P(w_k)'] = onegrams['nu'] / onegrams['nu'].sum()\n",
    "onegrams[r'log P(w_k)'] = np.log(onegrams[r'P(w_k)'])\n",
    "bigrams['log P(w_k-1|w_k)'] = np.log(bigrams['nu'] / bigrams['nu'].sum())"
   ]
  },
  {
   "cell_type": "code",
   "execution_count": null,
   "metadata": {},
   "outputs": [],
   "source": [
    "test = bigrams['k'].isin(onegrams['k'])\n",
    "bigrams_full = bigrams[test]"
   ]
  },
  {
   "cell_type": "code",
   "execution_count": null,
   "metadata": {},
   "outputs": [],
   "source": [
    "predict_next_word(onegrams, bigrams, word = 'will')"
   ]
  },
  {
   "cell_type": "code",
   "execution_count": null,
   "metadata": {},
   "outputs": [],
   "source": [
    "be = np.array([predict_next_word(onegrams, bigrams, word = 'establish') for word in bigrams['k'].values])\n",
    "pd.DataFrame(data = be, index = bigrams['k'].values)"
   ]
  },
  {
   "cell_type": "code",
   "execution_count": null,
   "metadata": {},
   "outputs": [],
   "source": []
  },
  {
   "cell_type": "code",
   "execution_count": null,
   "metadata": {},
   "outputs": [],
   "source": []
  }
 ],
 "metadata": {
  "kernelspec": {
   "display_name": "Python 3 (Spyder)",
   "language": "python3",
   "name": "python3"
  },
  "language_info": {
   "codemirror_mode": {
    "name": "ipython",
    "version": 3
   },
   "file_extension": ".py",
   "mimetype": "text/x-python",
   "name": "python",
   "nbconvert_exporter": "python",
   "pygments_lexer": "ipython3",
   "version": "3.8.3"
  }
 },
 "nbformat": 4,
 "nbformat_minor": 4
}
