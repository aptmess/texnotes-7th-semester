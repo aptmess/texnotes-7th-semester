{
 "cells": [
  {
   "cell_type": "code",
   "execution_count": 2,
   "metadata": {},
   "outputs": [],
   "source": [
    "import pandas as pd\n",
    "import numpy as np\n",
    "\n",
    "import matplotlib.pyplot as plt\n",
    "%matplotlib inline"
   ]
  },
  {
   "cell_type": "markdown",
   "metadata": {},
   "source": [
    "# 1. Деревья решений в задачах классификации. Пороговые значения."
   ]
  },
  {
   "cell_type": "code",
   "execution_count": 3,
   "metadata": {},
   "outputs": [],
   "source": [
    "np.random.seed(67)\n",
    "points = np.random.uniform(size=(20, 2), low=-1, high=1)\n",
    "positive = points[np.logical_xor(points[:, 0] >= 0, points[:, 1] >= 0)]\n",
    "negative = points[np.logical_xor(points[:, 0] >= 0, points[:, 1] < 0)]\n",
    "train_data = np.vstack([positive, negative])\n",
    "train_labels = np.hstack([np.ones(positive.shape[0]), np.zeros(negative.shape[0])])"
   ]
  },
  {
   "cell_type": "markdown",
   "metadata": {},
   "source": [
    "Рассмотрим задачу бинарной классификации. Обучающая выборка хранится в переменных `(train_data, train_labels)`."
   ]
  },
  {
   "cell_type": "code",
   "execution_count": 4,
   "metadata": {},
   "outputs": [
    {
     "data": {
      "image/png": "[encoded data removed]",
      "text/plain": [
       "<Figure size 432x288 with 1 Axes>"
      ]
     },
     "metadata": {
      "needs_background": "light"
     },
     "output_type": "display_data"
    }
   ],
   "source": [
    "text_params = {'ha': 'center', \n",
    "               'va': 'top', \n",
    "               'family': 'sans-serif',\n",
    "               'fontweight': 'bold'}\n",
    "plt.scatter(train_data[:, 0], train_data[:, 1], \n",
    "            c=train_labels, s=100, cmap='Set1', edgecolors='black', linewidth=1.5)\n",
    "for (i, j), l in zip(train_data, train_labels):\n",
    "    plt.text(i + 0.07, j - 0.1, f'{int(l)}', **text_params)\n",
    "plt.xlim(-1, 1)\n",
    "plt.ylim(-1.2, 1.2)\n",
    "plt.show()"
   ]
  },
  {
   "cell_type": "markdown",
   "metadata": {},
   "source": [
    "**Задание 1.** Выберите предикаты, по которым проводить разбиение. Постройте дерево решений для данной задачи. Какой глубины будет оптимальное дерево?"
   ]
  },
  {
   "cell_type": "code",
   "execution_count": 5,
   "metadata": {},
   "outputs": [],
   "source": [
    "left = train_labels[train_data[:, 0] < 0]\n",
    "right = train_labels[train_data[:, 0] > 0]\n",
    "train_left_data = train_data[train_data[:, 0] < 0]\n",
    "train_right_data = train_data[train_data[:, 0] > 0]\n",
    "right_0 = right[train_right_data[:, 1] > 0]\n",
    "right_1 = right[train_right_data[:, 1] < 0]\n",
    "left_0 = left[train_left_data[:, 1] < 0]\n",
    "left_1 = left[train_left_data[:, 1] > 0]"
   ]
  },
  {
   "cell_type": "code",
   "execution_count": 6,
   "metadata": {},
   "outputs": [
    {
     "data": {
      "text/plain": [
       "(array([0., 0., 0., 0., 0.]),\n",
       " array([1., 1., 1., 1.]),\n",
       " array([0., 0., 0., 0., 0., 0., 0.]),\n",
       " array([1., 1., 1., 1.]))"
      ]
     },
     "execution_count": 6,
     "metadata": {},
     "output_type": "execute_result"
    }
   ],
   "source": [
    "right_0, right_1, left_0, left_1"
   ]
  },
  {
   "cell_type": "markdown",
   "metadata": {},
   "source": [
    "**Задание 2.** В деревьях классификации часто используют энтропийный критерий и критерий Джини. Построим решающее дерево с помощью энтропийного критерия. Какой будет начальная энтропия?"
   ]
  },
  {
   "cell_type": "markdown",
   "metadata": {},
   "source": [
    "$$S_0=-p log_2 p-(1-p)log_2(1-p)$$"
   ]
  },
  {
   "cell_type": "code",
   "execution_count": 7,
   "metadata": {},
   "outputs": [],
   "source": [
    "def entropy(p):\n",
    "    return -p * np.log2(p) - (1 - p) * np.log2(1 - p) if 0 < p < 1 else 0\n",
    "def gini(p):\n",
    "    return 2 * p * (1-p)"
   ]
  },
  {
   "cell_type": "code",
   "execution_count": 8,
   "metadata": {},
   "outputs": [
    {
     "data": {
      "text/plain": [
       "0.9709505944546686"
      ]
     },
     "execution_count": 8,
     "metadata": {},
     "output_type": "execute_result"
    }
   ],
   "source": [
    "entropy(train_labels.mean())"
   ]
  },
  {
   "cell_type": "markdown",
   "metadata": {},
   "source": [
    "**Задание 3.** Попробуйте перебрать все возможные разбиения из по пороговым значениям. Какое правило предлагает поместить в корень дерева энтропийный критерий?"
   ]
  },
  {
   "cell_type": "code",
   "execution_count": 11,
   "metadata": {},
   "outputs": [],
   "source": [
    "t1 = np.sort(train_data[:, 0])\n",
    "t2 = np.sort(train_data[:, 1])"
   ]
  },
  {
   "cell_type": "code",
   "execution_count": 12,
   "metadata": {},
   "outputs": [],
   "source": [
    "def IG(v, U0, U1, which='entropy'):\n",
    "    if which == 'entropy':\n",
    "        inf = entropy\n",
    "    elif which =='gini':\n",
    "        inf = gini\n",
    "    N, N1, N2 = list(map(len, [v, U0, U1]))\n",
    "    if N1 == 0 or N2 == 0:\n",
    "        return 0\n",
    "    else:\n",
    "        S0, S1, S2 = list(map(inf, [np.mean(v), np.mean(U0), np.mean(U1)]))\n",
    "        return S0 - N1 * S1 / N - N2 * S2 / N"
   ]
  },
  {
   "cell_type": "code",
   "execution_count": 13,
   "metadata": {},
   "outputs": [],
   "source": [
    "result = {'v': 0, 'IG': -10e6}"
   ]
  },
  {
   "cell_type": "code",
   "execution_count": 14,
   "metadata": {},
   "outputs": [],
   "source": [
    "for x1 in t1:\n",
    "    U0 = train_labels[train_data[:, 0] < x1]\n",
    "    U1 = train_labels[train_data[:, 0] >= x1]\n",
    "    vc = IG(train_labels, U0, U1)\n",
    "    if vc > result['IG']:\n",
    "        result['v'] = x1\n",
    "        result['IG'] = vc\n",
    "        x = 'x1'\n",
    "\n",
    "for x2 in t2:\n",
    "    U0 = train_labels[train_data[:, 1] < x2]\n",
    "    U1 = train_labels[train_data[:, 1] >= x2]\n",
    "    vc = IG(train_labels, U0, U1)\n",
    "    if vc > result['IG']:\n",
    "        result['v'] = x2\n",
    "        result['IG'] = vc\n",
    "        x = 'x2'\n",
    "result['which_x'] = x"
   ]
  },
  {
   "cell_type": "code",
   "execution_count": 15,
   "metadata": {},
   "outputs": [
    {
     "data": {
      "text/plain": [
       "{'v': -0.3827900949757801, 'IG': 0.0918643835351961, 'which_x': 'x2'}"
      ]
     },
     "execution_count": 15,
     "metadata": {},
     "output_type": "execute_result"
    }
   ],
   "source": [
    "result"
   ]
  },
  {
   "cell_type": "markdown",
   "metadata": {},
   "source": [
    "**Задание 4.** Постройте дерево той же глубины, что и в задании 1, пользуясь критерием Джини. С помощью полученного дерева классифицируйте объект с признаками (-0.25, 0.5)."
   ]
  },
  {
   "cell_type": "markdown",
   "metadata": {},
   "source": [
    "### step1"
   ]
  },
  {
   "cell_type": "code",
   "execution_count": 13,
   "metadata": {},
   "outputs": [],
   "source": [
    "result = {'v': 0, 'IG': -10e6}"
   ]
  },
  {
   "cell_type": "code",
   "execution_count": 16,
   "metadata": {},
   "outputs": [
    {
     "data": {
      "text/plain": [
       "{'v': -0.3827900949757801, 'IG': 0.0918643835351961, 'which_x': 'x2'}"
      ]
     },
     "execution_count": 16,
     "metadata": {},
     "output_type": "execute_result"
    }
   ],
   "source": [
    "for x1 in t1:\n",
    "    U0 = train_labels[train_data[:, 0] < x1]\n",
    "    U1 = train_labels[train_data[:, 0] >= x1]\n",
    "    vc = IG(train_labels, U0, U1, which='gini')\n",
    "    if vc > result['IG']:\n",
    "        result['v'] = x1\n",
    "        result['IG'] = vc\n",
    "        x = 'x1'\n",
    "\n",
    "for x2 in t2:\n",
    "    U0 = train_labels[train_data[:, 1] < x2]\n",
    "    U1 = train_labels[train_data[:, 1] >= x2]\n",
    "    vc = IG(train_labels, U0, U1, which='gini')\n",
    "    if vc > result['IG']:\n",
    "        result['v'] = x2\n",
    "        result['IG'] = vc\n",
    "        x = 'x2'\n",
    "result['which_x'] = x\n",
    "result"
   ]
  },
  {
   "cell_type": "code",
   "execution_count": 17,
   "metadata": {},
   "outputs": [],
   "source": [
    "v1 = result['v'] "
   ]
  },
  {
   "cell_type": "code",
   "execution_count": 18,
   "metadata": {},
   "outputs": [],
   "source": [
    "def get_data(train_data, train_labels, d: dict):\n",
    "    if d['which_x'] == 'x2':\n",
    "        m = train_data[:, 1] < d['v']\n",
    "    elif d['which_x'] == 'x1':\n",
    "        m = train_data[:, 0] < d['v']\n",
    "    left = train_data[m]\n",
    "    right = train_data[np.logical_not(m)]\n",
    "    left_labels = train_labels[m]\n",
    "    right_labels = train_labels[np.logical_not(m)]\n",
    "    return left, right, left_labels, right_labels"
   ]
  },
  {
   "cell_type": "code",
   "execution_count": 19,
   "metadata": {},
   "outputs": [],
   "source": [
    "left, right, left_labels, right_labels = get_data(train_data, train_labels,result)"
   ]
  },
  {
   "cell_type": "code",
   "execution_count": 20,
   "metadata": {},
   "outputs": [
    {
     "data": {
      "text/plain": [
       "{'v': -0.20464543045300898, 'IG': 0.375, 'which_x': 'x1'}"
      ]
     },
     "execution_count": 20,
     "metadata": {},
     "output_type": "execute_result"
    }
   ],
   "source": [
    "result = {'v': 0, 'IG': -10e6}\n",
    "for x1 in t1:\n",
    "    U0 = left_labels[left[:, 0] < x1]\n",
    "    U1 = left_labels[left[:, 0] >= x1]\n",
    "    vc = IG(left_labels, U0, U1, which='gini')\n",
    "    if vc > result['IG']:\n",
    "        result['v'] = x1\n",
    "        result['IG'] = vc\n",
    "        x = 'x1'\n",
    "\n",
    "for x2 in t2:\n",
    "    U0 = left_labels[left[:, 1] < x2]\n",
    "    U1 = left_labels[left[:, 1] >= x2]\n",
    "    vc = IG(left_labels, U0, U1, which='gini')\n",
    "    if vc > result['IG']:\n",
    "        result['v'] = x2\n",
    "        result['IG'] = vc\n",
    "        x = 'x2'\n",
    "result['which_x'] = x\n",
    "result"
   ]
  },
  {
   "cell_type": "code",
   "execution_count": 21,
   "metadata": {},
   "outputs": [],
   "source": [
    "v2 = result['v'] "
   ]
  },
  {
   "cell_type": "code",
   "execution_count": 22,
   "metadata": {},
   "outputs": [
    {
     "data": {
      "text/plain": [
       "{'v': 0.4559946765058067, 'IG': 0.07514204545454545, 'which_x': 'x2'}"
      ]
     },
     "execution_count": 22,
     "metadata": {},
     "output_type": "execute_result"
    }
   ],
   "source": [
    "result = {'v': 0, 'IG': -10e6}\n",
    "for x1 in t1:\n",
    "    U0 = right_labels[right[:, 0] < x1]\n",
    "    U1 = right_labels[right[:, 0] >= x1]\n",
    "    vc = IG(right_labels, U0, U1, which='gini')\n",
    "    if vc > result['IG']:\n",
    "        result['v'] = x1\n",
    "        result['IG'] = vc\n",
    "        x = 'x1'\n",
    "\n",
    "for x2 in t2:\n",
    "    U0 = right_labels[right[:, 1] < x2]\n",
    "    U1 = right_labels[right[:, 1] >= x2]\n",
    "    vc = IG(right_labels, U0, U1, which='gini')\n",
    "    if vc > result['IG']:\n",
    "        result['v'] = x2\n",
    "        result['IG'] = vc\n",
    "        x = 'x2'\n",
    "result['which_x'] = x\n",
    "result"
   ]
  },
  {
   "cell_type": "code",
   "execution_count": 23,
   "metadata": {},
   "outputs": [],
   "source": [
    "v3 = result['v']"
   ]
  },
  {
   "cell_type": "code",
   "execution_count": 25,
   "metadata": {},
   "outputs": [],
   "source": [
    "t = np.arange(-1, 1, 0.05)"
   ]
  },
  {
   "cell_type": "code",
   "execution_count": 26,
   "metadata": {},
   "outputs": [
    {
     "data": {
      "image/png": "[encoded data removed]",
      "text/plain": [
       "<Figure size 432x288 with 1 Axes>"
      ]
     },
     "metadata": {
      "needs_background": "light"
     },
     "output_type": "display_data"
    }
   ],
   "source": [
    "text_params = {'ha': 'center', \n",
    "               'va': 'top', \n",
    "               'family': 'sans-serif',\n",
    "               'fontweight': 'bold'}\n",
    "plt.scatter(train_data[:, 0], train_data[:, 1], \n",
    "            c=train_labels, s=100, cmap='Set1', edgecolors='black', linewidth=1.5)\n",
    "for (i, j), l in zip(train_data, train_labels):\n",
    "    plt.text(i + 0.07, j - 0.1, f'{int(l)}', **text_params)\n",
    "plt.plot(t, np.full(t.shape, v1), '--', color='black', label='step1')\n",
    "plt.plot(np.full(t.shape, v2), t , '--', color='darkblue', label='step2')\n",
    "plt.plot(t, np.full(t.shape, v3), '--', color='darkblue', label='step2')\n",
    "plt.xlim(-1, 1)\n",
    "plt.ylim(-1.2, 1.2)\n",
    "plt.legend()\n",
    "plt.show()"
   ]
  },
  {
   "cell_type": "markdown",
   "metadata": {},
   "source": [
    "# 2. Решение задачи регрессии"
   ]
  },
  {
   "cell_type": "code",
   "execution_count": 23,
   "metadata": {},
   "outputs": [],
   "source": [
    "X = np.linspace(-2, 2, 10)\n",
    "y = X ** 3"
   ]
  },
  {
   "cell_type": "markdown",
   "metadata": {},
   "source": [
    "Необходимо построить дерево регрессии для решения следующей задачи:"
   ]
  },
  {
   "cell_type": "code",
   "execution_count": 24,
   "metadata": {},
   "outputs": [
    {
     "data": {
      "image/png": "[encoded data removed]",
      "text/plain": [
       "<Figure size 432x288 with 1 Axes>"
      ]
     },
     "metadata": {
      "needs_background": "light"
     },
     "output_type": "display_data"
    }
   ],
   "source": [
    "plt.scatter(X, y)\n",
    "plt.show()"
   ]
  },
  {
   "cell_type": "markdown",
   "metadata": {},
   "source": [
    "Проделаем несколько шагов в построении дерева регрессии. Исходя из соображений симметрии, выберем пороги для разбиения равными соответственно 0, 1.5 и -1.5. В случае задачи восстановления регрессии листовая вершина выдает среднее значение ответа по всем объектам обучающей выборки, попавшим в эту вершину.\n",
    "\n",
    "**Задание 5.** Дерево глубины 0 состоит из одного корня, который содержит всю обучающую выборку. Как будут выглядеть предсказания данного дерева для $x \\in [-2, 2]$? Постройте соответствующий график."
   ]
  },
  {
   "cell_type": "code",
   "execution_count": null,
   "metadata": {},
   "outputs": [],
   "source": []
  },
  {
   "cell_type": "code",
   "execution_count": null,
   "metadata": {},
   "outputs": [],
   "source": []
  },
  {
   "cell_type": "markdown",
   "metadata": {},
   "source": [
    "**Задание 6.** Произведем первое разбиение выборки по предикату $[x < 0]$. Получим дерево глубины 1 с двумя листьями. Постройте аналогичный график предсказаний для этого дерева."
   ]
  },
  {
   "cell_type": "code",
   "execution_count": null,
   "metadata": {},
   "outputs": [],
   "source": []
  },
  {
   "cell_type": "code",
   "execution_count": null,
   "metadata": {},
   "outputs": [],
   "source": []
  },
  {
   "cell_type": "markdown",
   "metadata": {},
   "source": [
    "В алгоритме построения дерева регрессии признак и значение порога, по которым происходит разбиение выборки, выбираются по дисперсионному критерию:\n",
    "$$Q(X, j, t) = D(X) - \\dfrac{|X_l|}{|X|} D(X_l) - \\dfrac{|X_r|}{|X|} D(X_r),$$\n",
    "где $X$ – выборка, находящаяся в текущей вершине, $X_l$ и $X_r$ – разбиение выборки $X$ на две части по предикату $[x_j < t]$ (то есть по $j$-ому признаку и порогу $t$), а $D(X)$ – дисперсия ответов на выборке $X$:\n",
    "$$D(X) = \\dfrac{1}{|X|} \\sum_{x_j \\in X}(y_j – \\dfrac{1}{|X|}\\sum_{x_i \\in X}y_i)^2,$$\n",
    "где $y_i = y(x_i)$ – ответ на объекте $x_i$. При каждом разбиении вершины выбираются признак $j$ и значение порога $t$, максимизирующие значение функционала $Q(X, j, t)$.\n",
    "\n",
    "В нашем случае признак всего один, поэтому $Q$ зависит только от значения порога $t$ (и ответов выборки в данной вершине). \n",
    "\n",
    "**Задание 7.** Постройте график функции $Q(X, t)$ в корне в зависимости от значения порога $t$ на отрезке $[-1.9, 1.9]$."
   ]
  },
  {
   "cell_type": "code",
   "execution_count": 25,
   "metadata": {},
   "outputs": [],
   "source": [
    "def regression_var_criterion(X, y, t):\n",
    "    pass"
   ]
  },
  {
   "cell_type": "code",
   "execution_count": 26,
   "metadata": {},
   "outputs": [],
   "source": [
    "t = np.linspace(-1.9,1.9,200)"
   ]
  },
  {
   "cell_type": "code",
   "execution_count": null,
   "metadata": {},
   "outputs": [],
   "source": []
  },
  {
   "cell_type": "markdown",
   "metadata": {},
   "source": [
    "Оптимально ли с точки зрения дисперсионного критерия выбранное нами значение порога $t = 0$?"
   ]
  },
  {
   "cell_type": "code",
   "execution_count": null,
   "metadata": {},
   "outputs": [],
   "source": []
  },
  {
   "cell_type": "markdown",
   "metadata": {},
   "source": [
    "Теперь произведем разбиение в каждой из листовых вершин. В левой (соответствующей ветви $x < 0$) – по предикату $[x < -1.5]$, а в правой (соответствующей ветви $x \\geqslant 0$) – по предикату $[x < 1.5]$. Получится дерево глубины 2 с 7 вершинами и 4 листьями. Постройте график предсказаний этого дерева для $x \\in [-2, 2]$."
   ]
  },
  {
   "cell_type": "code",
   "execution_count": null,
   "metadata": {},
   "outputs": [],
   "source": []
  },
  {
   "cell_type": "code",
   "execution_count": null,
   "metadata": {},
   "outputs": [],
   "source": []
  },
  {
   "cell_type": "code",
   "execution_count": null,
   "metadata": {},
   "outputs": [],
   "source": []
  }
 ],
 "metadata": {
  "kernelspec": {
   "display_name": "Python 3",
   "language": "python",
   "name": "python3"
  },
  "language_info": {
   "codemirror_mode": {
    "name": "ipython",
    "version": 3
   },
   "file_extension": ".py",
   "mimetype": "text/x-python",
   "name": "python",
   "nbconvert_exporter": "python",
   "pygments_lexer": "ipython3",
   "version": "3.8.3"
  }
 },
 "nbformat": 4,
 "nbformat_minor": 4
}
