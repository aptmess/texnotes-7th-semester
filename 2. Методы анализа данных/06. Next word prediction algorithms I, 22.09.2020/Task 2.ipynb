{
 "cells": [
  {
   "cell_type": "code",
   "execution_count": 1,
   "metadata": {},
   "outputs": [],
   "source": [
    "import numpy as np\n",
    "import pandas as pd\n",
    "import nltk\n",
    "import collections\n",
    "import re\n",
    "import string\n",
    "from nltk.tokenize import sent_tokenize, word_tokenize"
   ]
  },
  {
   "cell_type": "markdown",
   "metadata": {},
   "source": [
    "### Задание 2\n",
    "\n",
    "Учитывание порядка предшествующих слов"
   ]
  },
  {
   "cell_type": "code",
   "execution_count": 2,
   "metadata": {},
   "outputs": [],
   "source": [
    "def ngrams(sentense: list, n: int):\n",
    "    '''\n",
    "    sentense: list \n",
    "    n: ngram\n",
    "    \n",
    "    Выводит сначала 1-gram, потом 2-gram и.т.д - удобно\n",
    "    \n",
    "    >>> test = ['cat','sat','on']\n",
    "    >>> ngrams(test, 2)\n",
    "    <<< ['cat', 'sat', 'on', 'cat sat', 'sat on', 'cat sat on']\n",
    "    '''\n",
    "    \n",
    "    result = []\n",
    "    fullgram = len(sentense)\n",
    "    for i in range(fullgram):\n",
    "        if i == n:\n",
    "            break\n",
    "        for j in range(fullgram-i):\n",
    "            result.append(' '.join(sentense[j:i+1+j]).rstrip('.'))\n",
    "    return result\n",
    "\n",
    "def text_prepare(text):\n",
    "    \"\"\"\n",
    "        text: a string\n",
    "\n",
    "        return: modified string\n",
    "    \"\"\"\n",
    "    # Перевести символы в нижний регистр\n",
    "    text = text.lower()\n",
    "\n",
    "    # Заменить символы пунктуации на пробелы\n",
    "    text = re.sub(r'[{}]'.format(string.punctuation), '', text)\n",
    "\n",
    "    # Удалить \"плохие\" символы\n",
    "    text = re.sub('[^A-Za-z0-9 ]', '', text)\n",
    "    return text"
   ]
  },
  {
   "cell_type": "markdown",
   "metadata": {},
   "source": [
    "#### Test Text"
   ]
  },
  {
   "cell_type": "code",
   "execution_count": 3,
   "metadata": {},
   "outputs": [],
   "source": [
    "text = '''\n",
    "Backgammon is one of the oldest known board games. \n",
    "Its history can be traced back nearly 5,000 years to archeological discoveries in the Middle East. \n",
    "It is a two player game where each player has fifteen checkers \n",
    "which move between twenty-four points according to the roll of two dice.\n",
    "Backgammon do board games every, night fight it in. \n",
    "'''"
   ]
  },
  {
   "cell_type": "markdown",
   "metadata": {},
   "source": [
    "### Our text: Import"
   ]
  },
  {
   "cell_type": "code",
   "execution_count": 3,
   "metadata": {},
   "outputs": [],
   "source": [
    "file_name = 'new.txt'\n",
    "with open(file_name, 'r', encoding='utf-8') as file:\n",
    "    text = file.readlines()\n",
    "text = ''.join(text)"
   ]
  },
  {
   "cell_type": "markdown",
   "metadata": {},
   "source": [
    "### Preprocess - ngrams = 4"
   ]
  },
  {
   "cell_type": "code",
   "execution_count": 4,
   "metadata": {},
   "outputs": [],
   "source": [
    "sentences = nltk.sent_tokenize(text)\n",
    "words_sentences = [sentence.lower().split() for sentence in sentences]"
   ]
  },
  {
   "cell_type": "code",
   "execution_count": 5,
   "metadata": {},
   "outputs": [],
   "source": [
    "n = 4\n",
    "result = [ngrams(snt, n) for snt in words_sentences]\n",
    "flatten = lambda l: [item for sublist in l for item in sublist]\n",
    "words = flatten(result)"
   ]
  },
  {
   "cell_type": "code",
   "execution_count": 12,
   "metadata": {},
   "outputs": [],
   "source": [
    "prepared_words = [text_prepare(word) for word in words]"
   ]
  },
  {
   "cell_type": "code",
   "execution_count": 13,
   "metadata": {},
   "outputs": [],
   "source": [
    "count = collections.Counter(prepared_words)"
   ]
  },
  {
   "cell_type": "markdown",
   "metadata": {},
   "source": [
    "### Full-Matrix \n",
    "\n",
    "need fix"
   ]
  },
  {
   "cell_type": "code",
   "execution_count": 15,
   "metadata": {},
   "outputs": [],
   "source": [
    "data = pd.DataFrame(data = count.items(), columns = ['words', 'nu'])\n",
    "data['len'] = data['words'].apply(lambda x: len(x.split()))"
   ]
  },
  {
   "cell_type": "markdown",
   "metadata": {},
   "source": [
    "#### 3 words back"
   ]
  },
  {
   "cell_type": "code",
   "execution_count": 16,
   "metadata": {},
   "outputs": [
    {
     "data": {
      "text/html": [
       "<div>\n",
       "<style scoped>\n",
       "    .dataframe tbody tr th:only-of-type {\n",
       "        vertical-align: middle;\n",
       "    }\n",
       "\n",
       "    .dataframe tbody tr th {\n",
       "        vertical-align: top;\n",
       "    }\n",
       "\n",
       "    .dataframe thead th {\n",
       "        text-align: right;\n",
       "    }\n",
       "</style>\n",
       "<table border=\"1\" class=\"dataframe\">\n",
       "  <thead>\n",
       "    <tr style=\"text-align: right;\">\n",
       "      <th></th>\n",
       "      <th>words</th>\n",
       "      <th>nu</th>\n",
       "      <th>len</th>\n",
       "      <th>w_3</th>\n",
       "      <th>w_2</th>\n",
       "      <th>w_1</th>\n",
       "      <th>w_0</th>\n",
       "      <th>log_P(w_k-3|w_k)</th>\n",
       "    </tr>\n",
       "  </thead>\n",
       "  <tbody>\n",
       "    <tr>\n",
       "      <th>87</th>\n",
       "      <td>it goes without saying</td>\n",
       "      <td>1</td>\n",
       "      <td>4</td>\n",
       "      <td>it</td>\n",
       "      <td>goes</td>\n",
       "      <td>without</td>\n",
       "      <td>saying</td>\n",
       "      <td>-6.09357</td>\n",
       "    </tr>\n",
       "    <tr>\n",
       "      <th>88</th>\n",
       "      <td>goes without saying that</td>\n",
       "      <td>1</td>\n",
       "      <td>4</td>\n",
       "      <td>goes</td>\n",
       "      <td>without</td>\n",
       "      <td>saying</td>\n",
       "      <td>that</td>\n",
       "      <td>-6.09357</td>\n",
       "    </tr>\n",
       "    <tr>\n",
       "      <th>89</th>\n",
       "      <td>without saying that humans</td>\n",
       "      <td>1</td>\n",
       "      <td>4</td>\n",
       "      <td>without</td>\n",
       "      <td>saying</td>\n",
       "      <td>that</td>\n",
       "      <td>humans</td>\n",
       "      <td>-6.09357</td>\n",
       "    </tr>\n",
       "    <tr>\n",
       "      <th>90</th>\n",
       "      <td>saying that humans mammals</td>\n",
       "      <td>1</td>\n",
       "      <td>4</td>\n",
       "      <td>saying</td>\n",
       "      <td>that</td>\n",
       "      <td>humans</td>\n",
       "      <td>mammals</td>\n",
       "      <td>-6.09357</td>\n",
       "    </tr>\n",
       "    <tr>\n",
       "      <th>91</th>\n",
       "      <td>that humans mammals identifiable</td>\n",
       "      <td>1</td>\n",
       "      <td>4</td>\n",
       "      <td>that</td>\n",
       "      <td>humans</td>\n",
       "      <td>mammals</td>\n",
       "      <td>identifiable</td>\n",
       "      <td>-6.09357</td>\n",
       "    </tr>\n",
       "  </tbody>\n",
       "</table>\n",
       "</div>"
      ],
      "text/plain": [
       "                               words  nu  len      w_3      w_2      w_1  \\\n",
       "87            it goes without saying   1    4       it     goes  without   \n",
       "88          goes without saying that   1    4     goes  without   saying   \n",
       "89        without saying that humans   1    4  without   saying     that   \n",
       "90        saying that humans mammals   1    4   saying     that   humans   \n",
       "91  that humans mammals identifiable   1    4     that   humans  mammals   \n",
       "\n",
       "             w_0  log_P(w_k-3|w_k)  \n",
       "87        saying          -6.09357  \n",
       "88          that          -6.09357  \n",
       "89        humans          -6.09357  \n",
       "90       mammals          -6.09357  \n",
       "91  identifiable          -6.09357  "
      ]
     },
     "execution_count": 16,
     "metadata": {},
     "output_type": "execute_result"
    }
   ],
   "source": [
    "k = n\n",
    "ngram_4 = data[data['len']==k].iloc[:]\n",
    "for i in range(k):\n",
    "    ngram_4[f'w_{k-i-1}'] = ngram_4['words'].apply(lambda x: x.split()[i])\n",
    "ngram_4[f'log_P(w_k-3|w_k)'] = np.log(ngram_4['nu'] / ngram_4['nu'].sum())\n",
    "ngram_4.head()"
   ]
  },
  {
   "cell_type": "markdown",
   "metadata": {},
   "source": [
    "#### 2 words back"
   ]
  },
  {
   "cell_type": "code",
   "execution_count": 17,
   "metadata": {},
   "outputs": [
    {
     "data": {
      "text/html": [
       "<div>\n",
       "<style scoped>\n",
       "    .dataframe tbody tr th:only-of-type {\n",
       "        vertical-align: middle;\n",
       "    }\n",
       "\n",
       "    .dataframe tbody tr th {\n",
       "        vertical-align: top;\n",
       "    }\n",
       "\n",
       "    .dataframe thead th {\n",
       "        text-align: right;\n",
       "    }\n",
       "</style>\n",
       "<table border=\"1\" class=\"dataframe\">\n",
       "  <thead>\n",
       "    <tr style=\"text-align: right;\">\n",
       "      <th></th>\n",
       "      <th>words</th>\n",
       "      <th>nu</th>\n",
       "      <th>len</th>\n",
       "      <th>w_2</th>\n",
       "      <th>w_1</th>\n",
       "      <th>w_0</th>\n",
       "      <th>log_P(w_k-2|w_k)</th>\n",
       "    </tr>\n",
       "  </thead>\n",
       "  <tbody>\n",
       "    <tr>\n",
       "      <th>58</th>\n",
       "      <td>it goes without</td>\n",
       "      <td>1</td>\n",
       "      <td>3</td>\n",
       "      <td>it</td>\n",
       "      <td>goes</td>\n",
       "      <td>without</td>\n",
       "      <td>-6.137727</td>\n",
       "    </tr>\n",
       "    <tr>\n",
       "      <th>59</th>\n",
       "      <td>goes without saying</td>\n",
       "      <td>1</td>\n",
       "      <td>3</td>\n",
       "      <td>goes</td>\n",
       "      <td>without</td>\n",
       "      <td>saying</td>\n",
       "      <td>-6.137727</td>\n",
       "    </tr>\n",
       "    <tr>\n",
       "      <th>60</th>\n",
       "      <td>without saying that</td>\n",
       "      <td>1</td>\n",
       "      <td>3</td>\n",
       "      <td>without</td>\n",
       "      <td>saying</td>\n",
       "      <td>that</td>\n",
       "      <td>-6.137727</td>\n",
       "    </tr>\n",
       "    <tr>\n",
       "      <th>61</th>\n",
       "      <td>saying that humans</td>\n",
       "      <td>1</td>\n",
       "      <td>3</td>\n",
       "      <td>saying</td>\n",
       "      <td>that</td>\n",
       "      <td>humans</td>\n",
       "      <td>-6.137727</td>\n",
       "    </tr>\n",
       "    <tr>\n",
       "      <th>62</th>\n",
       "      <td>that humans mammals</td>\n",
       "      <td>1</td>\n",
       "      <td>3</td>\n",
       "      <td>that</td>\n",
       "      <td>humans</td>\n",
       "      <td>mammals</td>\n",
       "      <td>-6.137727</td>\n",
       "    </tr>\n",
       "  </tbody>\n",
       "</table>\n",
       "</div>"
      ],
      "text/plain": [
       "                  words  nu  len      w_2      w_1      w_0  log_P(w_k-2|w_k)\n",
       "58      it goes without   1    3       it     goes  without         -6.137727\n",
       "59  goes without saying   1    3     goes  without   saying         -6.137727\n",
       "60  without saying that   1    3  without   saying     that         -6.137727\n",
       "61   saying that humans   1    3   saying     that   humans         -6.137727\n",
       "62  that humans mammals   1    3     that   humans  mammals         -6.137727"
      ]
     },
     "execution_count": 17,
     "metadata": {},
     "output_type": "execute_result"
    }
   ],
   "source": [
    "k = n-1\n",
    "ngram_3 = data[data['len']==k].iloc[:]\n",
    "for i in range(k):\n",
    "    ngram_3[f'w_{k-i-1}'] = ngram_3['words'].apply(lambda x: x.split()[i])\n",
    "ngram_3[f'log_P(w_k-2|w_k)'] = np.log(ngram_3['nu'] / ngram_3['nu'].sum())\n",
    "ngram_3.head()"
   ]
  },
  {
   "cell_type": "markdown",
   "metadata": {},
   "source": [
    "#### 1 words back"
   ]
  },
  {
   "cell_type": "code",
   "execution_count": 18,
   "metadata": {},
   "outputs": [
    {
     "data": {
      "text/html": [
       "<div>\n",
       "<style scoped>\n",
       "    .dataframe tbody tr th:only-of-type {\n",
       "        vertical-align: middle;\n",
       "    }\n",
       "\n",
       "    .dataframe tbody tr th {\n",
       "        vertical-align: top;\n",
       "    }\n",
       "\n",
       "    .dataframe thead th {\n",
       "        text-align: right;\n",
       "    }\n",
       "</style>\n",
       "<table border=\"1\" class=\"dataframe\">\n",
       "  <thead>\n",
       "    <tr style=\"text-align: right;\">\n",
       "      <th></th>\n",
       "      <th>words</th>\n",
       "      <th>nu</th>\n",
       "      <th>len</th>\n",
       "      <th>w_1</th>\n",
       "      <th>w_0</th>\n",
       "      <th>log_P(w_k-1|w_k)</th>\n",
       "    </tr>\n",
       "  </thead>\n",
       "  <tbody>\n",
       "    <tr>\n",
       "      <th>28</th>\n",
       "      <td>it goes</td>\n",
       "      <td>1</td>\n",
       "      <td>2</td>\n",
       "      <td>it</td>\n",
       "      <td>goes</td>\n",
       "      <td>-6.180017</td>\n",
       "    </tr>\n",
       "    <tr>\n",
       "      <th>29</th>\n",
       "      <td>goes without</td>\n",
       "      <td>1</td>\n",
       "      <td>2</td>\n",
       "      <td>goes</td>\n",
       "      <td>without</td>\n",
       "      <td>-6.180017</td>\n",
       "    </tr>\n",
       "    <tr>\n",
       "      <th>30</th>\n",
       "      <td>without saying</td>\n",
       "      <td>1</td>\n",
       "      <td>2</td>\n",
       "      <td>without</td>\n",
       "      <td>saying</td>\n",
       "      <td>-6.180017</td>\n",
       "    </tr>\n",
       "    <tr>\n",
       "      <th>31</th>\n",
       "      <td>saying that</td>\n",
       "      <td>1</td>\n",
       "      <td>2</td>\n",
       "      <td>saying</td>\n",
       "      <td>that</td>\n",
       "      <td>-6.180017</td>\n",
       "    </tr>\n",
       "    <tr>\n",
       "      <th>32</th>\n",
       "      <td>that humans</td>\n",
       "      <td>1</td>\n",
       "      <td>2</td>\n",
       "      <td>that</td>\n",
       "      <td>humans</td>\n",
       "      <td>-6.180017</td>\n",
       "    </tr>\n",
       "  </tbody>\n",
       "</table>\n",
       "</div>"
      ],
      "text/plain": [
       "             words  nu  len      w_1      w_0  log_P(w_k-1|w_k)\n",
       "28         it goes   1    2       it     goes         -6.180017\n",
       "29    goes without   1    2     goes  without         -6.180017\n",
       "30  without saying   1    2  without   saying         -6.180017\n",
       "31     saying that   1    2   saying     that         -6.180017\n",
       "32     that humans   1    2     that   humans         -6.180017"
      ]
     },
     "execution_count": 18,
     "metadata": {},
     "output_type": "execute_result"
    }
   ],
   "source": [
    "k = n-2\n",
    "ngram_2 = data[data['len']==k].iloc[:]\n",
    "for i in range(k):\n",
    "    ngram_2[f'w_{k-i-1}'] = ngram_2['words'].apply(lambda x: x.split()[i])\n",
    "ngram_2[f'log_P(w_k-1|w_k)'] = np.log(ngram_2['nu'] / ngram_2['nu'].sum())\n",
    "ngram_2.head()"
   ]
  },
  {
   "cell_type": "markdown",
   "metadata": {},
   "source": [
    "#### Word"
   ]
  },
  {
   "cell_type": "code",
   "execution_count": 19,
   "metadata": {},
   "outputs": [
    {
     "data": {
      "text/html": [
       "<div>\n",
       "<style scoped>\n",
       "    .dataframe tbody tr th:only-of-type {\n",
       "        vertical-align: middle;\n",
       "    }\n",
       "\n",
       "    .dataframe tbody tr th {\n",
       "        vertical-align: top;\n",
       "    }\n",
       "\n",
       "    .dataframe thead th {\n",
       "        text-align: right;\n",
       "    }\n",
       "</style>\n",
       "<table border=\"1\" class=\"dataframe\">\n",
       "  <thead>\n",
       "    <tr style=\"text-align: right;\">\n",
       "      <th></th>\n",
       "      <th>words</th>\n",
       "      <th>nu</th>\n",
       "      <th>len</th>\n",
       "      <th>w_0</th>\n",
       "      <th>log_P(w_0)</th>\n",
       "    </tr>\n",
       "  </thead>\n",
       "  <tbody>\n",
       "    <tr>\n",
       "      <th>0</th>\n",
       "      <td>it</td>\n",
       "      <td>3</td>\n",
       "      <td>1</td>\n",
       "      <td>it</td>\n",
       "      <td>-5.121978</td>\n",
       "    </tr>\n",
       "    <tr>\n",
       "      <th>1</th>\n",
       "      <td>goes</td>\n",
       "      <td>1</td>\n",
       "      <td>1</td>\n",
       "      <td>goes</td>\n",
       "      <td>-6.220590</td>\n",
       "    </tr>\n",
       "    <tr>\n",
       "      <th>2</th>\n",
       "      <td>without</td>\n",
       "      <td>1</td>\n",
       "      <td>1</td>\n",
       "      <td>without</td>\n",
       "      <td>-6.220590</td>\n",
       "    </tr>\n",
       "    <tr>\n",
       "      <th>3</th>\n",
       "      <td>saying</td>\n",
       "      <td>1</td>\n",
       "      <td>1</td>\n",
       "      <td>saying</td>\n",
       "      <td>-6.220590</td>\n",
       "    </tr>\n",
       "    <tr>\n",
       "      <th>4</th>\n",
       "      <td>that</td>\n",
       "      <td>20</td>\n",
       "      <td>1</td>\n",
       "      <td>that</td>\n",
       "      <td>-3.224858</td>\n",
       "    </tr>\n",
       "  </tbody>\n",
       "</table>\n",
       "</div>"
      ],
      "text/plain": [
       "     words  nu  len      w_0  log_P(w_0)\n",
       "0       it   3    1       it   -5.121978\n",
       "1     goes   1    1     goes   -6.220590\n",
       "2  without   1    1  without   -6.220590\n",
       "3   saying   1    1   saying   -6.220590\n",
       "4     that  20    1     that   -3.224858"
      ]
     },
     "execution_count": 19,
     "metadata": {},
     "output_type": "execute_result"
    }
   ],
   "source": [
    "k = n-3\n",
    "ngram_1 = data[data['len']==k].iloc[:]\n",
    "for i in range(k):\n",
    "    ngram_1[f'w_{k-i-1}'] = ngram_1['words'].apply(lambda x: x.split()[i])\n",
    "ngram_1[f'log_P(w_0)'] = np.log(ngram_1['nu'] / ngram_1['nu'].sum())\n",
    "ngram_1.head()"
   ]
  },
  {
   "cell_type": "markdown",
   "metadata": {},
   "source": [
    "#### Concatenation"
   ]
  },
  {
   "cell_type": "code",
   "execution_count": 20,
   "metadata": {},
   "outputs": [],
   "source": [
    "full = pd.concat((ngram_1,ngram_2,ngram_3,ngram_4)).fillna(0)"
   ]
  },
  {
   "cell_type": "code",
   "execution_count": 21,
   "metadata": {},
   "outputs": [
    {
     "data": {
      "text/html": [
       "<div>\n",
       "<style scoped>\n",
       "    .dataframe tbody tr th:only-of-type {\n",
       "        vertical-align: middle;\n",
       "    }\n",
       "\n",
       "    .dataframe tbody tr th {\n",
       "        vertical-align: top;\n",
       "    }\n",
       "\n",
       "    .dataframe thead th {\n",
       "        text-align: right;\n",
       "    }\n",
       "</style>\n",
       "<table border=\"1\" class=\"dataframe\">\n",
       "  <thead>\n",
       "    <tr style=\"text-align: right;\">\n",
       "      <th></th>\n",
       "      <th>words</th>\n",
       "      <th>nu</th>\n",
       "      <th>len</th>\n",
       "      <th>w_0</th>\n",
       "      <th>log_P(w_0)</th>\n",
       "      <th>w_1</th>\n",
       "      <th>log_P(w_k-1|w_k)</th>\n",
       "      <th>w_2</th>\n",
       "      <th>log_P(w_k-2|w_k)</th>\n",
       "      <th>w_3</th>\n",
       "      <th>log_P(w_k-3|w_k)</th>\n",
       "    </tr>\n",
       "  </thead>\n",
       "  <tbody>\n",
       "    <tr>\n",
       "      <th>0</th>\n",
       "      <td>it</td>\n",
       "      <td>3</td>\n",
       "      <td>1</td>\n",
       "      <td>it</td>\n",
       "      <td>-5.121978</td>\n",
       "      <td>0</td>\n",
       "      <td>0.0</td>\n",
       "      <td>0</td>\n",
       "      <td>0.0</td>\n",
       "      <td>0</td>\n",
       "      <td>0.0</td>\n",
       "    </tr>\n",
       "    <tr>\n",
       "      <th>1</th>\n",
       "      <td>goes</td>\n",
       "      <td>1</td>\n",
       "      <td>1</td>\n",
       "      <td>goes</td>\n",
       "      <td>-6.220590</td>\n",
       "      <td>0</td>\n",
       "      <td>0.0</td>\n",
       "      <td>0</td>\n",
       "      <td>0.0</td>\n",
       "      <td>0</td>\n",
       "      <td>0.0</td>\n",
       "    </tr>\n",
       "    <tr>\n",
       "      <th>2</th>\n",
       "      <td>without</td>\n",
       "      <td>1</td>\n",
       "      <td>1</td>\n",
       "      <td>without</td>\n",
       "      <td>-6.220590</td>\n",
       "      <td>0</td>\n",
       "      <td>0.0</td>\n",
       "      <td>0</td>\n",
       "      <td>0.0</td>\n",
       "      <td>0</td>\n",
       "      <td>0.0</td>\n",
       "    </tr>\n",
       "    <tr>\n",
       "      <th>3</th>\n",
       "      <td>saying</td>\n",
       "      <td>1</td>\n",
       "      <td>1</td>\n",
       "      <td>saying</td>\n",
       "      <td>-6.220590</td>\n",
       "      <td>0</td>\n",
       "      <td>0.0</td>\n",
       "      <td>0</td>\n",
       "      <td>0.0</td>\n",
       "      <td>0</td>\n",
       "      <td>0.0</td>\n",
       "    </tr>\n",
       "    <tr>\n",
       "      <th>4</th>\n",
       "      <td>that</td>\n",
       "      <td>20</td>\n",
       "      <td>1</td>\n",
       "      <td>that</td>\n",
       "      <td>-3.224858</td>\n",
       "      <td>0</td>\n",
       "      <td>0.0</td>\n",
       "      <td>0</td>\n",
       "      <td>0.0</td>\n",
       "      <td>0</td>\n",
       "      <td>0.0</td>\n",
       "    </tr>\n",
       "  </tbody>\n",
       "</table>\n",
       "</div>"
      ],
      "text/plain": [
       "     words  nu  len      w_0  log_P(w_0) w_1  log_P(w_k-1|w_k) w_2  \\\n",
       "0       it   3    1       it   -5.121978   0               0.0   0   \n",
       "1     goes   1    1     goes   -6.220590   0               0.0   0   \n",
       "2  without   1    1  without   -6.220590   0               0.0   0   \n",
       "3   saying   1    1   saying   -6.220590   0               0.0   0   \n",
       "4     that  20    1     that   -3.224858   0               0.0   0   \n",
       "\n",
       "   log_P(w_k-2|w_k) w_3  log_P(w_k-3|w_k)  \n",
       "0               0.0   0               0.0  \n",
       "1               0.0   0               0.0  \n",
       "2               0.0   0               0.0  \n",
       "3               0.0   0               0.0  \n",
       "4               0.0   0               0.0  "
      ]
     },
     "execution_count": 21,
     "metadata": {},
     "output_type": "execute_result"
    }
   ],
   "source": [
    "full.head()"
   ]
  },
  {
   "cell_type": "code",
   "execution_count": 22,
   "metadata": {},
   "outputs": [
    {
     "data": {
      "text/plain": [
       "(1481, 11)"
      ]
     },
     "execution_count": 22,
     "metadata": {},
     "output_type": "execute_result"
    }
   ],
   "source": [
    "full.shape"
   ]
  },
  {
   "cell_type": "markdown",
   "metadata": {},
   "source": [
    "### Testing Predicting Word"
   ]
  },
  {
   "cell_type": "code",
   "execution_count": 23,
   "metadata": {},
   "outputs": [],
   "source": [
    "def predict_next_word(full, word):\n",
    "    d = full[((full['w_1']==word) | (full['w_2']==word) | (full['w_3']==word))]\n",
    "    e = full[(full['w_0'] == word) & (full['len']==1)]['log_P(w_0)'].values + d['log_P(w_k-1|w_k)']+d['log_P(w_k-2|w_k)']+d['log_P(w_k-3|w_k)']\n",
    "    try:\n",
    "        result = full.iloc[e.index[np.argmax(e)]]['w_0']\n",
    "        return result\n",
    "    except:\n",
    "        return f\"Word {word} is not in vocalbulary\""
   ]
  },
  {
   "cell_type": "code",
   "execution_count": 24,
   "metadata": {},
   "outputs": [
    {
     "data": {
      "text/plain": [
       "'see'"
      ]
     },
     "execution_count": 24,
     "metadata": {},
     "output_type": "execute_result"
    }
   ],
   "source": [
    "predict_next_word(full, 'have') "
   ]
  },
  {
   "cell_type": "markdown",
   "metadata": {},
   "source": [
    "Не предлог - радует. Проверим на остальных примерах."
   ]
  },
  {
   "cell_type": "code",
   "execution_count": 25,
   "metadata": {},
   "outputs": [
    {
     "data": {
      "text/html": [
       "<div>\n",
       "<style scoped>\n",
       "    .dataframe tbody tr th:only-of-type {\n",
       "        vertical-align: middle;\n",
       "    }\n",
       "\n",
       "    .dataframe tbody tr th {\n",
       "        vertical-align: top;\n",
       "    }\n",
       "\n",
       "    .dataframe thead th {\n",
       "        text-align: right;\n",
       "    }\n",
       "</style>\n",
       "<table border=\"1\" class=\"dataframe\">\n",
       "  <thead>\n",
       "    <tr style=\"text-align: right;\">\n",
       "      <th></th>\n",
       "      <th>word</th>\n",
       "      <th>next_word</th>\n",
       "    </tr>\n",
       "  </thead>\n",
       "  <tbody>\n",
       "    <tr>\n",
       "      <th>0</th>\n",
       "      <td>that</td>\n",
       "      <td>spherical</td>\n",
       "    </tr>\n",
       "    <tr>\n",
       "      <th>1</th>\n",
       "      <td>top</td>\n",
       "      <td>and</td>\n",
       "    </tr>\n",
       "    <tr>\n",
       "      <th>2</th>\n",
       "      <td>spherical</td>\n",
       "      <td>top</td>\n",
       "    </tr>\n",
       "    <tr>\n",
       "      <th>3</th>\n",
       "      <td>and</td>\n",
       "      <td>in</td>\n",
       "    </tr>\n",
       "    <tr>\n",
       "      <th>4</th>\n",
       "      <td>in</td>\n",
       "      <td>text</td>\n",
       "    </tr>\n",
       "    <tr>\n",
       "      <th>5</th>\n",
       "      <td>goes</td>\n",
       "      <td>located</td>\n",
       "    </tr>\n",
       "    <tr>\n",
       "      <th>6</th>\n",
       "      <td>located</td>\n",
       "      <td>of</td>\n",
       "    </tr>\n",
       "    <tr>\n",
       "      <th>7</th>\n",
       "      <td>be</td>\n",
       "      <td>associated</td>\n",
       "    </tr>\n",
       "    <tr>\n",
       "      <th>8</th>\n",
       "      <td>with</td>\n",
       "      <td>that</td>\n",
       "    </tr>\n",
       "    <tr>\n",
       "      <th>9</th>\n",
       "      <td>as</td>\n",
       "      <td>horizontal</td>\n",
       "    </tr>\n",
       "    <tr>\n",
       "      <th>10</th>\n",
       "      <td>way</td>\n",
       "      <td>pretty</td>\n",
       "    </tr>\n",
       "    <tr>\n",
       "      <th>11</th>\n",
       "      <td>have</td>\n",
       "      <td>see</td>\n",
       "    </tr>\n",
       "  </tbody>\n",
       "</table>\n",
       "</div>"
      ],
      "text/plain": [
       "         word   next_word\n",
       "0        that   spherical\n",
       "1         top         and\n",
       "2   spherical         top\n",
       "3         and          in\n",
       "4          in        text\n",
       "5        goes     located\n",
       "6     located          of\n",
       "7          be  associated\n",
       "8        with        that\n",
       "9          as  horizontal\n",
       "10        way      pretty\n",
       "11       have         see"
      ]
     },
     "execution_count": 25,
     "metadata": {},
     "output_type": "execute_result"
    }
   ],
   "source": [
    "words = ['that', 'top', 'spherical', 'and', 'in', 'goes', 'located', 'be', 'with', 'as', 'way', 'have']\n",
    "\n",
    "next_word = [(word, predict_next_word(full, word = word)) for word in words]\n",
    "no_preparation_result = pd.DataFrame(data = next_word, columns = ['word', 'next_word'])\n",
    "no_preparation_result"
   ]
  },
  {
   "cell_type": "markdown",
   "metadata": {},
   "source": [
    "Данный метод, оценивающий вероятнотсь появления слова на основании появления m-предыдущих слов, весьма хорошо справляется со своей работой."
   ]
  },
  {
   "cell_type": "code",
   "execution_count": 20,
   "metadata": {},
   "outputs": [
    {
     "name": "stdout",
     "output_type": "stream",
     "text": [
      "with that spherical top and in text\n"
     ]
    }
   ],
   "source": [
    "word = 'with'\n",
    "\n",
    "for i in range(6):\n",
    "    print(word, end=' ')\n",
    "    word = predict_next_word(full, word)\n",
    "    \n",
    "print(word)"
   ]
  }
 ],
 "metadata": {
  "kernelspec": {
   "display_name": "Python 3",
   "language": "python",
   "name": "python3"
  },
  "language_info": {
   "codemirror_mode": {
    "name": "ipython",
    "version": 3
   },
   "file_extension": ".py",
   "mimetype": "text/x-python",
   "name": "python",
   "nbconvert_exporter": "python",
   "pygments_lexer": "ipython3",
   "version": "3.8.3"
  }
 },
 "nbformat": 4,
 "nbformat_minor": 4
}
