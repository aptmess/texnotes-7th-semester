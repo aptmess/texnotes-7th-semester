{
 "cells": [
  {
   "cell_type": "markdown",
   "metadata": {},
   "source": [
    "# Adaboost"
   ]
  },
  {
   "cell_type": "markdown",
   "metadata": {},
   "source": [
    "Импорт библиотек"
   ]
  },
  {
   "cell_type": "code",
   "execution_count": 1,
   "metadata": {},
   "outputs": [],
   "source": [
    "import numpy as np\n",
    "import pandas as pd\n",
    "\n",
    "import matplotlib.pyplot as plt\n",
    "%matplotlib inline"
   ]
  },
  {
   "cell_type": "code",
   "execution_count": 2,
   "metadata": {},
   "outputs": [
    {
     "data": {
      "text/html": [
       "<div>\n",
       "<style scoped>\n",
       "    .dataframe tbody tr th:only-of-type {\n",
       "        vertical-align: middle;\n",
       "    }\n",
       "\n",
       "    .dataframe tbody tr th {\n",
       "        vertical-align: top;\n",
       "    }\n",
       "\n",
       "    .dataframe thead th {\n",
       "        text-align: right;\n",
       "    }\n",
       "</style>\n",
       "<table border=\"1\" class=\"dataframe\">\n",
       "  <thead>\n",
       "    <tr style=\"text-align: right;\">\n",
       "      <th></th>\n",
       "      <th>x</th>\n",
       "      <th>y</th>\n",
       "      <th>t</th>\n",
       "    </tr>\n",
       "  </thead>\n",
       "  <tbody>\n",
       "    <tr>\n",
       "      <th>0</th>\n",
       "      <td>1.3</td>\n",
       "      <td>4.0</td>\n",
       "      <td>1</td>\n",
       "    </tr>\n",
       "    <tr>\n",
       "      <th>1</th>\n",
       "      <td>1.0</td>\n",
       "      <td>2.0</td>\n",
       "      <td>1</td>\n",
       "    </tr>\n",
       "    <tr>\n",
       "      <th>2</th>\n",
       "      <td>2.0</td>\n",
       "      <td>2.5</td>\n",
       "      <td>1</td>\n",
       "    </tr>\n",
       "    <tr>\n",
       "      <th>3</th>\n",
       "      <td>2.0</td>\n",
       "      <td>3.5</td>\n",
       "      <td>-1</td>\n",
       "    </tr>\n",
       "    <tr>\n",
       "      <th>4</th>\n",
       "      <td>2.5</td>\n",
       "      <td>0.5</td>\n",
       "      <td>1</td>\n",
       "    </tr>\n",
       "  </tbody>\n",
       "</table>\n",
       "</div>"
      ],
      "text/plain": [
       "     x    y  t\n",
       "0  1.3  4.0  1\n",
       "1  1.0  2.0  1\n",
       "2  2.0  2.5  1\n",
       "3  2.0  3.5 -1\n",
       "4  2.5  0.5  1"
      ]
     },
     "execution_count": 2,
     "metadata": {},
     "output_type": "execute_result"
    }
   ],
   "source": [
    "data = pd.read_csv('data/data_adaboost.csv', names=['x', 'y', 't'])\n",
    "data.head()"
   ]
  },
  {
   "cell_type": "code",
   "execution_count": 3,
   "metadata": {},
   "outputs": [
    {
     "data": {
      "image/png": "[encoded data removed]",
      "text/plain": [
       "<Figure size 432x432 with 1 Axes>"
      ]
     },
     "metadata": {
      "needs_background": "light"
     },
     "output_type": "display_data"
    }
   ],
   "source": [
    "data.plot(x='x', y='y', kind='scatter', figsize=(6, 6))\n",
    "plt.show()"
   ]
  },
  {
   "cell_type": "code",
   "execution_count": 4,
   "metadata": {},
   "outputs": [],
   "source": [
    "from sklearn.base import BaseEstimator\n",
    "from sklearn.metrics import accuracy_score"
   ]
  },
  {
   "cell_type": "code",
   "execution_count": 5,
   "metadata": {},
   "outputs": [],
   "source": [
    "X = data.values[:, :2]\n",
    "y = data['t'].values"
   ]
  },
  {
   "cell_type": "code",
   "execution_count": 6,
   "metadata": {},
   "outputs": [],
   "source": [
    "class DecisionStump():\n",
    "    \n",
    "    def __init__(self, weights='eq', feature=0, threshold=0, greater=True):\n",
    "        self.weights = weights\n",
    "        self.feature = feature\n",
    "        self.threshold = threshold\n",
    "        self.greater = greater\n",
    "    \n",
    "    def fit(self, X, y):\n",
    "        if type(self.weights) == str:\n",
    "            self.weights = np.ones(len(X)) / len(X) \n",
    "        self.feature = 0\n",
    "        self.threshold = 0\n",
    "        self.greater = True\n",
    "        for f in range(X.shape[1]):\n",
    "            thresholds = (X[1:, f] + X[:-1, f])/2\n",
    "            for t in thresholds:\n",
    "                for g in [True, False]:\n",
    "                    cls = DecisionStump(weights=self.weights, feature=f, threshold=t, greater=g)\n",
    "                    if cls.epsilon(X, y) < self.epsilon(X, y):\n",
    "                        self.feature = f\n",
    "                        self.threshold = t\n",
    "                        self.greater = g\n",
    "        return self\n",
    "\n",
    "    def predict(self, X):\n",
    "        if self.greater:\n",
    "            mask = X[:, self.feature] <= self.threshold\n",
    "        else:\n",
    "            mask = X[:, self.feature] >= self.threshold\n",
    "        return np.where(mask, 1, -1)\n",
    "        \n",
    "    def epsilon(self, X, y):\n",
    "        return self.weights.dot(np.abs(y - self.predict(X)) / 2)\n",
    "    \n",
    "    def alpha(self, X, y):\n",
    "        eps = self.epsilon(X, y)\n",
    "        return np.log((1 - eps)/eps)/2"
   ]
  },
  {
   "cell_type": "code",
   "execution_count": 7,
   "metadata": {},
   "outputs": [],
   "source": [
    "class AdaBoost(BaseEstimator):\n",
    "    \n",
    "    def __init__(self, n_estimators=50):\n",
    "        self.n_estimators = n_estimators\n",
    "        self.estimators = []\n",
    "        self.alphas = []\n",
    "    \n",
    "    def fit(self, X, y):\n",
    "        self.weights = np.ones(len(X)) / len(X)\n",
    "        \n",
    "        for t in range(self.n_estimators):\n",
    "            cls = DecisionStump(weights=self.weights).fit(X, y) #новый b_t\n",
    "            a, b = cls.alpha(X, y), cls.predict(X) #считаем предсказания и альфа\n",
    "            self.weights *= np.exp(-a*b*y) #обновляем веса\n",
    "            self.weights /= self.weights.sum() #нормируем веса\n",
    "            \n",
    "            self.estimators.append(cls) #сохраняем классификатор\n",
    "            self.alphas.append(a) #сохраняем альфа\n",
    "            \n",
    "        self.alphas = np.array(self.alphas)\n",
    "        return self\n",
    "    \n",
    "    def predict(self, X):\n",
    "        votes = np.array([self.alphas[t]*self.estimators[t].predict(X) for t in range(self.n_estimators)]).sum(axis=0)\n",
    "        return np.array(np.sign(votes), dtype='int64')"
   ]
  },
  {
   "cell_type": "code",
   "execution_count": 8,
   "metadata": {},
   "outputs": [],
   "source": [
    "cls = AdaBoost(n_estimators=3).fit(X, y)"
   ]
  },
  {
   "cell_type": "code",
   "execution_count": 9,
   "metadata": {},
   "outputs": [
    {
     "name": "stdout",
     "output_type": "stream",
     "text": [
      "[ 1  1  1 -1  1  1 -1  1 -1 -1 -1 -1]\n",
      "[ 1  1  1 -1  1  1 -1 -1 -1 -1 -1 -1]\n"
     ]
    },
    {
     "data": {
      "text/plain": [
       "0.9166666666666666"
      ]
     },
     "execution_count": 9,
     "metadata": {},
     "output_type": "execute_result"
    }
   ],
   "source": [
    "y_pred = cls.predict(X)\n",
    "print(y, y_pred, sep='\\n')\n",
    "accuracy_score(y, y_pred)"
   ]
  },
  {
   "cell_type": "code",
   "execution_count": 10,
   "metadata": {},
   "outputs": [
    {
     "data": {
      "text/plain": [
       "array([[3., 2.]])"
      ]
     },
     "execution_count": 10,
     "metadata": {},
     "output_type": "execute_result"
    }
   ],
   "source": [
    "X[y != y_pred]"
   ]
  },
  {
   "cell_type": "code",
   "execution_count": 11,
   "metadata": {},
   "outputs": [
    {
     "data": {
      "text/plain": [
       "array([-1], dtype=int64)"
      ]
     },
     "execution_count": 11,
     "metadata": {},
     "output_type": "execute_result"
    }
   ],
   "source": [
    "cls.predict(np.array([[4., 4.]]))"
   ]
  }
 ],
 "metadata": {
  "kernelspec": {
   "display_name": "Python 3",
   "language": "python",
   "name": "python3"
  },
  "language_info": {
   "codemirror_mode": {
    "name": "ipython",
    "version": 3
   },
   "file_extension": ".py",
   "mimetype": "text/x-python",
   "name": "python",
   "nbconvert_exporter": "python",
   "pygments_lexer": "ipython3",
   "version": "3.8.3"
  }
 },
 "nbformat": 4,
 "nbformat_minor": 4
}
