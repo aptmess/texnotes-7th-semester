{
 "cells": [
  {
   "cell_type": "code",
   "execution_count": 1,
   "metadata": {},
   "outputs": [],
   "source": [
    "import pandas as pd\n",
    "import numpy as np\n",
    "import matplotlib.pyplot as plt\n",
    "from linkage import *\n",
    "%matplotlib inline"
   ]
  },
  {
   "cell_type": "markdown",
   "metadata": {},
   "source": [
    "#### 1. data"
   ]
  },
  {
   "cell_type": "code",
   "execution_count": 2,
   "metadata": {},
   "outputs": [],
   "source": [
    "data = pd.read_csv('data_adaboost.csv', header=None)"
   ]
  },
  {
   "cell_type": "code",
   "execution_count": 3,
   "metadata": {},
   "outputs": [],
   "source": [
    "class_1 = data[data[2] == 1].iloc[:, :2].values\n",
    "class_2 = data[data[2] == -1].iloc[:, :2].values"
   ]
  },
  {
   "cell_type": "code",
   "execution_count": 4,
   "metadata": {},
   "outputs": [
    {
     "data": {
      "image/png": "[encoded data removed]",
      "text/plain": [
       "<Figure size 576x576 with 1 Axes>"
      ]
     },
     "metadata": {
      "needs_background": "light"
     },
     "output_type": "display_data"
    }
   ],
   "source": [
    "fig, ax = plt.subplots(1, 1, figsize = (8, 8))\n",
    "ax.scatter(class_1[:, 0], class_1[:, 1], color='darkred', label='1')\n",
    "ax.scatter(class_2[:, 0], class_2[:, 1], color='darkblue', label='-1')\n",
    "ax.legend(fontsize=14)\n",
    "ax.set_xlabel('x', fontsize=14)\n",
    "ax.set_ylabel('y', fontsize=14)\n",
    "ax.set_title('Data')\n",
    "plt.show()"
   ]
  },
  {
   "cell_type": "markdown",
   "metadata": {},
   "source": [
    "#### 2. пороги $x_1$ и $x_2$"
   ]
  },
  {
   "cell_type": "code",
   "execution_count": 5,
   "metadata": {},
   "outputs": [],
   "source": [
    "x1, x2 = [], []\n",
    "for i in range(data.shape[0]-1):\n",
    "    if data.loc[i][2] != data.loc[i+1][2]:\n",
    "        x1.append(np.mean([data.loc[i][0], data.loc[i+1][0]]))\n",
    "        x2.append(np.mean([data.loc[i][1], data.loc[i+1][1]]))"
   ]
  },
  {
   "cell_type": "code",
   "execution_count": 6,
   "metadata": {},
   "outputs": [
    {
     "data": {
      "text/plain": [
       "{'x1': [2.0, 2.25, 2.3, 2.65, 3.0], 'x2': [3.0, 2.0, 2.75, 3.0, 2.75]}"
      ]
     },
     "execution_count": 6,
     "metadata": {},
     "output_type": "execute_result"
    }
   ],
   "source": [
    "result_dict = {'x1':x1, 'x2':x2}\n",
    "result_dict"
   ]
  },
  {
   "cell_type": "markdown",
   "metadata": {},
   "source": [
    "#### 3. начальная значения всов объектов\n",
    "\n",
    "$$w_i^{(0)} = \\frac{1}{l}$$"
   ]
  },
  {
   "cell_type": "code",
   "execution_count": 7,
   "metadata": {},
   "outputs": [
    {
     "data": {
      "text/plain": [
       "array([0.08333333, 0.08333333, 0.08333333, 0.08333333, 0.08333333,\n",
       "       0.08333333, 0.08333333, 0.08333333, 0.08333333, 0.08333333,\n",
       "       0.08333333, 0.08333333])"
      ]
     },
     "execution_count": 7,
     "metadata": {},
     "output_type": "execute_result"
    }
   ],
   "source": [
    "w0 = np.full(data.shape[0], 1 / data.shape[0])\n",
    "w0"
   ]
  },
  {
   "cell_type": "markdown",
   "metadata": {},
   "source": [
    "#### 4. Алгоритм AdaBoost"
   ]
  },
  {
   "cell_type": "code",
   "execution_count": 27,
   "metadata": {},
   "outputs": [],
   "source": [
    "X = data.iloc[:, :2].values\n",
    "y = data.iloc[:, 2:].values.ravel()"
   ]
  },
  {
   "cell_type": "code",
   "execution_count": 28,
   "metadata": {},
   "outputs": [],
   "source": [
    "def get(train_data, train_labels, w0, x_1, x_2):\n",
    "    result = {'v': 0, 'IG': -10e6}\n",
    "    for x1 in x_1:\n",
    "        U0 = train_labels[train_data[:, 0] < x1]\n",
    "        U1 = train_labels[train_data[:, 0] >= x1]\n",
    "        vc = IG(train_labels, U0, U1)\n",
    "        if vc > result['IG']:\n",
    "            result['v'] = x1\n",
    "            result['IG'] = vc\n",
    "            x = 'x1'\n",
    "\n",
    "    for x2 in x_2:\n",
    "        U0 = train_labels[train_data[:, 1] < x2]\n",
    "        U1 = train_labels[train_data[:, 1] >= x2]\n",
    "        vc = IG(train_labels, U0, U1)\n",
    "        if vc > result['IG']:\n",
    "            result['v'] = x2\n",
    "            result['IG'] = vc\n",
    "            x = 'x2'\n",
    "    result['which_x'] = x\n",
    "    answer = get_data(train_data, train_labels,result).astype(int)\n",
    "    answer[answer == 0] = -1\n",
    "    mean_error = np.sum((answer == train_labels).astype(int) * w0)\n",
    "    return mean_error, answer"
   ]
  },
  {
   "cell_type": "code",
   "execution_count": 29,
   "metadata": {},
   "outputs": [
    {
     "data": {
      "text/plain": [
       "(0.6666666666666666, array([ 1,  1, -1, -1, -1, -1, -1, -1, -1, -1, -1, -1]))"
      ]
     },
     "execution_count": 29,
     "metadata": {},
     "output_type": "execute_result"
    }
   ],
   "source": [
    "get(X, y, w0, x1, x2)"
   ]
  },
  {
   "cell_type": "code",
   "execution_count": 53,
   "metadata": {},
   "outputs": [],
   "source": [
    "def train(X, y, w0, x1, x2, T=3):\n",
    "    answers = []\n",
    "    alphas = []\n",
    "    for i in np.arange(T):\n",
    "        error, b = get(X, y, w0, x1, x2)\n",
    "        alpha = 1 / 2 * np.log((1 - error) / error)\n",
    "        w0 = w0 * np.exp(-alpha * y.ravel() * b)\n",
    "        w0 = w0 / np.sum(w0)\n",
    "        answers.append(b)\n",
    "        alphas.append(alpha)\n",
    "    return np.array([i * j for i, j in zip(answers, alphas)])"
   ]
  }
 ],
 "metadata": {
  "kernelspec": {
   "display_name": "Python 3",
   "language": "python",
   "name": "python3"
  },
  "language_info": {
   "codemirror_mode": {
    "name": "ipython",
    "version": 3
   },
   "file_extension": ".py",
   "mimetype": "text/x-python",
   "name": "python",
   "nbconvert_exporter": "python",
   "pygments_lexer": "ipython3",
   "version": "3.8.3"
  }
 },
 "nbformat": 4,
 "nbformat_minor": 4
}
