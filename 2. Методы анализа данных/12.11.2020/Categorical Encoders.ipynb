{
 "cells": [
  {
   "cell_type": "code",
   "execution_count": 82,
   "metadata": {},
   "outputs": [],
   "source": [
    "import numpy as np\n",
    "import pandas as pd\n",
    "from sklearn.ensemble import RandomForestClassifier\n",
    "from sklearn.model_selection import cross_val_predict \n",
    "from sklearn.model_selection import KFold \n",
    "from sklearn.metrics import roc_auc_score\n",
    "from sklearn.preprocessing import LabelEncoder, OneHotEncoder"
   ]
  },
  {
   "cell_type": "code",
   "execution_count": 83,
   "metadata": {},
   "outputs": [],
   "source": [
    "adult = pd.read_csv('adult.csv')\n",
    "customer_churn = pd.read_csv('Customer-Churn.csv')\n",
    "employee = pd.read_csv('employee.csv')"
   ]
  },
  {
   "cell_type": "markdown",
   "metadata": {},
   "source": [
    "## Adult"
   ]
  },
  {
   "cell_type": "markdown",
   "metadata": {},
   "source": [
    "### FreqEncoder"
   ]
  },
  {
   "cell_type": "code",
   "execution_count": 86,
   "metadata": {},
   "outputs": [
    {
     "data": {
      "text/plain": [
       "0        16117\n",
       "1        22379\n",
       "2        22379\n",
       "3        22379\n",
       "4        16117\n",
       "         ...  \n",
       "48837    22379\n",
       "48838    22379\n",
       "48839     1518\n",
       "48840    16117\n",
       "48841    22379\n",
       "Name: marital-status, Length: 48842, dtype: int64"
      ]
     },
     "execution_count": 86,
     "metadata": {},
     "output_type": "execute_result"
    }
   ],
   "source": [
    "t = pd.value_counts(adult['marital-status'])\n",
    "adult['marital-status'].apply(lambda x : t[x])"
   ]
  },
  {
   "cell_type": "markdown",
   "metadata": {},
   "source": [
    "### LabelEncoder & OneHotEncoder"
   ]
  },
  {
   "cell_type": "code",
   "execution_count": 90,
   "metadata": {},
   "outputs": [],
   "source": [
    "X_features = pd.DataFrame()\n",
    "X_features[['age', 'fnlwgt', 'educational-num', 'capital-gain', 'capital-loss', 'hours-per-week']] =  adult[['age', 'fnlwgt', 'educational-num', 'capital-gain', 'capital-loss', 'hours-per-week']]"
   ]
  },
  {
   "cell_type": "code",
   "execution_count": 107,
   "metadata": {},
   "outputs": [],
   "source": [
    "X = pd.concat((X_features, pd.get_dummies(adult[['workclass','education', \n",
    "                                                     'marital-status','occupation','relationship',\n",
    "                                                     'race','gender','native-country']])), axis=1)"
   ]
  },
  {
   "cell_type": "code",
   "execution_count": 113,
   "metadata": {},
   "outputs": [],
   "source": [
    "y = adult['income'].map(dict(zip(pd.unique(adult['income']), range(2))))"
   ]
  },
  {
   "cell_type": "code",
   "execution_count": 115,
   "metadata": {},
   "outputs": [],
   "source": [
    "cv = KFold(n_splits=5, shuffle=True, random_state=1)\n",
    "cls = RandomForestClassifier(n_estimators=50, \n",
    "                             max_features=5, \n",
    "                             bootstrap=True, \n",
    "                             random_state=42)\n",
    "a_rf = cross_val_predict(cls, X, y, cv=cv) # ответы rf на CV"
   ]
  },
  {
   "cell_type": "code",
   "execution_count": 118,
   "metadata": {},
   "outputs": [
    {
     "data": {
      "text/plain": [
       "0.8010542759522385"
      ]
     },
     "execution_count": 118,
     "metadata": {},
     "output_type": "execute_result"
    }
   ],
   "source": [
    "roc_auc_score(a_rf.astype(int), y.astype(int))"
   ]
  },
  {
   "cell_type": "markdown",
   "metadata": {},
   "source": [
    "### Freq Encoder"
   ]
  },
  {
   "cell_type": "code",
   "execution_count": 119,
   "metadata": {},
   "outputs": [],
   "source": [
    "lis = ['workclass','education', 'marital-status','occupation','relationship', 'race','gender','native-country']"
   ]
  },
  {
   "cell_type": "code",
   "execution_count": 121,
   "metadata": {},
   "outputs": [],
   "source": [
    "for i in lis:\n",
    "    t = pd.value_counts(adult[i])\n",
    "    X_features[i] = adult[i].apply(lambda x : t[x])"
   ]
  },
  {
   "cell_type": "code",
   "execution_count": 122,
   "metadata": {},
   "outputs": [
    {
     "data": {
      "text/html": [
       "<div>\n",
       "<style scoped>\n",
       "    .dataframe tbody tr th:only-of-type {\n",
       "        vertical-align: middle;\n",
       "    }\n",
       "\n",
       "    .dataframe tbody tr th {\n",
       "        vertical-align: top;\n",
       "    }\n",
       "\n",
       "    .dataframe thead th {\n",
       "        text-align: right;\n",
       "    }\n",
       "</style>\n",
       "<table border=\"1\" class=\"dataframe\">\n",
       "  <thead>\n",
       "    <tr style=\"text-align: right;\">\n",
       "      <th></th>\n",
       "      <th>age</th>\n",
       "      <th>fnlwgt</th>\n",
       "      <th>educational-num</th>\n",
       "      <th>capital-gain</th>\n",
       "      <th>capital-loss</th>\n",
       "      <th>hours-per-week</th>\n",
       "      <th>workclass</th>\n",
       "      <th>education</th>\n",
       "      <th>marital-status</th>\n",
       "      <th>occupation</th>\n",
       "      <th>relationship</th>\n",
       "      <th>race</th>\n",
       "      <th>gender</th>\n",
       "      <th>native-country</th>\n",
       "    </tr>\n",
       "  </thead>\n",
       "  <tbody>\n",
       "    <tr>\n",
       "      <th>0</th>\n",
       "      <td>25</td>\n",
       "      <td>226802</td>\n",
       "      <td>7</td>\n",
       "      <td>0</td>\n",
       "      <td>0</td>\n",
       "      <td>40</td>\n",
       "      <td>33906</td>\n",
       "      <td>1812</td>\n",
       "      <td>16117</td>\n",
       "      <td>3022</td>\n",
       "      <td>7581</td>\n",
       "      <td>4685</td>\n",
       "      <td>32650</td>\n",
       "      <td>43832</td>\n",
       "    </tr>\n",
       "    <tr>\n",
       "      <th>1</th>\n",
       "      <td>38</td>\n",
       "      <td>89814</td>\n",
       "      <td>9</td>\n",
       "      <td>0</td>\n",
       "      <td>0</td>\n",
       "      <td>50</td>\n",
       "      <td>33906</td>\n",
       "      <td>15784</td>\n",
       "      <td>22379</td>\n",
       "      <td>1490</td>\n",
       "      <td>19716</td>\n",
       "      <td>41762</td>\n",
       "      <td>32650</td>\n",
       "      <td>43832</td>\n",
       "    </tr>\n",
       "    <tr>\n",
       "      <th>2</th>\n",
       "      <td>28</td>\n",
       "      <td>336951</td>\n",
       "      <td>12</td>\n",
       "      <td>0</td>\n",
       "      <td>0</td>\n",
       "      <td>40</td>\n",
       "      <td>3136</td>\n",
       "      <td>1601</td>\n",
       "      <td>22379</td>\n",
       "      <td>983</td>\n",
       "      <td>19716</td>\n",
       "      <td>41762</td>\n",
       "      <td>32650</td>\n",
       "      <td>43832</td>\n",
       "    </tr>\n",
       "    <tr>\n",
       "      <th>3</th>\n",
       "      <td>44</td>\n",
       "      <td>160323</td>\n",
       "      <td>10</td>\n",
       "      <td>7688</td>\n",
       "      <td>0</td>\n",
       "      <td>40</td>\n",
       "      <td>33906</td>\n",
       "      <td>10878</td>\n",
       "      <td>22379</td>\n",
       "      <td>3022</td>\n",
       "      <td>19716</td>\n",
       "      <td>4685</td>\n",
       "      <td>32650</td>\n",
       "      <td>43832</td>\n",
       "    </tr>\n",
       "    <tr>\n",
       "      <th>4</th>\n",
       "      <td>18</td>\n",
       "      <td>103497</td>\n",
       "      <td>10</td>\n",
       "      <td>0</td>\n",
       "      <td>0</td>\n",
       "      <td>30</td>\n",
       "      <td>2799</td>\n",
       "      <td>10878</td>\n",
       "      <td>16117</td>\n",
       "      <td>2809</td>\n",
       "      <td>7581</td>\n",
       "      <td>41762</td>\n",
       "      <td>16192</td>\n",
       "      <td>43832</td>\n",
       "    </tr>\n",
       "    <tr>\n",
       "      <th>...</th>\n",
       "      <td>...</td>\n",
       "      <td>...</td>\n",
       "      <td>...</td>\n",
       "      <td>...</td>\n",
       "      <td>...</td>\n",
       "      <td>...</td>\n",
       "      <td>...</td>\n",
       "      <td>...</td>\n",
       "      <td>...</td>\n",
       "      <td>...</td>\n",
       "      <td>...</td>\n",
       "      <td>...</td>\n",
       "      <td>...</td>\n",
       "      <td>...</td>\n",
       "    </tr>\n",
       "    <tr>\n",
       "      <th>48837</th>\n",
       "      <td>27</td>\n",
       "      <td>257302</td>\n",
       "      <td>12</td>\n",
       "      <td>0</td>\n",
       "      <td>0</td>\n",
       "      <td>38</td>\n",
       "      <td>33906</td>\n",
       "      <td>1601</td>\n",
       "      <td>22379</td>\n",
       "      <td>1446</td>\n",
       "      <td>2331</td>\n",
       "      <td>41762</td>\n",
       "      <td>16192</td>\n",
       "      <td>43832</td>\n",
       "    </tr>\n",
       "    <tr>\n",
       "      <th>48838</th>\n",
       "      <td>40</td>\n",
       "      <td>154374</td>\n",
       "      <td>9</td>\n",
       "      <td>0</td>\n",
       "      <td>0</td>\n",
       "      <td>40</td>\n",
       "      <td>33906</td>\n",
       "      <td>15784</td>\n",
       "      <td>22379</td>\n",
       "      <td>3022</td>\n",
       "      <td>19716</td>\n",
       "      <td>41762</td>\n",
       "      <td>32650</td>\n",
       "      <td>43832</td>\n",
       "    </tr>\n",
       "    <tr>\n",
       "      <th>48839</th>\n",
       "      <td>58</td>\n",
       "      <td>151910</td>\n",
       "      <td>9</td>\n",
       "      <td>0</td>\n",
       "      <td>0</td>\n",
       "      <td>40</td>\n",
       "      <td>33906</td>\n",
       "      <td>15784</td>\n",
       "      <td>1518</td>\n",
       "      <td>5611</td>\n",
       "      <td>5125</td>\n",
       "      <td>41762</td>\n",
       "      <td>16192</td>\n",
       "      <td>43832</td>\n",
       "    </tr>\n",
       "    <tr>\n",
       "      <th>48840</th>\n",
       "      <td>22</td>\n",
       "      <td>201490</td>\n",
       "      <td>9</td>\n",
       "      <td>0</td>\n",
       "      <td>0</td>\n",
       "      <td>20</td>\n",
       "      <td>33906</td>\n",
       "      <td>15784</td>\n",
       "      <td>16117</td>\n",
       "      <td>5611</td>\n",
       "      <td>7581</td>\n",
       "      <td>41762</td>\n",
       "      <td>32650</td>\n",
       "      <td>43832</td>\n",
       "    </tr>\n",
       "    <tr>\n",
       "      <th>48841</th>\n",
       "      <td>52</td>\n",
       "      <td>287927</td>\n",
       "      <td>9</td>\n",
       "      <td>15024</td>\n",
       "      <td>0</td>\n",
       "      <td>40</td>\n",
       "      <td>1695</td>\n",
       "      <td>15784</td>\n",
       "      <td>22379</td>\n",
       "      <td>6086</td>\n",
       "      <td>2331</td>\n",
       "      <td>41762</td>\n",
       "      <td>16192</td>\n",
       "      <td>43832</td>\n",
       "    </tr>\n",
       "  </tbody>\n",
       "</table>\n",
       "<p>48842 rows × 14 columns</p>\n",
       "</div>"
      ],
      "text/plain": [
       "       age  fnlwgt  educational-num  capital-gain  capital-loss  \\\n",
       "0       25  226802                7             0             0   \n",
       "1       38   89814                9             0             0   \n",
       "2       28  336951               12             0             0   \n",
       "3       44  160323               10          7688             0   \n",
       "4       18  103497               10             0             0   \n",
       "...    ...     ...              ...           ...           ...   \n",
       "48837   27  257302               12             0             0   \n",
       "48838   40  154374                9             0             0   \n",
       "48839   58  151910                9             0             0   \n",
       "48840   22  201490                9             0             0   \n",
       "48841   52  287927                9         15024             0   \n",
       "\n",
       "       hours-per-week  workclass  education  marital-status  occupation  \\\n",
       "0                  40      33906       1812           16117        3022   \n",
       "1                  50      33906      15784           22379        1490   \n",
       "2                  40       3136       1601           22379         983   \n",
       "3                  40      33906      10878           22379        3022   \n",
       "4                  30       2799      10878           16117        2809   \n",
       "...               ...        ...        ...             ...         ...   \n",
       "48837              38      33906       1601           22379        1446   \n",
       "48838              40      33906      15784           22379        3022   \n",
       "48839              40      33906      15784            1518        5611   \n",
       "48840              20      33906      15784           16117        5611   \n",
       "48841              40       1695      15784           22379        6086   \n",
       "\n",
       "       relationship   race  gender  native-country  \n",
       "0              7581   4685   32650           43832  \n",
       "1             19716  41762   32650           43832  \n",
       "2             19716  41762   32650           43832  \n",
       "3             19716   4685   32650           43832  \n",
       "4              7581  41762   16192           43832  \n",
       "...             ...    ...     ...             ...  \n",
       "48837          2331  41762   16192           43832  \n",
       "48838         19716  41762   32650           43832  \n",
       "48839          5125  41762   16192           43832  \n",
       "48840          7581  41762   32650           43832  \n",
       "48841          2331  41762   16192           43832  \n",
       "\n",
       "[48842 rows x 14 columns]"
      ]
     },
     "execution_count": 122,
     "metadata": {},
     "output_type": "execute_result"
    }
   ],
   "source": [
    "X_features"
   ]
  },
  {
   "cell_type": "code",
   "execution_count": 123,
   "metadata": {},
   "outputs": [],
   "source": [
    "freq_encoder = cross_val_predict(cls, X_features, y, cv=cv) # ответы rf на CV"
   ]
  },
  {
   "cell_type": "code",
   "execution_count": 124,
   "metadata": {},
   "outputs": [
    {
     "data": {
      "text/plain": [
       "0.8118844604190287"
      ]
     },
     "execution_count": 124,
     "metadata": {},
     "output_type": "execute_result"
    }
   ],
   "source": [
    "roc_auc_score(freq_encoder.astype(int), y.astype(int))"
   ]
  },
  {
   "cell_type": "markdown",
   "metadata": {},
   "source": [
    "#### LeaveOneOutEncoder"
   ]
  },
  {
   "cell_type": "code",
   "execution_count": 162,
   "metadata": {},
   "outputs": [],
   "source": [
    "X_features = pd.DataFrame()\n",
    "X_features[['age', 'fnlwgt', 'educational-num', 'capital-gain', 'capital-loss', 'hours-per-week']] =  \\\n",
    "    adult[['age', 'fnlwgt', 'educational-num', 'capital-gain', 'capital-loss', 'hours-per-week']]"
   ]
  },
  {
   "cell_type": "code",
   "execution_count": 163,
   "metadata": {},
   "outputs": [],
   "source": [
    "adult['income'] = adult['income'].map(dict(zip(pd.unique(adult['income']), range(2))))\n",
    "lis = ['workclass','education', 'marital-status','occupation','relationship', 'race','gender','native-country']"
   ]
  },
  {
   "cell_type": "code",
   "execution_count": 243,
   "metadata": {},
   "outputs": [],
   "source": [
    "def LeaveOneOutEncoder(ser):\n",
    "    step1 = adult[ser.index]\n",
    "    step2 = step1.drop(ser.name)\n",
    "    step3 = step2[step2[ser.index[0]]==ser.iloc[0]]\n",
    "    if ser.name % 1000==0:\n",
    "        print(f'iteration number: {ser.name}')\n",
    "    result = pd.Series(step3['income'].sum() / step3.shape[0])\n",
    "    return result"
   ]
  },
  {
   "cell_type": "code",
   "execution_count": 244,
   "metadata": {
    "collapsed": true
   },
   "outputs": [
    {
     "name": "stdout",
     "output_type": "stream",
     "text": [
      "Preprocessing LeaveOneOutEncoder: workclass\n",
      "iteration number: 0\n",
      "iteration number: 1000\n",
      "iteration number: 2000\n",
      "iteration number: 3000\n",
      "iteration number: 4000\n",
      "iteration number: 5000\n",
      "iteration number: 6000\n",
      "iteration number: 7000\n",
      "iteration number: 8000\n",
      "iteration number: 9000\n",
      "iteration number: 10000\n",
      "iteration number: 11000\n",
      "iteration number: 12000\n",
      "iteration number: 13000\n",
      "iteration number: 14000\n",
      "iteration number: 15000\n",
      "iteration number: 16000\n",
      "iteration number: 17000\n",
      "iteration number: 18000\n",
      "iteration number: 19000\n",
      "iteration number: 20000\n",
      "iteration number: 21000\n",
      "iteration number: 22000\n",
      "iteration number: 23000\n",
      "iteration number: 24000\n",
      "iteration number: 25000\n",
      "iteration number: 26000\n",
      "iteration number: 27000\n",
      "iteration number: 28000\n",
      "iteration number: 29000\n",
      "iteration number: 30000\n",
      "iteration number: 31000\n",
      "iteration number: 32000\n",
      "iteration number: 33000\n",
      "iteration number: 34000\n",
      "iteration number: 35000\n",
      "iteration number: 36000\n",
      "iteration number: 37000\n",
      "iteration number: 38000\n",
      "iteration number: 39000\n",
      "iteration number: 40000\n",
      "iteration number: 41000\n",
      "iteration number: 42000\n",
      "iteration number: 43000\n",
      "iteration number: 44000\n",
      "iteration number: 45000\n",
      "iteration number: 46000\n",
      "iteration number: 47000\n",
      "iteration number: 48000\n",
      "Preprocessing LeaveOneOutEncoder: education\n",
      "iteration number: 0\n",
      "iteration number: 1000\n",
      "iteration number: 2000\n",
      "iteration number: 3000\n",
      "iteration number: 4000\n",
      "iteration number: 5000\n",
      "iteration number: 6000\n",
      "iteration number: 7000\n",
      "iteration number: 8000\n",
      "iteration number: 9000\n",
      "iteration number: 10000\n",
      "iteration number: 11000\n",
      "iteration number: 12000\n",
      "iteration number: 13000\n",
      "iteration number: 14000\n",
      "iteration number: 15000\n",
      "iteration number: 16000\n",
      "iteration number: 17000\n",
      "iteration number: 18000\n",
      "iteration number: 19000\n",
      "iteration number: 20000\n",
      "iteration number: 21000\n",
      "iteration number: 22000\n",
      "iteration number: 23000\n",
      "iteration number: 24000\n",
      "iteration number: 25000\n",
      "iteration number: 26000\n",
      "iteration number: 27000\n",
      "iteration number: 28000\n",
      "iteration number: 29000\n",
      "iteration number: 30000\n",
      "iteration number: 31000\n",
      "iteration number: 32000\n",
      "iteration number: 33000\n",
      "iteration number: 34000\n",
      "iteration number: 35000\n",
      "iteration number: 36000\n",
      "iteration number: 37000\n",
      "iteration number: 38000\n",
      "iteration number: 39000\n",
      "iteration number: 40000\n",
      "iteration number: 41000\n",
      "iteration number: 42000\n",
      "iteration number: 43000\n",
      "iteration number: 44000\n",
      "iteration number: 45000\n",
      "iteration number: 46000\n",
      "iteration number: 47000\n",
      "iteration number: 48000\n",
      "Preprocessing LeaveOneOutEncoder: marital-status\n",
      "iteration number: 0\n",
      "iteration number: 1000\n",
      "iteration number: 2000\n",
      "iteration number: 3000\n",
      "iteration number: 4000\n",
      "iteration number: 5000\n",
      "iteration number: 6000\n",
      "iteration number: 7000\n",
      "iteration number: 8000\n",
      "iteration number: 9000\n",
      "iteration number: 10000\n",
      "iteration number: 11000\n",
      "iteration number: 12000\n",
      "iteration number: 13000\n",
      "iteration number: 14000\n",
      "iteration number: 15000\n",
      "iteration number: 16000\n",
      "iteration number: 17000\n",
      "iteration number: 18000\n",
      "iteration number: 19000\n",
      "iteration number: 20000\n",
      "iteration number: 21000\n",
      "iteration number: 22000\n",
      "iteration number: 23000\n",
      "iteration number: 24000\n",
      "iteration number: 25000\n",
      "iteration number: 26000\n",
      "iteration number: 27000\n",
      "iteration number: 28000\n",
      "iteration number: 29000\n",
      "iteration number: 30000\n",
      "iteration number: 31000\n",
      "iteration number: 32000\n",
      "iteration number: 33000\n",
      "iteration number: 34000\n",
      "iteration number: 35000\n",
      "iteration number: 36000\n",
      "iteration number: 37000\n",
      "iteration number: 38000\n",
      "iteration number: 39000\n",
      "iteration number: 40000\n",
      "iteration number: 41000\n",
      "iteration number: 42000\n",
      "iteration number: 43000\n",
      "iteration number: 44000\n",
      "iteration number: 45000\n",
      "iteration number: 46000\n",
      "iteration number: 47000\n",
      "iteration number: 48000\n",
      "Preprocessing LeaveOneOutEncoder: occupation\n",
      "iteration number: 0\n",
      "iteration number: 1000\n",
      "iteration number: 2000\n",
      "iteration number: 3000\n",
      "iteration number: 4000\n",
      "iteration number: 5000\n",
      "iteration number: 6000\n",
      "iteration number: 7000\n",
      "iteration number: 8000\n",
      "iteration number: 9000\n",
      "iteration number: 10000\n",
      "iteration number: 11000\n",
      "iteration number: 12000\n",
      "iteration number: 13000\n",
      "iteration number: 14000\n",
      "iteration number: 15000\n",
      "iteration number: 16000\n",
      "iteration number: 17000\n",
      "iteration number: 18000\n",
      "iteration number: 19000\n",
      "iteration number: 20000\n",
      "iteration number: 21000\n",
      "iteration number: 22000\n",
      "iteration number: 23000\n",
      "iteration number: 24000\n",
      "iteration number: 25000\n",
      "iteration number: 26000\n",
      "iteration number: 27000\n",
      "iteration number: 28000\n",
      "iteration number: 29000\n",
      "iteration number: 30000\n",
      "iteration number: 31000\n",
      "iteration number: 32000\n",
      "iteration number: 33000\n",
      "iteration number: 34000\n",
      "iteration number: 35000\n",
      "iteration number: 36000\n",
      "iteration number: 37000\n",
      "iteration number: 38000\n",
      "iteration number: 39000\n",
      "iteration number: 40000\n",
      "iteration number: 41000\n",
      "iteration number: 42000\n",
      "iteration number: 43000\n",
      "iteration number: 44000\n",
      "iteration number: 45000\n",
      "iteration number: 46000\n",
      "iteration number: 47000\n",
      "iteration number: 48000\n",
      "Preprocessing LeaveOneOutEncoder: relationship\n",
      "iteration number: 0\n",
      "iteration number: 1000\n",
      "iteration number: 2000\n",
      "iteration number: 3000\n",
      "iteration number: 4000\n",
      "iteration number: 5000\n",
      "iteration number: 6000\n",
      "iteration number: 7000\n",
      "iteration number: 8000\n",
      "iteration number: 9000\n",
      "iteration number: 10000\n",
      "iteration number: 11000\n",
      "iteration number: 12000\n",
      "iteration number: 13000\n",
      "iteration number: 14000\n",
      "iteration number: 15000\n",
      "iteration number: 16000\n",
      "iteration number: 17000\n",
      "iteration number: 18000\n",
      "iteration number: 19000\n",
      "iteration number: 20000\n",
      "iteration number: 21000\n",
      "iteration number: 22000\n",
      "iteration number: 23000\n",
      "iteration number: 24000\n",
      "iteration number: 25000\n",
      "iteration number: 26000\n",
      "iteration number: 27000\n",
      "iteration number: 28000\n",
      "iteration number: 29000\n",
      "iteration number: 30000\n",
      "iteration number: 31000\n",
      "iteration number: 32000\n",
      "iteration number: 33000\n",
      "iteration number: 34000\n",
      "iteration number: 35000\n",
      "iteration number: 36000\n",
      "iteration number: 37000\n",
      "iteration number: 38000\n",
      "iteration number: 39000\n",
      "iteration number: 40000\n",
      "iteration number: 41000\n",
      "iteration number: 42000\n",
      "iteration number: 43000\n",
      "iteration number: 44000\n",
      "iteration number: 45000\n",
      "iteration number: 46000\n",
      "iteration number: 47000\n",
      "iteration number: 48000\n",
      "Preprocessing LeaveOneOutEncoder: race\n",
      "iteration number: 0\n",
      "iteration number: 1000\n",
      "iteration number: 2000\n",
      "iteration number: 3000\n",
      "iteration number: 4000\n",
      "iteration number: 5000\n",
      "iteration number: 6000\n",
      "iteration number: 7000\n",
      "iteration number: 8000\n",
      "iteration number: 9000\n",
      "iteration number: 10000\n",
      "iteration number: 11000\n",
      "iteration number: 12000\n",
      "iteration number: 13000\n",
      "iteration number: 14000\n",
      "iteration number: 15000\n",
      "iteration number: 16000\n",
      "iteration number: 17000\n",
      "iteration number: 18000\n",
      "iteration number: 19000\n",
      "iteration number: 20000\n",
      "iteration number: 21000\n",
      "iteration number: 22000\n",
      "iteration number: 23000\n",
      "iteration number: 24000\n",
      "iteration number: 25000\n",
      "iteration number: 26000\n",
      "iteration number: 27000\n",
      "iteration number: 28000\n",
      "iteration number: 29000\n",
      "iteration number: 30000\n",
      "iteration number: 31000\n",
      "iteration number: 32000\n",
      "iteration number: 33000\n",
      "iteration number: 34000\n",
      "iteration number: 35000\n",
      "iteration number: 36000\n",
      "iteration number: 37000\n",
      "iteration number: 38000\n",
      "iteration number: 39000\n",
      "iteration number: 40000\n",
      "iteration number: 41000\n",
      "iteration number: 42000\n",
      "iteration number: 43000\n",
      "iteration number: 44000\n",
      "iteration number: 45000\n",
      "iteration number: 46000\n",
      "iteration number: 47000\n",
      "iteration number: 48000\n",
      "Preprocessing LeaveOneOutEncoder: gender\n",
      "iteration number: 0\n",
      "iteration number: 1000\n",
      "iteration number: 2000\n",
      "iteration number: 3000\n",
      "iteration number: 4000\n",
      "iteration number: 5000\n",
      "iteration number: 6000\n",
      "iteration number: 7000\n",
      "iteration number: 8000\n",
      "iteration number: 9000\n",
      "iteration number: 10000\n",
      "iteration number: 11000\n",
      "iteration number: 12000\n",
      "iteration number: 13000\n",
      "iteration number: 14000\n",
      "iteration number: 15000\n",
      "iteration number: 16000\n",
      "iteration number: 17000\n",
      "iteration number: 18000\n",
      "iteration number: 19000\n",
      "iteration number: 20000\n",
      "iteration number: 21000\n",
      "iteration number: 22000\n",
      "iteration number: 23000\n",
      "iteration number: 24000\n",
      "iteration number: 25000\n",
      "iteration number: 26000\n",
      "iteration number: 27000\n",
      "iteration number: 28000\n",
      "iteration number: 29000\n",
      "iteration number: 30000\n",
      "iteration number: 31000\n",
      "iteration number: 32000\n",
      "iteration number: 33000\n",
      "iteration number: 34000\n",
      "iteration number: 35000\n",
      "iteration number: 36000\n",
      "iteration number: 37000\n",
      "iteration number: 38000\n"
     ]
    },
    {
     "name": "stdout",
     "output_type": "stream",
     "text": [
      "iteration number: 39000\n",
      "iteration number: 40000\n",
      "iteration number: 41000\n",
      "iteration number: 42000\n",
      "iteration number: 43000\n",
      "iteration number: 44000\n",
      "iteration number: 45000\n",
      "iteration number: 46000\n",
      "iteration number: 47000\n",
      "iteration number: 48000\n",
      "Preprocessing LeaveOneOutEncoder: native-country\n",
      "iteration number: 0\n",
      "iteration number: 1000\n",
      "iteration number: 2000\n",
      "iteration number: 3000\n",
      "iteration number: 4000\n",
      "iteration number: 5000\n",
      "iteration number: 6000\n",
      "iteration number: 7000\n",
      "iteration number: 8000\n",
      "iteration number: 9000\n",
      "iteration number: 10000\n",
      "iteration number: 11000\n",
      "iteration number: 12000\n",
      "iteration number: 13000\n",
      "iteration number: 14000\n",
      "iteration number: 15000\n",
      "iteration number: 16000\n",
      "iteration number: 17000\n",
      "iteration number: 18000\n",
      "iteration number: 19000\n",
      "iteration number: 20000\n",
      "iteration number: 21000\n",
      "iteration number: 22000\n",
      "iteration number: 23000\n",
      "iteration number: 24000\n",
      "iteration number: 25000\n",
      "iteration number: 26000\n",
      "iteration number: 27000\n",
      "iteration number: 28000\n",
      "iteration number: 29000\n",
      "iteration number: 30000\n",
      "iteration number: 31000\n",
      "iteration number: 32000\n",
      "iteration number: 33000\n",
      "iteration number: 34000\n",
      "iteration number: 35000\n"
     ]
    },
    {
     "name": "stderr",
     "output_type": "stream",
     "text": [
      "<ipython-input-243-24295c5aa3c3>:7: RuntimeWarning: invalid value encountered in longlong_scalars\n",
      "  result = pd.Series(step3['income'].sum() / step3.shape[0])\n"
     ]
    },
    {
     "name": "stdout",
     "output_type": "stream",
     "text": [
      "iteration number: 36000\n",
      "iteration number: 37000\n",
      "iteration number: 38000\n",
      "iteration number: 39000\n",
      "iteration number: 40000\n",
      "iteration number: 41000\n",
      "iteration number: 42000\n",
      "iteration number: 43000\n",
      "iteration number: 44000\n",
      "iteration number: 45000\n",
      "iteration number: 46000\n",
      "iteration number: 47000\n",
      "iteration number: 48000\n"
     ]
    }
   ],
   "source": [
    "for bale in lis:\n",
    "    print(f'Preprocessing LeaveOneOutEncoder: {bale}')\n",
    "    X_features[bale] = adult[[bale, 'income']].apply(LeaveOneOutEncoder, axis=1)"
   ]
  },
  {
   "cell_type": "code",
   "execution_count": 250,
   "metadata": {},
   "outputs": [],
   "source": [
    "X_features_LOU = X_features.fillna(0)"
   ]
  },
  {
   "cell_type": "code",
   "execution_count": 251,
   "metadata": {},
   "outputs": [
    {
     "data": {
      "text/plain": [
       "0.9999865432231673"
      ]
     },
     "execution_count": 251,
     "metadata": {},
     "output_type": "execute_result"
    }
   ],
   "source": [
    "leave_one_out_encoder = cross_val_predict(cls, X_features_LOU, y, cv=cv) # ответы rf на CV\n",
    "roc_auc_score(leave_one_out_encoder.astype(int), y.astype(int))"
   ]
  },
  {
   "cell_type": "markdown",
   "metadata": {},
   "source": [
    "### Что произошло почему проверим"
   ]
  },
  {
   "cell_type": "code",
   "execution_count": 261,
   "metadata": {},
   "outputs": [],
   "source": [
    "from sklearn.model_selection import train_test_split\n",
    "X_train, X_test, y_train, y_test = train_test_split(X_features_LOU, y, test_size=0.33, random_state=42)"
   ]
  },
  {
   "cell_type": "code",
   "execution_count": 264,
   "metadata": {},
   "outputs": [
    {
     "data": {
      "text/plain": [
       "RandomForestClassifier(max_features=5, n_estimators=50, random_state=42)"
      ]
     },
     "execution_count": 264,
     "metadata": {},
     "output_type": "execute_result"
    }
   ],
   "source": [
    "cls.fit(X_train, y_train)"
   ]
  },
  {
   "cell_type": "code",
   "execution_count": 265,
   "metadata": {},
   "outputs": [
    {
     "data": {
      "text/plain": [
       "1.0"
      ]
     },
     "execution_count": 265,
     "metadata": {},
     "output_type": "execute_result"
    }
   ],
   "source": [
    "roc_auc_score(cls.predict(X_test), y_test)"
   ]
  },
  {
   "cell_type": "code",
   "execution_count": 266,
   "metadata": {},
   "outputs": [],
   "source": [
    "from sklearn.linear_model import LogisticRegression"
   ]
  },
  {
   "cell_type": "code",
   "execution_count": 268,
   "metadata": {},
   "outputs": [],
   "source": [
    "s = LogisticRegression().fit(X_train, y_train)"
   ]
  },
  {
   "cell_type": "code",
   "execution_count": 270,
   "metadata": {},
   "outputs": [
    {
     "data": {
      "text/plain": [
       "0.770741083094878"
      ]
     },
     "execution_count": 270,
     "metadata": {},
     "output_type": "execute_result"
    }
   ],
   "source": [
    "roc_auc_score(s.predict(X_test), y_test)"
   ]
  },
  {
   "cell_type": "markdown",
   "metadata": {},
   "source": [
    "Как дурачок сижу радуюсь.\n",
    "\n",
    "**Вывод**: были протестированы 3 способа кодирования, `LeaveOneOut` показал невероятный скачок, правда кодирование проводилось около 1.5 часов."
   ]
  },
  {
   "cell_type": "code",
   "execution_count": null,
   "metadata": {},
   "outputs": [],
   "source": []
  }
 ],
 "metadata": {
  "kernelspec": {
   "display_name": "Python 3",
   "language": "python",
   "name": "python3"
  },
  "language_info": {
   "codemirror_mode": {
    "name": "ipython",
    "version": 3
   },
   "file_extension": ".py",
   "mimetype": "text/x-python",
   "name": "python",
   "nbconvert_exporter": "python",
   "pygments_lexer": "ipython3",
   "version": "3.8.3"
  }
 },
 "nbformat": 4,
 "nbformat_minor": 4
}
