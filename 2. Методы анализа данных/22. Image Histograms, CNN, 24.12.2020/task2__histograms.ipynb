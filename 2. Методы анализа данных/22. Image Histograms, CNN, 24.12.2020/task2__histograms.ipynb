{
 "cells": [
  {
   "cell_type": "code",
   "execution_count": 93,
   "metadata": {},
   "outputs": [],
   "source": [
    "from tqdm import tqdm\n",
    "import os\n",
    "import skimage\n",
    "import skimage.io\n",
    "import numpy as np\n",
    "import pandas as pd\n",
    "import matplotlib.pyplot as plt\n",
    "\n",
    "%matplotlib inline"
   ]
  },
  {
   "cell_type": "markdown",
   "metadata": {},
   "source": [
    "# 1. `input`"
   ]
  },
  {
   "cell_type": "code",
   "execution_count": 2,
   "metadata": {},
   "outputs": [],
   "source": [
    "indoor = 'indoor/'\n",
    "outdoor = 'outdoor/'"
   ]
  },
  {
   "cell_type": "code",
   "execution_count": 3,
   "metadata": {},
   "outputs": [],
   "source": [
    "files_indoor = os.listdir(indoor)\n",
    "files_outdoor = os.listdir(outdoor)"
   ]
  },
  {
   "cell_type": "code",
   "execution_count": 4,
   "metadata": {},
   "outputs": [
    {
     "data": {
      "text/plain": [
       "(28106, 27216)"
      ]
     },
     "execution_count": 4,
     "metadata": {},
     "output_type": "execute_result"
    }
   ],
   "source": [
    "len(files_indoor), len(files_outdoor)"
   ]
  },
  {
   "cell_type": "code",
   "execution_count": 5,
   "metadata": {},
   "outputs": [],
   "source": [
    "f_indoor = [indoor+i for i in files_indoor]\n",
    "f_outdoor = [outdoor+i for i in files_outdoor]\n",
    "indoor_images = skimage.io.imread_collection(f_indoor)\n",
    "outdoor_images = skimage.io.imread_collection(f_outdoor)\n",
    "assert len(indoor_images) == len(files_indoor)\n",
    "assert len(outdoor_images) == len(files_outdoor)"
   ]
  },
  {
   "cell_type": "markdown",
   "metadata": {},
   "source": [
    "# 2. `Histograms: features`"
   ]
  },
  {
   "cell_type": "markdown",
   "metadata": {},
   "source": [
    "Возьмём следующие признаки: гистограммы по компонентам, среднее значение гистограмм, максимум и минимум."
   ]
  },
  {
   "cell_type": "code",
   "execution_count": 108,
   "metadata": {},
   "outputs": [],
   "source": [
    "columns = [f'red_{i}' for i in np.arange(256)] + \\\n",
    "       [f'green_{i}' for i in np.arange(256)] + \\\n",
    "       [f'blue_{i}' for i in np.arange(256)] + ['mean', 'max', 'min']\n",
    "df = pd.DataFrame(columns=columns)"
   ]
  },
  {
   "cell_type": "code",
   "execution_count": 109,
   "metadata": {},
   "outputs": [],
   "source": [
    "def get_histograms(image):\n",
    "    red, green, blue = image[:, :, 0], image[:, :, 1], image[:, :, 2]\n",
    "    red_freq = np.bincount(red.ravel(), minlength=256)\n",
    "    green_freq = np.bincount(green.ravel(), minlength=256)\n",
    "    blue_freq = np.bincount(blue.ravel(), minlength=256)\n",
    "    features = np.hstack((red_freq, green_freq, blue_freq, image.mean(), image.max(), image.min()))\n",
    "    return features"
   ]
  },
  {
   "cell_type": "code",
   "execution_count": 110,
   "metadata": {},
   "outputs": [
    {
     "name": "stderr",
     "output_type": "stream",
     "text": [
      "Indoor Images: 100%|█████████████████████████████████████████████████████████████| 28106/28106 [31:12<00:00, 15.01it/s]\n"
     ]
    }
   ],
   "source": [
    "for image in tqdm(indoor_images, desc=\"Indoor Images\"):\n",
    "    df.loc[len(df)] = get_histograms(image)"
   ]
  },
  {
   "cell_type": "code",
   "execution_count": 111,
   "metadata": {},
   "outputs": [
    {
     "name": "stderr",
     "output_type": "stream",
     "text": [
      "Outdoor Images: 100%|██████████████████████████████████████████████████████████| 27216/27216 [1:30:44<00:00,  5.00it/s]\n"
     ]
    }
   ],
   "source": [
    "for image in tqdm(outdoor_images, desc=\"Outdoor Images\"):\n",
    "    df.loc[len(df)] = get_histograms(image)"
   ]
  },
  {
   "cell_type": "markdown",
   "metadata": {},
   "source": [
    "У меня недолго обучалось - использовал просто более быструю функцию `np.bincount`"
   ]
  },
  {
   "cell_type": "code",
   "execution_count": 112,
   "metadata": {},
   "outputs": [
    {
     "data": {
      "text/plain": [
       "(55322, 771)"
      ]
     },
     "execution_count": 112,
     "metadata": {},
     "output_type": "execute_result"
    }
   ],
   "source": [
    "df.shape"
   ]
  },
  {
   "cell_type": "markdown",
   "metadata": {},
   "source": [
    "# 3. `Train`"
   ]
  },
  {
   "cell_type": "code",
   "execution_count": 113,
   "metadata": {},
   "outputs": [],
   "source": [
    "df['class'] = np.r_[np.ones(len(files_indoor)), np.zeros(len(files_outdoor))]"
   ]
  },
  {
   "cell_type": "code",
   "execution_count": 114,
   "metadata": {},
   "outputs": [],
   "source": [
    "X = df.drop('class', axis=1).values\n",
    "y = df['class'].values"
   ]
  },
  {
   "cell_type": "code",
   "execution_count": 117,
   "metadata": {},
   "outputs": [],
   "source": [
    "from sklearn.ensemble import RandomForestClassifier\n",
    "from sklearn.model_selection import KFold, cross_val_score\n",
    "from sklearn.metrics import accuracy_score\n",
    "from sklearn.model_selection import train_test_split"
   ]
  },
  {
   "cell_type": "code",
   "execution_count": null,
   "metadata": {},
   "outputs": [],
   "source": [
    "X_train, X_test, y_train, y_test = train_test_split(X, y, test_size=0.3, random_state=42)"
   ]
  },
  {
   "cell_type": "code",
   "execution_count": 122,
   "metadata": {},
   "outputs": [],
   "source": [
    "results = {}\n",
    "cl = KFold(n_splits=10)"
   ]
  },
  {
   "cell_type": "code",
   "execution_count": 123,
   "metadata": {},
   "outputs": [
    {
     "name": "stdout",
     "output_type": "stream",
     "text": [
      "Fitting\n",
      "Done Fitting fold 1\n",
      "Fitting\n",
      "Done Fitting fold 2\n",
      "Fitting\n",
      "Done Fitting fold 3\n",
      "Fitting\n",
      "Done Fitting fold 4\n",
      "Fitting\n",
      "Done Fitting fold 5\n",
      "Fitting\n",
      "Done Fitting fold 6\n",
      "Fitting\n",
      "Done Fitting fold 7\n",
      "Fitting\n",
      "Done Fitting fold 8\n",
      "Fitting\n",
      "Done Fitting fold 9\n",
      "Fitting\n",
      "Done Fitting fold 10\n"
     ]
    }
   ],
   "source": [
    "for splt, (train_index, test_index) in enumerate(cl.split(X), 1):\n",
    "    results[f'fold {splt}'] = {'RandomForestClassifier(100)': 0}\n",
    "    print('Fitting')\n",
    "    rfc = RandomForestClassifier(n_estimators=100, random_state=np.random.randint(0, 1000))\n",
    "    rfc.fit(X[train_index], y[train_index])\n",
    "   \n",
    "    results[f'fold {splt}']['RandomForestClassifier(100)'] = accuracy_score(rfc.predict(X[test_index]), y[test_index])\n",
    "    print(f'Done Fitting fold {splt}')"
   ]
  },
  {
   "cell_type": "code",
   "execution_count": 124,
   "metadata": {},
   "outputs": [
    {
     "data": {
      "text/plain": [
       "{'fold 1': {'RandomForestClassifier(100)': 0.8129405385866618},\n",
       " 'fold 2': {'RandomForestClassifier(100)': 0.8140249412615218},\n",
       " 'fold 3': {'RandomForestClassifier(100)': 0.8206796818510484},\n",
       " 'fold 4': {'RandomForestClassifier(100)': 0.8333333333333334},\n",
       " 'fold 5': {'RandomForestClassifier(100)': 0.8302603036876356},\n",
       " 'fold 6': {'RandomForestClassifier(100)': 0.8199566160520607},\n",
       " 'fold 7': {'RandomForestClassifier(100)': 0.8049530007230657},\n",
       " 'fold 8': {'RandomForestClassifier(100)': 0.8022415039768619},\n",
       " 'fold 9': {'RandomForestClassifier(100)': 0.7977223427331888},\n",
       " 'fold 10': {'RandomForestClassifier(100)': 0.789587852494577}}"
      ]
     },
     "execution_count": 124,
     "metadata": {},
     "output_type": "execute_result"
    }
   ],
   "source": [
    "results"
   ]
  },
  {
   "cell_type": "code",
   "execution_count": 127,
   "metadata": {},
   "outputs": [
    {
     "data": {
      "text/plain": [
       "0.8125700114699954"
      ]
     },
     "execution_count": 127,
     "metadata": {},
     "output_type": "execute_result"
    }
   ],
   "source": [
    "np.mean([results[k]['RandomForestClassifier(100)'] for k in results.keys()])"
   ]
  },
  {
   "cell_type": "markdown",
   "metadata": {},
   "source": [
    "Получили вполне неплохую точность верных ответов."
   ]
  }
 ],
 "metadata": {
  "kernelspec": {
   "display_name": "Python 3",
   "language": "python",
   "name": "python3"
  },
  "language_info": {
   "codemirror_mode": {
    "name": "ipython",
    "version": 3
   },
   "file_extension": ".py",
   "mimetype": "text/x-python",
   "name": "python",
   "nbconvert_exporter": "python",
   "pygments_lexer": "ipython3",
   "version": "3.8.5"
  }
 },
 "nbformat": 4,
 "nbformat_minor": 4
}
