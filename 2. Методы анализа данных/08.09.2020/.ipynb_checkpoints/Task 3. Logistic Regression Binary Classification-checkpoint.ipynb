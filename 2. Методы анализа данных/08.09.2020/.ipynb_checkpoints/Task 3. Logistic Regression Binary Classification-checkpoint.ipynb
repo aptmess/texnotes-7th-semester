{
 "cells": [
  {
   "cell_type": "code",
   "execution_count": 1,
   "metadata": {},
   "outputs": [],
   "source": [
    "import numpy as np\n",
    "import pandas as pd\n",
    "from sklearn.preprocessing import PolynomialFeatures\n",
    "import matplotlib.pyplot as plt\n",
    "from sklearn.model_selection import train_test_split\n",
    "from sklearn.metrics import accuracy_score\n",
    "\n",
    "%matplotlib inline\n",
    "\n",
    "font_options = {'family' : 'monospace'}\n",
    "figure_options = {'figsize':[8,5]}\n",
    "\n",
    "plt.rc('font', **font_options) \n",
    "plt.rc('figure', **figure_options)"
   ]
  },
  {
   "cell_type": "code",
   "execution_count": 2,
   "metadata": {},
   "outputs": [
    {
     "data": {
      "text/html": [
       "<div>\n",
       "<style scoped>\n",
       "    .dataframe tbody tr th:only-of-type {\n",
       "        vertical-align: middle;\n",
       "    }\n",
       "\n",
       "    .dataframe tbody tr th {\n",
       "        vertical-align: top;\n",
       "    }\n",
       "\n",
       "    .dataframe thead th {\n",
       "        text-align: right;\n",
       "    }\n",
       "</style>\n",
       "<table border=\"1\" class=\"dataframe\">\n",
       "  <thead>\n",
       "    <tr style=\"text-align: right;\">\n",
       "      <th></th>\n",
       "      <th>X1</th>\n",
       "      <th>X2</th>\n",
       "      <th>y</th>\n",
       "    </tr>\n",
       "  </thead>\n",
       "  <tbody>\n",
       "    <tr>\n",
       "      <th>0</th>\n",
       "      <td>0.345211</td>\n",
       "      <td>0.679774</td>\n",
       "      <td>1</td>\n",
       "    </tr>\n",
       "    <tr>\n",
       "      <th>1</th>\n",
       "      <td>0.191130</td>\n",
       "      <td>0.551668</td>\n",
       "      <td>0</td>\n",
       "    </tr>\n",
       "    <tr>\n",
       "      <th>2</th>\n",
       "      <td>0.358081</td>\n",
       "      <td>0.012984</td>\n",
       "      <td>1</td>\n",
       "    </tr>\n",
       "    <tr>\n",
       "      <th>3</th>\n",
       "      <td>0.393526</td>\n",
       "      <td>0.994465</td>\n",
       "      <td>0</td>\n",
       "    </tr>\n",
       "    <tr>\n",
       "      <th>4</th>\n",
       "      <td>0.387360</td>\n",
       "      <td>0.941051</td>\n",
       "      <td>0</td>\n",
       "    </tr>\n",
       "  </tbody>\n",
       "</table>\n",
       "</div>"
      ],
      "text/plain": [
       "         X1        X2  y\n",
       "0  0.345211  0.679774  1\n",
       "1  0.191130  0.551668  0\n",
       "2  0.358081  0.012984  1\n",
       "3  0.393526  0.994465  0\n",
       "4  0.387360  0.941051  0"
      ]
     },
     "execution_count": 2,
     "metadata": {},
     "output_type": "execute_result"
    }
   ],
   "source": [
    "data = pd.read_csv(\"data/binary_classification.csv\")\n",
    "data.head()"
   ]
  },
  {
   "cell_type": "code",
   "execution_count": 3,
   "metadata": {},
   "outputs": [
    {
     "data": {
      "text/plain": [
       "((1000, 2), (1000, 1))"
      ]
     },
     "execution_count": 3,
     "metadata": {},
     "output_type": "execute_result"
    }
   ],
   "source": [
    "X = data.iloc[:, :2].values\n",
    "y = data.y.values[:, np.newaxis]\n",
    "X.shape, y.shape"
   ]
  },
  {
   "cell_type": "code",
   "execution_count": 4,
   "metadata": {},
   "outputs": [],
   "source": [
    "X_train, X_test, y_train, y_test = train_test_split(X, y, test_size=0.33, random_state=42)"
   ]
  },
  {
   "cell_type": "markdown",
   "metadata": {},
   "source": [
    "Вероятность принадлежности к классу\n",
    "\n",
    "$$ P(y = 1 | x, w) = \\sigma(x, w) $$\n",
    "\n",
    "Логистическая функция потерь\n",
    "\n",
    "$$ L(y, p) = - \\frac{1}{m}\\sum_{1}^{m}(y_i log(p_i) + (1 - y_i) log(1 - p_i)) $$\n",
    "\n",
    "## Логистическая регрессия\n",
    "\n",
    "\n",
    "Выведем функцию связи через биномиальное распределение через задачу классификации:\n",
    "\n",
    "$y \\in \\{0,1\\}$ \n",
    "$$g^{-1}(p) = \\overline{\\theta}^T \\overline{X}$$\n",
    "$$f(y) = e^{\\frac{y\\alpha-c(\\alpha)}{\\varphi}+h(y,\\varphi)}$$\n",
    "\n",
    "Плотность биномиального распределения:\n",
    "$$f(y) = p^y(1-p)^{1-y} = exp(y\\log p + (1-y)\\log(1-p)) = exp(y\\log\\frac{p}{1-p}+\\log(1-p)\\equiv c(\\alpha)$$\n",
    "$$\\alpha  = \\log \\frac{p}{1-p} = g(p) = \\overline{\\theta}^T \\overline{X}$$\n",
    "$$\\frac{p}{1-p} = e^{\\overline{\\theta}^T \\overline{X}}$$\n",
    "$$p = \\sigma\\left(\\overline{\\theta}^T \\overline{X}\\right) = \\frac{1}{1+e^{-\\overline{\\theta}^T \\overline{X}}}$$\n",
    "\n",
    "Осталось получить функционал качества для задачи классификации. Функция называется \\textsc{логистической сигмоидой}. Данная функция преобразует линейную комбинацию в интервал $[0,1]$. Дальнейшее значение целевой переменной мы будем предсказывать в качестве:\n",
    "$$\\hat{y} = \\sigma\\left(\\overline{\\theta}^T \\overline{X}\\right)$$\n",
    "\n",
    "Функционал качества найдём через метод максимального правдоподобия:\n",
    "$$p(x,y,p) = \\prod\\limits_{i=1}^l p_i^{y_i}(1-p_i)^{1-y_i} \\xrightarrow[\\theta]{}\\max $$\n",
    "$$\\sum\\limits_{i=1}^l y_i \\log p_i + (1-y_i)\\log(1-p_i)  \\xrightarrow[\\theta]{}\\max$$\n",
    "\n",
    "Функция потерь называется \\textsc{LogLoss}:\n",
    "$$LogLoss = L(x_i) = y_i \\log p_i - (1-y_i)\\log p_i  \\xrightarrow[\\theta]{}\\min, p_i = \\sigma(x_i)$$\n",
    "\n",
    "Если мы правильно предсказываем отношение принадлежности класса к $1$, то функция потерь будет равна нулю, если правильно предсказываем $0$ правильно, то тоже $0$, а если $1$ - правильный ответ, а $0$ - нет, то ошибка будет $+\\infty$, и ошибку ограничивают значениями $100$, чтобы ошибка не уходила далеко.\n",
    "$$p = \\sigma\\left(\\overline{\\theta}^T \\overline{X}\\right) \\in [0,1]$$\n",
    "$$L = -y\\log p - (1-y)\\log(1-p)$$"
   ]
  },
  {
   "cell_type": "code",
   "execution_count": 5,
   "metadata": {},
   "outputs": [],
   "source": [
    "class LogisticRegressionGD:\n",
    "    '''\n",
    "    Logistic Regression\n",
    "    '''\n",
    "    \n",
    "    def __init__(self):\n",
    "        pass\n",
    "    \n",
    "    def __extend_X(self, X):\n",
    "        '''\n",
    "            return extende matrix = [1, X]:\n",
    "            [4 , 3]     [1 , 4 , 3]\n",
    "            [1 , 2] --> [1 , 1 , 2]\n",
    "            [0 , 3]     [1 , 0 , 3]\n",
    "\n",
    "            вместо того, чтобы считать X@W + b можно было считать X_ext@W_ext \n",
    "            \n",
    "            analog:\n",
    "            \n",
    "            poly = PolynomialFeatures(1)\n",
    "            poly.fit_transform(X)\n",
    "        '''\n",
    "        return np.hstack((np.ones((X.shape[0], 1)), X))\n",
    "    \n",
    "    def init_weights(self, input_size):\n",
    "        '''\n",
    "        initialising model params\n",
    "        '''            \n",
    "        np.random.seed(42)\n",
    "        self.W = np.random.normal(0.0, 0.01, input_size)\n",
    "        return self.W\n",
    "    \n",
    "    def batch_generator(self, X, y, batch_size=1):\n",
    "        '''\n",
    "        returns random batch\n",
    "        '''\n",
    "        perm = np.random.permutation(len(X))\n",
    "        idxs = perm[:batch_size]\n",
    "        return X[idxs], y[idxs]\n",
    "    \n",
    "    def get_prob(self, X, W):\n",
    "        '''\n",
    "        get probability\n",
    "        '''\n",
    "        def sigmoid(h):\n",
    "            return 1. / (1 + np.exp(-h))\n",
    "        \n",
    "        def logit(x, w):\n",
    "            return x @ w\n",
    "        \n",
    "        if X.shape[1] != self.W.shape[0]:\n",
    "            X = self.__extend_X(X)\n",
    "        \n",
    "        return sigmoid(logit(X, W))\n",
    "    \n",
    "    def get_weight(self):\n",
    "        '''\n",
    "        return parameters of model\n",
    "        '''\n",
    "        return self.W\n",
    "    \n",
    "    def grad(self, f, x, eps = 2**(-24)) -> np.array:\n",
    "        '''\n",
    "        return gradient of function\n",
    "        '''\n",
    "        value = np.array([f(x + dx) - f(x) for dx in eps * np.eye(x.shape[0])])\n",
    "        return value / eps\n",
    "    \n",
    "    \n",
    "    def get_loss(self, X, y):\n",
    "        '''\n",
    "            return logloss function\n",
    "        '''\n",
    "        fun = lambda weights: self.get_prob(X, weights.reshape(-1,1))\n",
    "        result = lambda weights: -1 / len(y) * np.sum(y * np.log(fun(weights)) + (1 - y) * np.log(1 - fun(weights)))\n",
    "        return result\n",
    "    \n",
    "    def get_acc(self, p, y, threshold=0.5):\n",
    "        \"\"\"\n",
    "            Данный метод вычисляет accuracy:\n",
    "        \"\"\"\n",
    "        return (y == (p >= threshold)).mean()\n",
    "    \n",
    "    def fit(self, X, y, iterations = 100, learning_rate = 0.01,eps = 1e-3, batch_size = 100):\n",
    "        \n",
    "        '''\n",
    "        return fitted params losses per iteration\n",
    "        p = np.clip(p, 1e-10, 1 - 1e-10)\n",
    "        '''\n",
    "        XT = self.__extend_X(X) #extend matrix \n",
    "        self.init_weights(XT.shape[1])# generate start point\n",
    "        \n",
    "        iteratations_count = 0 # amount of iterations\n",
    "        losses = [] # logloss losses per iteration\n",
    "        accuracy = []\n",
    "        \n",
    "        # критерий останова\n",
    "        log_loss_past = 0 \n",
    "        log_loss = self.get_loss(XT, y)(self.W)\n",
    "        \n",
    "        while (abs(log_loss_past - log_loss) >= eps) and (iteratations_count < iterations):\n",
    "            log_loss_past = log_loss\n",
    "            \n",
    "            #x_batch, y_batch = self.batch_generator(XT, y, batch_size = 10)\n",
    "            \n",
    "            p = self.get_prob(XT,self.W.reshape(-1,1)) # p probability\n",
    "            \n",
    "            self.W -= self.grad(f = self.get_loss(XT, y), x = self.W) * learning_rate # gradient descent step\n",
    "            \n",
    "            log_loss = self.get_loss(XT, y)(self.W) # logloss on new Weights (Params)\n",
    "            losses.append(log_loss) \n",
    "            \n",
    "            acc = self.get_acc(p,y) #accuracy\n",
    "            accuracy.append(acc)\n",
    "            iteratations_count += 1\n",
    "\n",
    "        return losses, accuracy, iteratations_count\n",
    "    \n",
    "    def predict(self, X_pred):\n",
    "        \n",
    "        return self.__extend_X(X_pred) @ self.W"
   ]
  },
  {
   "cell_type": "code",
   "execution_count": 6,
   "metadata": {},
   "outputs": [],
   "source": [
    "params = {'iterations':10000,'learning_rate':0.2,'eps':1e-4,'batch_size': 10}"
   ]
  },
  {
   "cell_type": "code",
   "execution_count": 7,
   "metadata": {},
   "outputs": [],
   "source": [
    "model = LogisticRegressionGD()\n",
    "losses, accuracy, iterate = model.fit(X_train, y_train, **params)"
   ]
  },
  {
   "cell_type": "code",
   "execution_count": 8,
   "metadata": {},
   "outputs": [],
   "source": [
    "prediction = np.where(model.predict(X_test) >=0.5,1,0)\n",
    "test_accuracy = accuracy_score(y_test,prediction)"
   ]
  },
  {
   "cell_type": "code",
   "execution_count": 9,
   "metadata": {},
   "outputs": [
    {
     "data": {
      "image/png": "[encoded data removed]",
      "text/plain": [
       "<Figure size 1152x720 with 1 Axes>"
      ]
     },
     "metadata": {
      "needs_background": "light"
     },
     "output_type": "display_data"
    }
   ],
   "source": [
    "fig, ax = plt.subplots(figsize = (16,10),sharex=True,sharey=True,frameon = False)\n",
    "ax.plot(losses, label=f'LogLoss Function: {iterate} iterations',color = 'black')\n",
    "ax.plot(accuracy, label=f'Accuracy: {accuracy[-1]:.3}',color = 'red')\n",
    "ax.set_title(f\"Logistic Regression with GD, Test Accuracy: {test_accuracy:.3}\")\n",
    "plt.legend()\n",
    "plt.grid()\n",
    "plt.show()"
   ]
  }
 ],
 "metadata": {
  "kernelspec": {
   "display_name": "Python 3 (Spyder)",
   "language": "python3",
   "name": "python3"
  },
  "language_info": {
   "codemirror_mode": {
    "name": "ipython",
    "version": 3
   },
   "file_extension": ".py",
   "mimetype": "text/x-python",
   "name": "python",
   "nbconvert_exporter": "python",
   "pygments_lexer": "ipython3",
   "version": "3.8.3"
  }
 },
 "nbformat": 4,
 "nbformat_minor": 4
}
