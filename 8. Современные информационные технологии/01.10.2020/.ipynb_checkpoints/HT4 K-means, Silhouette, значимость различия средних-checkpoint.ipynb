{
 "cells": [
  {
   "cell_type": "code",
   "execution_count": 1,
   "metadata": {},
   "outputs": [],
   "source": [
    "import numpy as np\n",
    "import pandas as pd\n",
    "import matplotlib.pyplot as plt\n",
    "%matplotlib inline"
   ]
  },
  {
   "cell_type": "markdown",
   "metadata": {},
   "source": [
    "#### Импорт данных.\n",
    "\n",
    "Экономика городов\n",
    "\n",
    "Данные описывают экономические условия в `48` городах мира в `1991` году. Данные были собраны отделом экономических исследований банка `Union (Швейцария)`. Описаны экономические условия в `48` городах мира в `1991` году. \n",
    "\n",
    "Число наблюдений: `48` \n",
    "Названия переменных: \n",
    "- `City` (Город): Название города\n",
    "- `Work` (Работа): Взвешенное среднее числа рабочих часов, сосчитанное по `12` профессиям \n",
    "- `Price` (Ценк): Индекс цен `112` товаров и услуг, включая арендную плату за жилье\t(значение для Цюриха взято за `100%`) \n",
    "- `Salary` (Заработная плата) : Индекс заработной платы за час работы, сосчитанный по `12` профессиям после налогов и вычетов  (значение для Цюриха взято за `100%`)\n",
    "\n",
    "\n",
    "Загрузим данные из файла `1.csv`, поменяем `,` на `.`, чтобы возможно было преобразовать в тип `float` столбцы `Price, Salary`."
   ]
  },
  {
   "cell_type": "code",
   "execution_count": 2,
   "metadata": {},
   "outputs": [],
   "source": [
    "def fun(f: pd.Series):\n",
    "    return f.replace(',', '.')"
   ]
  },
  {
   "cell_type": "code",
   "execution_count": 3,
   "metadata": {},
   "outputs": [
    {
     "data": {
      "text/html": [
       "<div>\n",
       "<style scoped>\n",
       "    .dataframe tbody tr th:only-of-type {\n",
       "        vertical-align: middle;\n",
       "    }\n",
       "\n",
       "    .dataframe tbody tr th {\n",
       "        vertical-align: top;\n",
       "    }\n",
       "\n",
       "    .dataframe thead th {\n",
       "        text-align: right;\n",
       "    }\n",
       "</style>\n",
       "<table border=\"1\" class=\"dataframe\">\n",
       "  <thead>\n",
       "    <tr style=\"text-align: right;\">\n",
       "      <th></th>\n",
       "      <th>Work</th>\n",
       "      <th>Price</th>\n",
       "      <th>Salary</th>\n",
       "    </tr>\n",
       "    <tr>\n",
       "      <th>City</th>\n",
       "      <th></th>\n",
       "      <th></th>\n",
       "      <th></th>\n",
       "    </tr>\n",
       "  </thead>\n",
       "  <tbody>\n",
       "    <tr>\n",
       "      <th>Amsterdam</th>\n",
       "      <td>1714</td>\n",
       "      <td>65.6</td>\n",
       "      <td>49.0</td>\n",
       "    </tr>\n",
       "    <tr>\n",
       "      <th>Athens</th>\n",
       "      <td>1792</td>\n",
       "      <td>53.8</td>\n",
       "      <td>30.4</td>\n",
       "    </tr>\n",
       "    <tr>\n",
       "      <th>Bogota</th>\n",
       "      <td>2152</td>\n",
       "      <td>37.9</td>\n",
       "      <td>11.5</td>\n",
       "    </tr>\n",
       "    <tr>\n",
       "      <th>Bombay</th>\n",
       "      <td>2052</td>\n",
       "      <td>30.3</td>\n",
       "      <td>5.3</td>\n",
       "    </tr>\n",
       "    <tr>\n",
       "      <th>Brussels</th>\n",
       "      <td>1708</td>\n",
       "      <td>73.8</td>\n",
       "      <td>50.5</td>\n",
       "    </tr>\n",
       "  </tbody>\n",
       "</table>\n",
       "</div>"
      ],
      "text/plain": [
       "           Work  Price  Salary\n",
       "City                          \n",
       "Amsterdam  1714   65.6    49.0\n",
       "Athens     1792   53.8    30.4\n",
       "Bogota     2152   37.9    11.5\n",
       "Bombay     2052   30.3     5.3\n",
       "Brussels   1708   73.8    50.5"
      ]
     },
     "execution_count": 3,
     "metadata": {},
     "output_type": "execute_result"
    }
   ],
   "source": [
    "data = pd.read_csv('1.csv',  sep=';', comment='#', index_col = 'City')\n",
    "data['Salary'] = data['Salary'].apply(fun).astype(float)\n",
    "data['Price'] = data['Price'].apply(fun).astype(float)\n",
    "data['Work'] = data['Work'].astype(int)\n",
    "data.head()"
   ]
  },
  {
   "cell_type": "markdown",
   "metadata": {},
   "source": [
    "#### Подготовка данных для применения Kmeans\n",
    "\n",
    "Нормализуем данные, чтобы данные были распределены с нормальным распределением $ \\frac{X - \\mu}{\\sigma} \\sim N(0, 1)$"
   ]
  },
  {
   "cell_type": "code",
   "execution_count": 4,
   "metadata": {},
   "outputs": [
    {
     "data": {
      "text/plain": [
       "(48, 3)"
      ]
     },
     "execution_count": 4,
     "metadata": {},
     "output_type": "execute_result"
    }
   ],
   "source": [
    "X = data.values\n",
    "X_normalise = np.array((X - X.mean()) / X.std(ddof=0))\n",
    "X_normalise.shape"
   ]
  },
  {
   "cell_type": "markdown",
   "metadata": {},
   "source": [
    "#### K-Means & Silhouette_score\n",
    "\n",
    "Проведем эксперимент и найдем лучшее `n_clusters`, для которого значение `silhouette` будет наибольшим. Выведем результаты в отсортированном порядке."
   ]
  },
  {
   "cell_type": "code",
   "execution_count": 5,
   "metadata": {},
   "outputs": [],
   "source": [
    "from sklearn.cluster import KMeans\n",
    "from sklearn.metrics import silhouette_score"
   ]
  },
  {
   "cell_type": "code",
   "execution_count": 6,
   "metadata": {},
   "outputs": [
    {
     "data": {
      "text/plain": [
       "{2: 0.5846801376762094,\n",
       " 3: 0.49894293802695877,\n",
       " 4: 0.43922661169463434,\n",
       " 7: 0.43517341241695234,\n",
       " 8: 0.43208123877514254,\n",
       " 9: 0.42618136391914635,\n",
       " 5: 0.4183866852985645,\n",
       " 6: 0.4143993911111969}"
      ]
     },
     "execution_count": 6,
     "metadata": {},
     "output_type": "execute_result"
    }
   ],
   "source": [
    "results = dict([(klusters, silhouette_score(X_normalise, KMeans(n_clusters=klusters).fit(X_normalise).labels_)) \\\n",
    "                for klusters in range(2, 10)])\n",
    "sorted_results = {k: v for k, v in sorted(results.items(), key=lambda item: item[1], reverse=True)}\n",
    "sorted_results"
   ]
  },
  {
   "cell_type": "markdown",
   "metadata": {},
   "source": [
    "По метрике `silhouette` лучшим является `n_clusters = 2`"
   ]
  },
  {
   "cell_type": "code",
   "execution_count": 7,
   "metadata": {},
   "outputs": [],
   "source": [
    "data['best_result'] = KMeans(n_clusters=2).fit(X_normalise).labels_"
   ]
  },
  {
   "cell_type": "markdown",
   "metadata": {},
   "source": [
    "#### Визуализируем результаты некоторые"
   ]
  },
  {
   "cell_type": "code",
   "execution_count": 8,
   "metadata": {},
   "outputs": [
    {
     "data": {
      "text/html": [
       "<div>\n",
       "<style scoped>\n",
       "    .dataframe tbody tr th:only-of-type {\n",
       "        vertical-align: middle;\n",
       "    }\n",
       "\n",
       "    .dataframe tbody tr th {\n",
       "        vertical-align: top;\n",
       "    }\n",
       "\n",
       "    .dataframe thead th {\n",
       "        text-align: right;\n",
       "    }\n",
       "</style>\n",
       "<table border=\"1\" class=\"dataframe\">\n",
       "  <thead>\n",
       "    <tr style=\"text-align: right;\">\n",
       "      <th></th>\n",
       "      <th>Work</th>\n",
       "      <th>Price</th>\n",
       "      <th>Salary</th>\n",
       "    </tr>\n",
       "    <tr>\n",
       "      <th>best_result</th>\n",
       "      <th></th>\n",
       "      <th></th>\n",
       "      <th></th>\n",
       "    </tr>\n",
       "  </thead>\n",
       "  <tbody>\n",
       "    <tr>\n",
       "      <th>0</th>\n",
       "      <td>2068.550000</td>\n",
       "      <td>56.665000</td>\n",
       "      <td>23.520000</td>\n",
       "    </tr>\n",
       "    <tr>\n",
       "      <th>1</th>\n",
       "      <td>1764.678571</td>\n",
       "      <td>77.571429</td>\n",
       "      <td>48.967857</td>\n",
       "    </tr>\n",
       "  </tbody>\n",
       "</table>\n",
       "</div>"
      ],
      "text/plain": [
       "                    Work      Price     Salary\n",
       "best_result                                   \n",
       "0            2068.550000  56.665000  23.520000\n",
       "1            1764.678571  77.571429  48.967857"
      ]
     },
     "execution_count": 8,
     "metadata": {},
     "output_type": "execute_result"
    }
   ],
   "source": [
    "data.groupby(by='best_result').mean()"
   ]
  },
  {
   "cell_type": "code",
   "execution_count": 9,
   "metadata": {},
   "outputs": [
    {
     "data": {
      "image/png": "[encoded data removed]",
      "text/plain": [
       "<Figure size 432x288 with 1 Axes>"
      ]
     },
     "metadata": {
      "needs_background": "light"
     },
     "output_type": "display_data"
    }
   ],
   "source": [
    "data.groupby(by=['best_result']).mean().plot.bar(stacked=True, cmap='YlGnBu');"
   ]
  },
  {
   "cell_type": "code",
   "execution_count": 10,
   "metadata": {},
   "outputs": [
    {
     "data": {
      "image/png": "[encoded data removed]",
      "text/plain": [
       "<Figure size 720x432 with 1 Axes>"
      ]
     },
     "metadata": {
      "needs_background": "light"
     },
     "output_type": "display_data"
    }
   ],
   "source": [
    "cluster1, cluster2 = data.groupby(by=['best_result']).mean().values\n",
    "ind = np.arange(1, len(cluster1) + 1)\n",
    "\n",
    "fig, ax  = plt.subplots(1, 1, figsize=(10, 6))\n",
    "\n",
    "ax.plot(ind, cluster1, label='1')\n",
    "ax.plot(ind, cluster2, label='2',color = 'darkred')\n",
    "ax.set_title('Средние значения кластеров')\n",
    "ax.legend()\n",
    "ax.grid()\n",
    "plt.show()"
   ]
  },
  {
   "attachments": {},
   "cell_type": "markdown",
   "metadata": {},
   "source": [
    "#### Гипотеза о проверке разности двух ожиданий (значимости различия средних)\n",
    "\n",
    "Статистика критерия:\n",
    "\n",
    "$$ \\large t_{n_1+n_2-2} = \\frac{\\frac{nm}{n+m} \\cdot \\frac{\\bar{\\xi} - \\bar{\\eta}-(\\mu_1 - \\mu_2)}{\\sigma}}{\\sqrt{\\frac{n_1S_{\\eta}^2 + n_2S_{\\eta}^2}{\\sigma^2(n_1+n_2-2)}}}$$\n",
    "\n",
    "Двусторонняя альтернатива:\n",
    "\n",
    "$$ \\large H_0: E\\xi = E\\eta, H_1 : E\\xi \\neq E\\eta$$\n",
    "\n",
    "Критрическая область: \n",
    "\n",
    "$$ \\large |t_{n_1+n_2-2}| < t_{1-\\frac{\\alpha}{2}}$$"
   ]
  },
  {
   "cell_type": "code",
   "execution_count": 11,
   "metadata": {},
   "outputs": [],
   "source": [
    "first_cluster, second_cluster = X[data['best_result'] == 0], X[data['best_result'] == 1]"
   ]
  },
  {
   "cell_type": "code",
   "execution_count": 12,
   "metadata": {},
   "outputs": [],
   "source": [
    "exi1, exi2 = first_cluster.mean(axis = 0), second_cluster.mean(axis = 0)\n",
    "sn1, sn2 = first_cluster.var(axis = 0), second_cluster.var(axis = 0)\n",
    "n1, n2 = first_cluster.shape[0], second_cluster.shape[0]"
   ]
  },
  {
   "cell_type": "markdown",
   "metadata": {},
   "source": [
    "#### Высчитываем t-стат для каждой выборки"
   ]
  },
  {
   "cell_type": "code",
   "execution_count": 13,
   "metadata": {},
   "outputs": [
    {
     "data": {
      "text/plain": [
       "array([3.13031996, 1.08099534, 1.17520325])"
      ]
     },
     "execution_count": 13,
     "metadata": {},
     "output_type": "execute_result"
    }
   ],
   "source": [
    "t_stat = abs((n1*n2) / (n1*n2) * (exi1 - exi2) / np.sqrt((n1*sn1 + n2*sn2)/(n1+n2-2)))\n",
    "t_stat"
   ]
  },
  {
   "cell_type": "code",
   "execution_count": 14,
   "metadata": {},
   "outputs": [],
   "source": [
    "from scipy.stats import t"
   ]
  },
  {
   "cell_type": "code",
   "execution_count": 15,
   "metadata": {},
   "outputs": [
    {
     "data": {
      "text/plain": [
       "array([7.74223883e-06, 5.16498601e-03, 3.69518798e-03])"
      ]
     },
     "execution_count": 15,
     "metadata": {},
     "output_type": "execute_result"
    }
   ],
   "source": [
    "p_value = 1 - t.cdf(n1+n2-2, t_stat)\n",
    "p_value"
   ]
  },
  {
   "cell_type": "markdown",
   "metadata": {},
   "source": [
    "#### Гипотеза о незначимости различия средних верна."
   ]
  }
 ],
 "metadata": {
  "kernelspec": {
   "display_name": "Python 3",
   "language": "python",
   "name": "python3"
  },
  "language_info": {
   "codemirror_mode": {
    "name": "ipython",
    "version": 3
   },
   "file_extension": ".py",
   "mimetype": "text/x-python",
   "name": "python",
   "nbconvert_exporter": "python",
   "pygments_lexer": "ipython3",
   "version": "3.8.3"
  }
 },
 "nbformat": 4,
 "nbformat_minor": 4
}
