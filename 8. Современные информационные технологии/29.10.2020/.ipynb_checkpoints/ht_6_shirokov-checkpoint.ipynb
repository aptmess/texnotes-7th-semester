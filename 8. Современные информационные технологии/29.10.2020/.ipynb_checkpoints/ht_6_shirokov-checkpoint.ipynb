{
 "cells": [
  {
   "cell_type": "code",
   "execution_count": 11,
   "metadata": {},
   "outputs": [],
   "source": [
    "import numpy as np\n",
    "import pandas as pd\n",
    "import seaborn as sns\n",
    "import matplotlib.pyplot as plt"
   ]
  },
  {
   "cell_type": "markdown",
   "metadata": {},
   "source": [
    "Датасет `beer` описывает, что влияет на поведение покупателя при выборе пива. Потребители (`n=99`) оценивают по шкале от `0` до `100`, насколько важно он учитывает каждое из семи качеств при принятии решения о покупке шести упаковок:\n",
    "\n",
    "| Переменная |Описание переменной |\n",
    "| --- | --- |\n",
    "| cost | Стоимость шести упаковок |\n",
    "| size | Размер бутылки (объём) |\n",
    "| alcohol |Процент алкоголя в пиве |\n",
    "| reputat | Репутация бренда |\n",
    "| color | Цвет пива |\n",
    "| aroma | Аромат пива |\n",
    "| taste | Вкус пива |"
   ]
  },
  {
   "cell_type": "code",
   "execution_count": 12,
   "metadata": {},
   "outputs": [
    {
     "data": {
      "text/html": [
       "<div>\n",
       "<style scoped>\n",
       "    .dataframe tbody tr th:only-of-type {\n",
       "        vertical-align: middle;\n",
       "    }\n",
       "\n",
       "    .dataframe tbody tr th {\n",
       "        vertical-align: top;\n",
       "    }\n",
       "\n",
       "    .dataframe thead th {\n",
       "        text-align: right;\n",
       "    }\n",
       "</style>\n",
       "<table border=\"1\" class=\"dataframe\">\n",
       "  <thead>\n",
       "    <tr style=\"text-align: right;\">\n",
       "      <th></th>\n",
       "      <th>cost</th>\n",
       "      <th>size</th>\n",
       "      <th>alcohol</th>\n",
       "      <th>reputat</th>\n",
       "      <th>color</th>\n",
       "      <th>aroma</th>\n",
       "      <th>taste</th>\n",
       "    </tr>\n",
       "  </thead>\n",
       "  <tbody>\n",
       "    <tr>\n",
       "      <th>0</th>\n",
       "      <td>10</td>\n",
       "      <td>15</td>\n",
       "      <td>20</td>\n",
       "      <td>85</td>\n",
       "      <td>40</td>\n",
       "      <td>30</td>\n",
       "      <td>50</td>\n",
       "    </tr>\n",
       "    <tr>\n",
       "      <th>1</th>\n",
       "      <td>100</td>\n",
       "      <td>70</td>\n",
       "      <td>50</td>\n",
       "      <td>30</td>\n",
       "      <td>75</td>\n",
       "      <td>60</td>\n",
       "      <td>80</td>\n",
       "    </tr>\n",
       "    <tr>\n",
       "      <th>2</th>\n",
       "      <td>65</td>\n",
       "      <td>30</td>\n",
       "      <td>35</td>\n",
       "      <td>80</td>\n",
       "      <td>80</td>\n",
       "      <td>60</td>\n",
       "      <td>90</td>\n",
       "    </tr>\n",
       "    <tr>\n",
       "      <th>3</th>\n",
       "      <td>0</td>\n",
       "      <td>0</td>\n",
       "      <td>20</td>\n",
       "      <td>30</td>\n",
       "      <td>80</td>\n",
       "      <td>90</td>\n",
       "      <td>100</td>\n",
       "    </tr>\n",
       "    <tr>\n",
       "      <th>4</th>\n",
       "      <td>10</td>\n",
       "      <td>25</td>\n",
       "      <td>10</td>\n",
       "      <td>100</td>\n",
       "      <td>50</td>\n",
       "      <td>40</td>\n",
       "      <td>60</td>\n",
       "    </tr>\n",
       "  </tbody>\n",
       "</table>\n",
       "</div>"
      ],
      "text/plain": [
       "   cost  size  alcohol  reputat  color  aroma  taste\n",
       "0    10    15       20       85     40     30     50\n",
       "1   100    70       50       30     75     60     80\n",
       "2    65    30       35       80     80     60     90\n",
       "3     0     0       20       30     80     90    100\n",
       "4    10    25       10      100     50     40     60"
      ]
     },
     "execution_count": 12,
     "metadata": {},
     "output_type": "execute_result"
    }
   ],
   "source": [
    "beer = pd.read_excel('beer_pca.xls')\n",
    "beer.head()"
   ]
  },
  {
   "cell_type": "markdown",
   "metadata": {},
   "source": [
    "## Подготовка исходной матрицы"
   ]
  },
  {
   "cell_type": "markdown",
   "metadata": {},
   "source": [
    "### Очистка данных"
   ]
  },
  {
   "cell_type": "code",
   "execution_count": 33,
   "metadata": {},
   "outputs": [
    {
     "name": "stdout",
     "output_type": "stream",
     "text": [
      "<class 'pandas.core.frame.DataFrame'>\n",
      "RangeIndex: 99 entries, 0 to 98\n",
      "Data columns (total 7 columns):\n",
      " #   Column   Non-Null Count  Dtype\n",
      "---  ------   --------------  -----\n",
      " 0   cost     99 non-null     int64\n",
      " 1   size     99 non-null     int64\n",
      " 2   alcohol  99 non-null     int64\n",
      " 3   reputat  99 non-null     int64\n",
      " 4   color    99 non-null     int64\n",
      " 5   aroma    99 non-null     int64\n",
      " 6   taste    99 non-null     int64\n",
      "dtypes: int64(7)\n",
      "memory usage: 5.5 KB\n"
     ]
    }
   ],
   "source": [
    "beer.info()"
   ]
  },
  {
   "cell_type": "markdown",
   "metadata": {},
   "source": [
    "Очищать нечего, данные предоставлены в отличном виде.\n",
    "\n",
    "### Обработка выбросов"
   ]
  },
  {
   "cell_type": "code",
   "execution_count": 31,
   "metadata": {},
   "outputs": [
    {
     "data": {
      "image/png": "[encoded data removed]",
      "text/plain": [
       "<Figure size 1152x720 with 1 Axes>"
      ]
     },
     "metadata": {
      "needs_background": "light"
     },
     "output_type": "display_data"
    }
   ],
   "source": [
    "fig, ax = plt.subplots(1, 1, figsize=(16, 10))\n",
    "sns.boxplot(data=beer, ax=ax, orient=\"h\", palette=\"Set3\", color=\".1\")\n",
    "plt.show()"
   ]
  },
  {
   "cell_type": "markdown",
   "metadata": {},
   "source": [
    "Да, boxplot показывает, что есть выбросы, но если посмотреть на `value_counts`, то видно, что эти выбросы содержатся в той же количестве, что и остальные, поэтому ими пренебрегать нельзя."
   ]
  },
  {
   "cell_type": "code",
   "execution_count": 43,
   "metadata": {},
   "outputs": [
    {
     "data": {
      "text/plain": [
       "{10: 22, 100: 11, 65: 11, 25: 11, 20: 11, 15: 11, 5: 11, 0: 11}"
      ]
     },
     "execution_count": 43,
     "metadata": {},
     "output_type": "execute_result"
    }
   ],
   "source": [
    "pd.value_counts(beer.cost).to_dict()"
   ]
  },
  {
   "cell_type": "markdown",
   "metadata": {},
   "source": [
    "### Стандартизация"
   ]
  },
  {
   "cell_type": "code",
   "execution_count": 44,
   "metadata": {},
   "outputs": [
    {
     "data": {
      "text/plain": [
       "(99, 7)"
      ]
     },
     "execution_count": 44,
     "metadata": {},
     "output_type": "execute_result"
    }
   ],
   "source": [
    "X = beer.values\n",
    "X_normalise = (X - X.mean(axis = 0)) / X.std(axis = 0, ddof = 1)\n",
    "X_normalise.shape"
   ]
  },
  {
   "cell_type": "markdown",
   "metadata": {},
   "source": [
    "## Первое факторное решение PCA"
   ]
  },
  {
   "cell_type": "markdown",
   "metadata": {},
   "source": [
    "## Применимость PCA\n",
    "\n",
    "Проверим на применимость PCA"
   ]
  },
  {
   "cell_type": "code",
   "execution_count": 47,
   "metadata": {},
   "outputs": [
    {
     "data": {
      "text/plain": [
       "array([[ 1.        ,  0.87839386,  0.87701914, -0.17478295,  0.32089406,\n",
       "        -0.02764234,  0.05398178],\n",
       "       [ 0.87839386,  1.        ,  0.82366835, -0.06123364,  0.01440715,\n",
       "        -0.28623653, -0.30751097],\n",
       "       [ 0.87701914,  0.82366835,  1.        , -0.36051498,  0.3976967 ,\n",
       "         0.09767766,  0.05580493],\n",
       "       [-0.17478295, -0.06123364, -0.36051498,  1.        , -0.52379944,\n",
       "        -0.52151496, -0.6264956 ],\n",
       "       [ 0.32089406,  0.01440715,  0.3976967 , -0.52379944,  1.        ,\n",
       "         0.82324397,  0.80486985],\n",
       "       [-0.02764234, -0.28623653,  0.09767766, -0.52151496,  0.82324397,\n",
       "         1.        ,  0.86607319],\n",
       "       [ 0.05398178, -0.30751097,  0.05580493, -0.6264956 ,  0.80486985,\n",
       "         0.86607319,  1.        ]])"
      ]
     },
     "execution_count": 47,
     "metadata": {},
     "output_type": "execute_result"
    }
   ],
   "source": [
    "cov_matrix = np.cov(X_normalise, rowvar=False)\n",
    "cov_matrix"
   ]
  },
  {
   "cell_type": "code",
   "execution_count": 48,
   "metadata": {},
   "outputs": [
    {
     "data": {
      "text/plain": [
       "array([[ 1.        ,  0.87839386,  0.87701914, -0.17478295,  0.32089406,\n",
       "        -0.02764234,  0.05398178],\n",
       "       [ 0.87839386,  1.        ,  0.82366835, -0.06123364,  0.01440715,\n",
       "        -0.28623653, -0.30751097],\n",
       "       [ 0.87701914,  0.82366835,  1.        , -0.36051498,  0.3976967 ,\n",
       "         0.09767766,  0.05580493],\n",
       "       [-0.17478295, -0.06123364, -0.36051498,  1.        , -0.52379944,\n",
       "        -0.52151496, -0.6264956 ],\n",
       "       [ 0.32089406,  0.01440715,  0.3976967 , -0.52379944,  1.        ,\n",
       "         0.82324397,  0.80486985],\n",
       "       [-0.02764234, -0.28623653,  0.09767766, -0.52151496,  0.82324397,\n",
       "         1.        ,  0.86607319],\n",
       "       [ 0.05398178, -0.30751097,  0.05580493, -0.6264956 ,  0.80486985,\n",
       "         0.86607319,  1.        ]])"
      ]
     },
     "execution_count": 48,
     "metadata": {},
     "output_type": "execute_result"
    }
   ],
   "source": [
    "corr_matrix = np.corrcoef(X_normalise, rowvar = False)\n",
    "corr_matrix"
   ]
  },
  {
   "cell_type": "code",
   "execution_count": 51,
   "metadata": {},
   "outputs": [
    {
     "data": {
      "text/html": [
       "<div>\n",
       "<style scoped>\n",
       "    .dataframe tbody tr th:only-of-type {\n",
       "        vertical-align: middle;\n",
       "    }\n",
       "\n",
       "    .dataframe tbody tr th {\n",
       "        vertical-align: top;\n",
       "    }\n",
       "\n",
       "    .dataframe thead th {\n",
       "        text-align: right;\n",
       "    }\n",
       "</style>\n",
       "<table border=\"1\" class=\"dataframe\">\n",
       "  <thead>\n",
       "    <tr style=\"text-align: right;\">\n",
       "      <th></th>\n",
       "      <th>cost</th>\n",
       "      <th>size</th>\n",
       "      <th>alcohol</th>\n",
       "      <th>reputat</th>\n",
       "      <th>color</th>\n",
       "      <th>aroma</th>\n",
       "      <th>taste</th>\n",
       "    </tr>\n",
       "  </thead>\n",
       "  <tbody>\n",
       "    <tr>\n",
       "      <th>cost</th>\n",
       "      <td>1.000000</td>\n",
       "      <td>0.878394</td>\n",
       "      <td>0.877019</td>\n",
       "      <td>-0.174783</td>\n",
       "      <td>0.320894</td>\n",
       "      <td>-0.027642</td>\n",
       "      <td>0.053982</td>\n",
       "    </tr>\n",
       "    <tr>\n",
       "      <th>size</th>\n",
       "      <td>0.878394</td>\n",
       "      <td>1.000000</td>\n",
       "      <td>0.823668</td>\n",
       "      <td>-0.061234</td>\n",
       "      <td>0.014407</td>\n",
       "      <td>-0.286237</td>\n",
       "      <td>-0.307511</td>\n",
       "    </tr>\n",
       "    <tr>\n",
       "      <th>alcohol</th>\n",
       "      <td>0.877019</td>\n",
       "      <td>0.823668</td>\n",
       "      <td>1.000000</td>\n",
       "      <td>-0.360515</td>\n",
       "      <td>0.397697</td>\n",
       "      <td>0.097678</td>\n",
       "      <td>0.055805</td>\n",
       "    </tr>\n",
       "    <tr>\n",
       "      <th>reputat</th>\n",
       "      <td>-0.174783</td>\n",
       "      <td>-0.061234</td>\n",
       "      <td>-0.360515</td>\n",
       "      <td>1.000000</td>\n",
       "      <td>-0.523799</td>\n",
       "      <td>-0.521515</td>\n",
       "      <td>-0.626496</td>\n",
       "    </tr>\n",
       "    <tr>\n",
       "      <th>color</th>\n",
       "      <td>0.320894</td>\n",
       "      <td>0.014407</td>\n",
       "      <td>0.397697</td>\n",
       "      <td>-0.523799</td>\n",
       "      <td>1.000000</td>\n",
       "      <td>0.823244</td>\n",
       "      <td>0.804870</td>\n",
       "    </tr>\n",
       "    <tr>\n",
       "      <th>aroma</th>\n",
       "      <td>-0.027642</td>\n",
       "      <td>-0.286237</td>\n",
       "      <td>0.097678</td>\n",
       "      <td>-0.521515</td>\n",
       "      <td>0.823244</td>\n",
       "      <td>1.000000</td>\n",
       "      <td>0.866073</td>\n",
       "    </tr>\n",
       "    <tr>\n",
       "      <th>taste</th>\n",
       "      <td>0.053982</td>\n",
       "      <td>-0.307511</td>\n",
       "      <td>0.055805</td>\n",
       "      <td>-0.626496</td>\n",
       "      <td>0.804870</td>\n",
       "      <td>0.866073</td>\n",
       "      <td>1.000000</td>\n",
       "    </tr>\n",
       "  </tbody>\n",
       "</table>\n",
       "</div>"
      ],
      "text/plain": [
       "             cost      size   alcohol   reputat     color     aroma     taste\n",
       "cost     1.000000  0.878394  0.877019 -0.174783  0.320894 -0.027642  0.053982\n",
       "size     0.878394  1.000000  0.823668 -0.061234  0.014407 -0.286237 -0.307511\n",
       "alcohol  0.877019  0.823668  1.000000 -0.360515  0.397697  0.097678  0.055805\n",
       "reputat -0.174783 -0.061234 -0.360515  1.000000 -0.523799 -0.521515 -0.626496\n",
       "color    0.320894  0.014407  0.397697 -0.523799  1.000000  0.823244  0.804870\n",
       "aroma   -0.027642 -0.286237  0.097678 -0.521515  0.823244  1.000000  0.866073\n",
       "taste    0.053982 -0.307511  0.055805 -0.626496  0.804870  0.866073  1.000000"
      ]
     },
     "execution_count": 51,
     "metadata": {},
     "output_type": "execute_result"
    }
   ],
   "source": [
    "cor_df = pd.DataFrame(corr_matrix, \n",
    "                      columns = beer.columns, \n",
    "                      index =  beer.columns)\n",
    "cor_df"
   ]
  },
  {
   "cell_type": "code",
   "execution_count": 54,
   "metadata": {},
   "outputs": [
    {
     "data": {
      "image/png": "[encoded data removed]",
      "text/plain": [
       "<Figure size 1008x720 with 2 Axes>"
      ]
     },
     "metadata": {
      "needs_background": "light"
     },
     "output_type": "display_data"
    }
   ],
   "source": [
    "plt.figure(figsize=(14, 10))\n",
    "sns.heatmap(cor_df, \\\n",
    "            xticklabels=cor_df.columns, \\\n",
    "            yticklabels=cor_df.columns, \\\n",
    "            cmap=sns.cubehelix_palette(), center=0, annot=True)\n",
    "\n",
    "# Decorations\n",
    "plt.title('Коррелограмма', fontsize=22)\n",
    "plt.xticks(fontsize=12)\n",
    "plt.yticks(fontsize=12)\n",
    "plt.show()"
   ]
  },
  {
   "cell_type": "markdown",
   "metadata": {},
   "source": [
    "Можно заметить, что первые три признака очень сильно коллерируют. как и три последних между собой."
   ]
  },
  {
   "cell_type": "code",
   "execution_count": 55,
   "metadata": {},
   "outputs": [
    {
     "data": {
      "image/png": "[encoded data removed]",
      "text/plain": [
       "<Figure size 1260x1260 with 56 Axes>"
      ]
     },
     "metadata": {
      "needs_background": "light"
     },
     "output_type": "display_data"
    }
   ],
   "source": [
    "sns.pairplot(beer, \\\n",
    "             kind=\"scatter\",  \\\n",
    "             plot_kws=dict(s=40, edgecolor=\"white\", color = 'indigo', linewidth=2.5),\n",
    "             markers=[\"o\"],diag_kws=dict(fill=False))\n",
    "plt.show()"
   ]
  },
  {
   "cell_type": "markdown",
   "metadata": {},
   "source": [
    "Видно, что для первых трех признаков и для последних трех признаков есть сильная линейная зависимость, так что будем применять PCA"
   ]
  },
  {
   "cell_type": "markdown",
   "metadata": {},
   "source": [
    "### Тест сферичности Бартлетта"
   ]
  },
  {
   "cell_type": "code",
   "execution_count": 56,
   "metadata": {},
   "outputs": [],
   "source": [
    "import numpy as np\n",
    "import math as math\n",
    "import scipy.stats as stats\n",
    "import collections\n",
    "\n",
    "def bartlett_sphericity(dataset, corr_method=\"pearson\"):\n",
    "    '''\n",
    "    n, p = \n",
    "    '''\n",
    "    n, p  = dataset.shape\n",
    "    n_p_ratio = n / p\n",
    "    chi2 = - (n - 1 - (2 * p + 5) / 6) * \\\n",
    "    math.log(np.linalg.det(dataset.corr(method=corr_method))) #статистика критерия\n",
    "    ddl = p * (p - 1) / 2 #количество степеней свободы\n",
    "    pvalue = 1 - stats.chi2.cdf(chi2 , ddl) #pvalue\n",
    "    Result = collections.namedtuple(\"Bartlett\", [\"chi2\", \"ddl\", \"pvalue\"], rename=False)   \n",
    "    result = Result(chi2=chi2,ddl=ddl,pvalue=pvalue) \n",
    "    if n_p_ratio >= 5 :\n",
    "        print(\"n_p_ratio: {0:8.2f}\".format(n_p_ratio))\n",
    "        print(r\"Лучше все-таки исползовать КМО, так как применяется для n / p < 5\")\n",
    "    return result"
   ]
  },
  {
   "cell_type": "code",
   "execution_count": 57,
   "metadata": {},
   "outputs": [
    {
     "name": "stdout",
     "output_type": "stream",
     "text": [
      "n_p_ratio:    14.14\n",
      "Лучше все-таки исползовать КМО, так как применяется для n / p < 5\n"
     ]
    },
    {
     "data": {
      "text/plain": [
       "Bartlett(chi2=831.0324682002719, ddl=21.0, pvalue=0.0)"
      ]
     },
     "execution_count": 57,
     "metadata": {},
     "output_type": "execute_result"
    }
   ],
   "source": [
    "bartlett_sphericity(beer)"
   ]
  },
  {
   "cell_type": "markdown",
   "metadata": {},
   "source": [
    "Нулевая гипотеза отвергается, применить можем.\n",
    "\n",
    "### KMO"
   ]
  },
  {
   "cell_type": "code",
   "execution_count": 58,
   "metadata": {},
   "outputs": [],
   "source": [
    "def kmo(dataset_corr):\n",
    "    \n",
    "    import numpy as np\n",
    "    import math as math\n",
    "    import collections\n",
    "    \n",
    "    r\"\"\"\n",
    "    \n",
    "    Parameters\n",
    "    ----------\n",
    "    dataset_corr : ndarray\n",
    "        Array containing dataset correlation\n",
    "        \n",
    "    Returns\n",
    "    -------\n",
    "    out : namedtuple\n",
    "        The function outputs the test value (value), the test value per variable (per_variable)\n",
    "       \n",
    "        Ex:\n",
    "        Out[30]: \n",
    "        KMO_Test_Results(value=0.798844102413, \n",
    "        per_variable=\n",
    "        Q1     0.812160468405\n",
    "        Q2     0.774161264483\n",
    "        Q3     0.786819432663\n",
    "        Q4     0.766251123086\n",
    "        Q5     0.800579196084\n",
    "        Q6     0.842927745203 \n",
    "        Q7     0.792010173432 \n",
    "        Q8     0.862037322891\n",
    "        Q9     0.714795031915 \n",
    "        Q10    0.856497242574\n",
    "        dtype: float64)\n",
    "    \n",
    "    References\n",
    "    ----------    \n",
    "    [1] Kaiser, H. F. (1970). A second generation little jiffy. Psychometrika, 35(4), 401-415.\n",
    "    [2] Kaiser, H. F. (1974). An index of factorial simplicity. Psychometrika, 39(1), 31-36.\n",
    "    [3] R. Sarmento and V. Costa, (2017)\n",
    "    \"Comparative Approaches to Using R and Python for Statistical Data Analysis\", IGI-Global\n",
    "    \n",
    "    Examples\n",
    "    --------\n",
    "    illustration how to use the function.\n",
    "    \n",
    "    >>> kmo_test(survey_data.corr(method=\"spearman\"))\n",
    "         \n",
    "        KMO_Test_Results(value=0.798844102413, \n",
    "        per_variable=\n",
    "        Q1     0.812160468405\n",
    "        Q2     0.774161264483\n",
    "        Q3     0.786819432663\n",
    "        Q4     0.766251123086\n",
    "        Q5     0.800579196084\n",
    "        Q6     0.842927745203 \n",
    "        Q7     0.792010173432 \n",
    "        Q8     0.862037322891\n",
    "        Q9     0.714795031915 \n",
    "        Q10    0.856497242574\n",
    "        dtype: float64) \n",
    "    \"\"\"\n",
    "    \n",
    "    \n",
    "\n",
    "    #KMO Test\n",
    "    #inverse of the correlation matrix\n",
    "    corr_inv = np.linalg.inv(dataset_corr)\n",
    "    nrow_inv_corr, ncol_inv_corr = dataset_corr.shape\n",
    "    \n",
    "    #partial correlation matrix\n",
    "    A = np.ones((nrow_inv_corr,ncol_inv_corr))\n",
    "    for i in range(0,nrow_inv_corr,1):\n",
    "        for j in range(i,ncol_inv_corr,1):\n",
    "            #above the diagonal\n",
    "            A[i,j] = - (corr_inv[i,j]) / (math.sqrt(corr_inv[i,i] * corr_inv[j,j]))\n",
    "            #below the diagonal\n",
    "            A[j,i] = A[i,j]\n",
    "    \n",
    "    #transform to an array of arrays (\"matrix\" with Python)\n",
    "    dataset_corr = np.asarray(dataset_corr)\n",
    "        \n",
    "    #KMO value\n",
    "    kmo_num = np.sum(np.square(dataset_corr)) - np.sum(np.square(np.diagonal(dataset_corr)))\n",
    "    kmo_denom = kmo_num + np.sum(np.square(A)) - np.sum(np.square(np.diagonal(A)))\n",
    "    kmo_value = kmo_num / kmo_denom\n",
    "    \n",
    "    \n",
    "    kmo_j = [None]*dataset_corr.shape[1]\n",
    "    #KMO per variable (diagonal of the spss anti-image matrix)\n",
    "    for j in range(0, dataset_corr.shape[1]):\n",
    "        kmo_j_num = np.sum(dataset_corr[:,[j]] ** 2) - dataset_corr[j,j] ** 2\n",
    "        kmo_j_denom = kmo_j_num + np.sum(A[:,[j]] ** 2) - A[j,j] ** 2\n",
    "        kmo_j[j] = kmo_j_num / kmo_j_denom\n",
    "\n",
    "    \n",
    "    Result = collections.namedtuple(\"KMO_Test_Results\", [\"value\", \"per_variable\"])   \n",
    "    \n",
    "    #Output of the results - named tuple    \n",
    "    return Result(value=kmo_value,per_variable=kmo_j)"
   ]
  },
  {
   "cell_type": "code",
   "execution_count": 59,
   "metadata": {},
   "outputs": [
    {
     "data": {
      "text/plain": [
       "KMO_Test_Results(value=0.5036180362055123, per_variable=[0.4035957409502856, 0.5245392516044737, 0.5511565956631997, 0.368942059375074, 0.8473789900129414, 0.5606906605909193, 0.4278649781528824])"
      ]
     },
     "execution_count": 59,
     "metadata": {},
     "output_type": "execute_result"
    }
   ],
   "source": [
    "kmo(dataset_corr=cor_df)"
   ]
  },
  {
   "cell_type": "markdown",
   "metadata": {},
   "source": [
    "## Отбор факторов"
   ]
  },
  {
   "cell_type": "markdown",
   "metadata": {},
   "source": [
    "### Собственная значения"
   ]
  },
  {
   "cell_type": "code",
   "execution_count": 60,
   "metadata": {},
   "outputs": [
    {
     "data": {
      "text/plain": [
       "array([3.30608184, 2.71920565, 0.56737072, 0.19343133, 0.01722212,\n",
       "       0.07673458, 0.11995376])"
      ]
     },
     "execution_count": 60,
     "metadata": {},
     "output_type": "execute_result"
    }
   ],
   "source": [
    "eig_values, eig_vectors =  np.linalg.eig(corr_matrix)\n",
    "eig_values"
   ]
  },
  {
   "cell_type": "code",
   "execution_count": 77,
   "metadata": {},
   "outputs": [
    {
     "data": {
      "image/png": "[encoded data removed]",
      "text/plain": [
       "<Figure size 576x432 with 1 Axes>"
      ]
     },
     "metadata": {
      "needs_background": "light"
     },
     "output_type": "display_data"
    }
   ],
   "source": [
    "fig, ax = plt.subplots(1,1, figsize = (8,6))\n",
    "ax.bar(range(1, len(eig_values)+1), eig_values, label = 'Собственные значения', color = 'indigo')\n",
    "ax.plot(np.full(8, 1), '--',color='green')\n",
    "ax.legend()\n",
    "plt.show()"
   ]
  },
  {
   "cell_type": "code",
   "execution_count": 94,
   "metadata": {},
   "outputs": [
    {
     "data": {
      "image/png": "[encoded data removed]",
      "text/plain": [
       "<Figure size 576x432 with 1 Axes>"
      ]
     },
     "metadata": {
      "needs_background": "light"
     },
     "output_type": "display_data"
    }
   ],
   "source": [
    "fig, ax = plt.subplots(1,1, figsize = (8,6))\n",
    "l_eig = range(1, len(eig_values)+1)\n",
    "ax.plot(l_eig , eig_values, label = 'Собственные значения', color = 'darkblue')\n",
    "for i, j in zip(l_eig, eig_values):\n",
    "    ax.text(i, j, f'{j:.2}')\n",
    "ax.legend()\n",
    "plt.show()"
   ]
  },
  {
   "cell_type": "markdown",
   "metadata": {},
   "source": [
    "**Вывод**: будем брать только 2 новых признака, так как для 3-признаков собственное число `< 1`"
   ]
  },
  {
   "cell_type": "markdown",
   "metadata": {},
   "source": [
    "### Процент дисперсии переменной объясненной фактором"
   ]
  },
  {
   "cell_type": "code",
   "execution_count": 78,
   "metadata": {},
   "outputs": [
    {
     "data": {
      "text/plain": [
       "array([47.22974055, 38.84579507,  8.10529596,  2.76330472,  0.24603027,\n",
       "        1.0962083 ,  1.71362514])"
      ]
     },
     "execution_count": 78,
     "metadata": {},
     "output_type": "execute_result"
    }
   ],
   "source": [
    "eig_values / np.sum(eig_values)*100"
   ]
  },
  {
   "cell_type": "markdown",
   "metadata": {},
   "source": [
    "### Объясненная сумма дисперсии"
   ]
  },
  {
   "cell_type": "code",
   "execution_count": 95,
   "metadata": {},
   "outputs": [
    {
     "data": {
      "text/plain": [
       "array([ 47.22974055,  86.07553562,  94.18083157,  96.94413629,\n",
       "        97.19016656,  98.28637486, 100.        ])"
      ]
     },
     "execution_count": 95,
     "metadata": {},
     "output_type": "execute_result"
    }
   ],
   "source": [
    "np.cumsum(eig_values)/ np.sum(eig_values)*100"
   ]
  },
  {
   "cell_type": "markdown",
   "metadata": {},
   "source": [
    "**Вывод**: первые два признака будут объяснять 86 процентов общей дисперсии, а добавление третьего принесет лишь 8 процентов."
   ]
  },
  {
   "cell_type": "markdown",
   "metadata": {},
   "source": [
    "Количество факторов: видим, что первый и второй фактор вносят наибольший вклад в объясненную дисперсию, да и графически это тоже определяется. В итоге выбираем  2  фактора."
   ]
  },
  {
   "cell_type": "markdown",
   "metadata": {},
   "source": [
    "### Матрица нагрузок и факторов"
   ]
  },
  {
   "cell_type": "code",
   "execution_count": 96,
   "metadata": {},
   "outputs": [
    {
     "data": {
      "text/plain": [
       "(99, 7)"
      ]
     },
     "execution_count": 96,
     "metadata": {},
     "output_type": "execute_result"
    }
   ],
   "source": [
    "score = X_normalise @ (eig_vectors)\n",
    "score.shape"
   ]
  },
  {
   "cell_type": "code",
   "execution_count": 97,
   "metadata": {},
   "outputs": [
    {
     "data": {
      "text/plain": [
       "(99, 7)"
      ]
     },
     "execution_count": 97,
     "metadata": {},
     "output_type": "execute_result"
    }
   ],
   "source": [
    "factors1 = np.array([np.array(a / np.sqrt(b)) for a, b in zip(score.T, eig_values)]).T\n",
    "factors1.shape"
   ]
  },
  {
   "cell_type": "code",
   "execution_count": 98,
   "metadata": {},
   "outputs": [
    {
     "data": {
      "text/plain": [
       "array([[ 0.50507156,  0.81642709,  0.14796948,  0.2206552 , -0.07994558,\n",
       "        -0.03211433,  0.01852619],\n",
       "       [ 0.22575042,  0.95074889, -0.01433637, -0.01014812,  0.05464093,\n",
       "         0.16593253,  0.11952213],\n",
       "       [ 0.59770961,  0.75683035, -0.02527506, -0.18560161,  0.03597226,\n",
       "        -0.17698789, -0.04738728],\n",
       "       [-0.74109582,  0.12379735,  0.657736  ,  0.00709503,  0.02660709,\n",
       "        -0.03880248,  0.02388822],\n",
       "       [ 0.90610534, -0.18767795,  0.27546374, -0.07634876, -0.00298299,\n",
       "         0.11035837, -0.22327748],\n",
       "       [ 0.78614039, -0.51353673,  0.184743  , -0.17941589, -0.03369897,\n",
       "         0.00159894,  0.22539985],\n",
       "       [ 0.80901046, -0.51153501,  0.04477163,  0.26855565,  0.0685473 ,\n",
       "        -0.05619407,  0.04302177]])"
      ]
     },
     "execution_count": 98,
     "metadata": {},
     "output_type": "execute_result"
    }
   ],
   "source": [
    "from scipy.stats.stats import pearsonr\n",
    "matrix_of_volt = np.array([[pearsonr(X_normalise[:,i],factors1[:,j])[0] for j in range(0, factors1.shape[1])] for i in range(0,factors1.shape[1])])\n",
    "matrix_of_volt"
   ]
  },
  {
   "cell_type": "code",
   "execution_count": 102,
   "metadata": {},
   "outputs": [
    {
     "data": {
      "text/html": [
       "<div>\n",
       "<style scoped>\n",
       "    .dataframe tbody tr th:only-of-type {\n",
       "        vertical-align: middle;\n",
       "    }\n",
       "\n",
       "    .dataframe tbody tr th {\n",
       "        vertical-align: top;\n",
       "    }\n",
       "\n",
       "    .dataframe thead th {\n",
       "        text-align: right;\n",
       "    }\n",
       "</style>\n",
       "<table border=\"1\" class=\"dataframe\">\n",
       "  <thead>\n",
       "    <tr style=\"text-align: right;\">\n",
       "      <th></th>\n",
       "      <th>1</th>\n",
       "      <th>2</th>\n",
       "      <th>3</th>\n",
       "      <th>4</th>\n",
       "      <th>5</th>\n",
       "      <th>6</th>\n",
       "      <th>7</th>\n",
       "    </tr>\n",
       "  </thead>\n",
       "  <tbody>\n",
       "    <tr>\n",
       "      <th>cost</th>\n",
       "      <td>0.505072</td>\n",
       "      <td>0.816427</td>\n",
       "      <td>0.147969</td>\n",
       "      <td>0.220655</td>\n",
       "      <td>-0.079946</td>\n",
       "      <td>-0.032114</td>\n",
       "      <td>0.018526</td>\n",
       "    </tr>\n",
       "    <tr>\n",
       "      <th>size</th>\n",
       "      <td>0.225750</td>\n",
       "      <td>0.950749</td>\n",
       "      <td>-0.014336</td>\n",
       "      <td>-0.010148</td>\n",
       "      <td>0.054641</td>\n",
       "      <td>0.165933</td>\n",
       "      <td>0.119522</td>\n",
       "    </tr>\n",
       "    <tr>\n",
       "      <th>alcohol</th>\n",
       "      <td>0.597710</td>\n",
       "      <td>0.756830</td>\n",
       "      <td>-0.025275</td>\n",
       "      <td>-0.185602</td>\n",
       "      <td>0.035972</td>\n",
       "      <td>-0.176988</td>\n",
       "      <td>-0.047387</td>\n",
       "    </tr>\n",
       "    <tr>\n",
       "      <th>reputat</th>\n",
       "      <td>-0.741096</td>\n",
       "      <td>0.123797</td>\n",
       "      <td>0.657736</td>\n",
       "      <td>0.007095</td>\n",
       "      <td>0.026607</td>\n",
       "      <td>-0.038802</td>\n",
       "      <td>0.023888</td>\n",
       "    </tr>\n",
       "    <tr>\n",
       "      <th>color</th>\n",
       "      <td>0.906105</td>\n",
       "      <td>-0.187678</td>\n",
       "      <td>0.275464</td>\n",
       "      <td>-0.076349</td>\n",
       "      <td>-0.002983</td>\n",
       "      <td>0.110358</td>\n",
       "      <td>-0.223277</td>\n",
       "    </tr>\n",
       "    <tr>\n",
       "      <th>aroma</th>\n",
       "      <td>0.786140</td>\n",
       "      <td>-0.513537</td>\n",
       "      <td>0.184743</td>\n",
       "      <td>-0.179416</td>\n",
       "      <td>-0.033699</td>\n",
       "      <td>0.001599</td>\n",
       "      <td>0.225400</td>\n",
       "    </tr>\n",
       "    <tr>\n",
       "      <th>taste</th>\n",
       "      <td>0.809010</td>\n",
       "      <td>-0.511535</td>\n",
       "      <td>0.044772</td>\n",
       "      <td>0.268556</td>\n",
       "      <td>0.068547</td>\n",
       "      <td>-0.056194</td>\n",
       "      <td>0.043022</td>\n",
       "    </tr>\n",
       "  </tbody>\n",
       "</table>\n",
       "</div>"
      ],
      "text/plain": [
       "                1         2         3         4         5         6         7\n",
       "cost     0.505072  0.816427  0.147969  0.220655 -0.079946 -0.032114  0.018526\n",
       "size     0.225750  0.950749 -0.014336 -0.010148  0.054641  0.165933  0.119522\n",
       "alcohol  0.597710  0.756830 -0.025275 -0.185602  0.035972 -0.176988 -0.047387\n",
       "reputat -0.741096  0.123797  0.657736  0.007095  0.026607 -0.038802  0.023888\n",
       "color    0.906105 -0.187678  0.275464 -0.076349 -0.002983  0.110358 -0.223277\n",
       "aroma    0.786140 -0.513537  0.184743 -0.179416 -0.033699  0.001599  0.225400\n",
       "taste    0.809010 -0.511535  0.044772  0.268556  0.068547 -0.056194  0.043022"
      ]
     },
     "execution_count": 102,
     "metadata": {},
     "output_type": "execute_result"
    }
   ],
   "source": [
    "mb = pd.DataFrame(matrix_of_volt, columns = np.array(range(len(beer.columns)))+1, \\\n",
    "                  index=beer.columns)\n",
    "mb"
   ]
  },
  {
   "cell_type": "markdown",
   "metadata": {},
   "source": [
    "**Вывод**: с первым фактором сильно коллерируют переменные `reputat, color, aroma, taste`. Со вторым - первые три признака: `cost, size, alchocol`.\n",
    "\n",
    "Чем больше первый фактор, тем вкуснее пиво. Чем больше второй фактор, тем больше цена и объем пива."
   ]
  },
  {
   "cell_type": "code",
   "execution_count": 104,
   "metadata": {},
   "outputs": [
    {
     "data": {
      "text/html": [
       "<div>\n",
       "<style scoped>\n",
       "    .dataframe tbody tr th:only-of-type {\n",
       "        vertical-align: middle;\n",
       "    }\n",
       "\n",
       "    .dataframe tbody tr th {\n",
       "        vertical-align: top;\n",
       "    }\n",
       "\n",
       "    .dataframe thead th {\n",
       "        text-align: right;\n",
       "    }\n",
       "</style>\n",
       "<table border=\"1\" class=\"dataframe\">\n",
       "  <thead>\n",
       "    <tr style=\"text-align: right;\">\n",
       "      <th></th>\n",
       "      <th>f1</th>\n",
       "      <th>f2</th>\n",
       "    </tr>\n",
       "  </thead>\n",
       "  <tbody>\n",
       "    <tr>\n",
       "      <th>1</th>\n",
       "      <td>-1.529221</td>\n",
       "      <td>0.340420</td>\n",
       "    </tr>\n",
       "    <tr>\n",
       "      <th>2</th>\n",
       "      <td>1.325889</td>\n",
       "      <td>1.990979</td>\n",
       "    </tr>\n",
       "    <tr>\n",
       "      <th>3</th>\n",
       "      <td>0.583126</td>\n",
       "      <td>0.585071</td>\n",
       "    </tr>\n",
       "    <tr>\n",
       "      <th>4</th>\n",
       "      <td>0.878689</td>\n",
       "      <td>-1.378693</td>\n",
       "    </tr>\n",
       "    <tr>\n",
       "      <th>5</th>\n",
       "      <td>-1.360502</td>\n",
       "      <td>0.070310</td>\n",
       "    </tr>\n",
       "    <tr>\n",
       "      <th>...</th>\n",
       "      <td>...</td>\n",
       "      <td>...</td>\n",
       "    </tr>\n",
       "    <tr>\n",
       "      <th>95</th>\n",
       "      <td>-1.360502</td>\n",
       "      <td>0.070310</td>\n",
       "    </tr>\n",
       "    <tr>\n",
       "      <th>96</th>\n",
       "      <td>-0.564236</td>\n",
       "      <td>0.795280</td>\n",
       "    </tr>\n",
       "    <tr>\n",
       "      <th>97</th>\n",
       "      <td>-0.405038</td>\n",
       "      <td>-0.694652</td>\n",
       "    </tr>\n",
       "    <tr>\n",
       "      <th>98</th>\n",
       "      <td>-0.094133</td>\n",
       "      <td>-0.798246</td>\n",
       "    </tr>\n",
       "    <tr>\n",
       "      <th>99</th>\n",
       "      <td>1.165426</td>\n",
       "      <td>-0.910470</td>\n",
       "    </tr>\n",
       "  </tbody>\n",
       "</table>\n",
       "<p>99 rows × 2 columns</p>\n",
       "</div>"
      ],
      "text/plain": [
       "          f1        f2\n",
       "1  -1.529221  0.340420\n",
       "2   1.325889  1.990979\n",
       "3   0.583126  0.585071\n",
       "4   0.878689 -1.378693\n",
       "5  -1.360502  0.070310\n",
       "..       ...       ...\n",
       "95 -1.360502  0.070310\n",
       "96 -0.564236  0.795280\n",
       "97 -0.405038 -0.694652\n",
       "98 -0.094133 -0.798246\n",
       "99  1.165426 -0.910470\n",
       "\n",
       "[99 rows x 2 columns]"
      ]
     },
     "execution_count": 104,
     "metadata": {},
     "output_type": "execute_result"
    }
   ],
   "source": [
    "fact = pd.DataFrame(factors1[:, :2], columns = ['f1', 'f2'], index = beer.index + 1)\n",
    "fact"
   ]
  },
  {
   "cell_type": "code",
   "execution_count": 121,
   "metadata": {},
   "outputs": [
    {
     "data": {
      "image/png": "[encoded data removed]",
      "text/plain": [
       "<Figure size 1008x576 with 1 Axes>"
      ]
     },
     "metadata": {},
     "output_type": "display_data"
    }
   ],
   "source": [
    "fig, ax = plt.subplots(1,1, figsize = (14, 8), facecolor='w', edgecolor='k')\n",
    "ax.scatter(fact['f1'], fact['f2'], \n",
    "           color = 'darkblue', \n",
    "           label = 'люди в пространстве двух факторов',\n",
    "           s=50)\n",
    "\n",
    "ax.set_xlabel('PC1')\n",
    "ax.set_ylabel('PC2')\n",
    "\n",
    "ax.legend()\n",
    "ax.set_title('пространство факторов')\n",
    "plt.show()"
   ]
  },
  {
   "cell_type": "markdown",
   "metadata": {},
   "source": [
    "Удивительно, в пространстве факторов у нас есть 9 групп людей, которые различаются в зависимости от цены / вкуса пива. Самая правяа верхняя точка людей предпочитает дорогое и вкусное пиво .и.т.д."
   ]
  },
  {
   "cell_type": "markdown",
   "metadata": {},
   "source": [
    "### PCA Sklearn"
   ]
  },
  {
   "cell_type": "code",
   "execution_count": 125,
   "metadata": {},
   "outputs": [],
   "source": [
    "from sklearn.decomposition import PCA\n",
    "from sklearn.preprocessing import StandardScaler"
   ]
  },
  {
   "cell_type": "code",
   "execution_count": 130,
   "metadata": {},
   "outputs": [],
   "source": [
    "pca = PCA(n_components=2)\n",
    "x_new = pca.fit_transform(X_normalise)"
   ]
  },
  {
   "cell_type": "code",
   "execution_count": 136,
   "metadata": {},
   "outputs": [
    {
     "data": {
      "image/png": "[encoded data removed]",
      "text/plain": [
       "<Figure size 1008x576 with 1 Axes>"
      ]
     },
     "metadata": {},
     "output_type": "display_data"
    }
   ],
   "source": [
    "fig, ax = plt.subplots(1,1, figsize = (14, 8), facecolor='w', edgecolor='k')\n",
    "ax.scatter(-x_new[:, 0], x_new[:, 1], \n",
    "           color = 'darkblue', \n",
    "           label = 'люди в пространстве двух факторов',\n",
    "           s=50)\n",
    "\n",
    "ax.set_xlabel('PC1')\n",
    "ax.set_ylabel('PC2')\n",
    "\n",
    "ax.legend()\n",
    "ax.set_title('пространство факторов')\n",
    "plt.show()"
   ]
  },
  {
   "cell_type": "markdown",
   "metadata": {},
   "source": [
    "**Получили такое же решение, что и при последовательном методе**"
   ]
  },
  {
   "cell_type": "markdown",
   "metadata": {},
   "source": [
    "## Второе факторное решение. Функция Varimax. Иллюстрация результатов.  Интерпретация факторов"
   ]
  },
  {
   "cell_type": "markdown",
   "metadata": {},
   "source": [
    "[Здесь](https://stackoverflow.com/questions/17628589/perform-varimax-rotation-in-python-using-numpy)"
   ]
  },
  {
   "cell_type": "code",
   "execution_count": 146,
   "metadata": {},
   "outputs": [],
   "source": [
    "def varimax(Phi, gamma = 1, q = 20, tol = 1e-6):\n",
    "    \n",
    "    p,k = Phi.shape\n",
    "    R = np.eye(k)\n",
    "    d=0\n",
    "    for i in range(q):\n",
    "        d_old = d\n",
    "        Lambda = np.dot(Phi, R)\n",
    "        u,s,vh = np.linalg.svd(np.dot(Phi.T,np.asarray(Lambda)**3 - (gamma/p) * np.dot(Lambda, np.diag(np.diag(np.dot(Lambda.T,Lambda))))))\n",
    "        R = np.dot(u,vh)\n",
    "        d = np.sum(s)\n",
    "    return np.dot(Phi, R)"
   ]
  },
  {
   "cell_type": "code",
   "execution_count": 155,
   "metadata": {},
   "outputs": [],
   "source": [
    "var_factors = varimax(factors1)"
   ]
  },
  {
   "cell_type": "code",
   "execution_count": 157,
   "metadata": {},
   "outputs": [
    {
     "data": {
      "image/png": "[encoded data removed]",
      "text/plain": [
       "<Figure size 1008x576 with 1 Axes>"
      ]
     },
     "metadata": {},
     "output_type": "display_data"
    }
   ],
   "source": [
    "fig, ax = plt.subplots(1,1, figsize = (14, 8), facecolor='w', edgecolor='k')\n",
    "ax.scatter(var_factors[:, 0], var_factors[:, 1], \n",
    "           color = 'darkblue', \n",
    "           label = 'люди в пространстве двух факторов',\n",
    "           s=50)\n",
    "\n",
    "ax.set_xlabel('PC1')\n",
    "ax.set_ylabel('PC2')\n",
    "\n",
    "ax.legend()\n",
    "ax.set_title('пространство факторов')\n",
    "plt.show()"
   ]
  },
  {
   "cell_type": "markdown",
   "metadata": {},
   "source": [
    " Метод главных факторов имеет высоконагруженный исходными показателями первый фактор, включающий в себя максимум разброса значений переменных, вычисляемых в проекции на первый фактор. Это затрудняет интерпретацию.\n",
    "\n",
    "Вращение варимакс является ортогональным вращением факторных осей с целью\n",
    "максимизировать дисперсию квадратов нагрузок фактора по всем переменным в факторной матрице. Это облегчает интерпретацию факторов.\n",
    "\n",
    "**Окончательный вывод**: видим, что появилось 3 группы, группы ортогональны по признаку: 1. Чем ароматнее пиво, тем дешевле оно стоит (правый нижний угол); 2. чем вкуснее и ароматнее, тем дороже - верхняя группа, чем неароматнее, тем дешевле - третья группа."
   ]
  }
 ],
 "metadata": {
  "kernelspec": {
   "display_name": "Python 3",
   "language": "python",
   "name": "python3"
  },
  "language_info": {
   "codemirror_mode": {
    "name": "ipython",
    "version": 3
   },
   "file_extension": ".py",
   "mimetype": "text/x-python",
   "name": "python",
   "nbconvert_exporter": "python",
   "pygments_lexer": "ipython3",
   "version": "3.8.3"
  }
 },
 "nbformat": 4,
 "nbformat_minor": 4
}
