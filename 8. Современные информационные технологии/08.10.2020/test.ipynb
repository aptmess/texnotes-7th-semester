{
 "cells": [
  {
   "cell_type": "code",
   "execution_count": 1,
   "metadata": {},
   "outputs": [],
   "source": [
    "import numpy as np\n",
    "import pandas as pd\n",
    "import matplotlib.pyplot as plt"
   ]
  },
  {
   "cell_type": "markdown",
   "metadata": {},
   "source": [
    "### Data"
   ]
  },
  {
   "cell_type": "code",
   "execution_count": 2,
   "metadata": {},
   "outputs": [
    {
     "data": {
      "text/plain": [
       "array([[  68.9, 1060. ,    7.8,    5.5,   25.3],\n",
       "       [  68.1, 1101. ,    9.5,   15.3,   28. ],\n",
       "       [  67.6, 1147. ,   10.1,   30.2,   30. ],\n",
       "       [  69.2, 1204. ,   10. ,   44.5,   23.5],\n",
       "       [  69.2, 1602. ,    9.8,   58.6,   18. ],\n",
       "       [  64.6, 1893. ,    5.5,   93.3,   38.4],\n",
       "       [  67. , 2777. ,    6.2,  122. ,   29.6]])"
      ]
     },
     "execution_count": 2,
     "metadata": {},
     "output_type": "execute_result"
    }
   ],
   "source": [
    "X = np.array([[68.9, 1060 , 7.8, 5.5,  25.3], [68.1, 1101, 9.5, 15.3, \n",
    "    28], [67.6, 1147, 10.1, 30.2, 30], [69.2, 1204, 10.0, 44.5, 23.50],\n",
    "   [69.2, 1602, 9.8, 58.6, 18], [64.6, 1893, 5.5, 93.3, 38.4],\n",
    "   [67.0, 2777, 6.2, 122.0, 29.6]])\n",
    "X"
   ]
  },
  {
   "cell_type": "code",
   "execution_count": 3,
   "metadata": {},
   "outputs": [
    {
     "data": {
      "text/plain": [
       "array([1970, 1975, 1980, 1985, 1990, 1995, 1998])"
      ]
     },
     "execution_count": 3,
     "metadata": {},
     "output_type": "execute_result"
    }
   ],
   "source": [
    "year = np.array([1970, 1975, 1980, 1985, 1990, 1995, 1998])\n",
    "year"
   ]
  },
  {
   "cell_type": "code",
   "execution_count": 6,
   "metadata": {},
   "outputs": [
    {
     "data": {
      "text/html": [
       "<div>\n",
       "<style scoped>\n",
       "    .dataframe tbody tr th:only-of-type {\n",
       "        vertical-align: middle;\n",
       "    }\n",
       "\n",
       "    .dataframe tbody tr th {\n",
       "        vertical-align: top;\n",
       "    }\n",
       "\n",
       "    .dataframe thead th {\n",
       "        text-align: right;\n",
       "    }\n",
       "</style>\n",
       "<table border=\"1\" class=\"dataframe\">\n",
       "  <thead>\n",
       "    <tr style=\"text-align: right;\">\n",
       "      <th></th>\n",
       "      <th>L</th>\n",
       "      <th>M</th>\n",
       "      <th>P</th>\n",
       "      <th>A</th>\n",
       "      <th>V</th>\n",
       "    </tr>\n",
       "  </thead>\n",
       "  <tbody>\n",
       "    <tr>\n",
       "      <th>1970</th>\n",
       "      <td>68.9</td>\n",
       "      <td>1060.0</td>\n",
       "      <td>7.8</td>\n",
       "      <td>5.5</td>\n",
       "      <td>25.3</td>\n",
       "    </tr>\n",
       "    <tr>\n",
       "      <th>1975</th>\n",
       "      <td>68.1</td>\n",
       "      <td>1101.0</td>\n",
       "      <td>9.5</td>\n",
       "      <td>15.3</td>\n",
       "      <td>28.0</td>\n",
       "    </tr>\n",
       "    <tr>\n",
       "      <th>1980</th>\n",
       "      <td>67.6</td>\n",
       "      <td>1147.0</td>\n",
       "      <td>10.1</td>\n",
       "      <td>30.2</td>\n",
       "      <td>30.0</td>\n",
       "    </tr>\n",
       "    <tr>\n",
       "      <th>1985</th>\n",
       "      <td>69.2</td>\n",
       "      <td>1204.0</td>\n",
       "      <td>10.0</td>\n",
       "      <td>44.5</td>\n",
       "      <td>23.5</td>\n",
       "    </tr>\n",
       "    <tr>\n",
       "      <th>1990</th>\n",
       "      <td>69.2</td>\n",
       "      <td>1602.0</td>\n",
       "      <td>9.8</td>\n",
       "      <td>58.6</td>\n",
       "      <td>18.0</td>\n",
       "    </tr>\n",
       "    <tr>\n",
       "      <th>1995</th>\n",
       "      <td>64.6</td>\n",
       "      <td>1893.0</td>\n",
       "      <td>5.5</td>\n",
       "      <td>93.3</td>\n",
       "      <td>38.4</td>\n",
       "    </tr>\n",
       "    <tr>\n",
       "      <th>1998</th>\n",
       "      <td>67.0</td>\n",
       "      <td>2777.0</td>\n",
       "      <td>6.2</td>\n",
       "      <td>122.0</td>\n",
       "      <td>29.6</td>\n",
       "    </tr>\n",
       "  </tbody>\n",
       "</table>\n",
       "</div>"
      ],
      "text/plain": [
       "         L       M     P      A     V\n",
       "1970  68.9  1060.0   7.8    5.5  25.3\n",
       "1975  68.1  1101.0   9.5   15.3  28.0\n",
       "1980  67.6  1147.0  10.1   30.2  30.0\n",
       "1985  69.2  1204.0  10.0   44.5  23.5\n",
       "1990  69.2  1602.0   9.8   58.6  18.0\n",
       "1995  64.6  1893.0   5.5   93.3  38.4\n",
       "1998  67.0  2777.0   6.2  122.0  29.6"
      ]
     },
     "execution_count": 6,
     "metadata": {},
     "output_type": "execute_result"
    }
   ],
   "source": [
    "data = pd.DataFrame(data = X, index=year, columns = ['L', 'M', 'P', 'A', 'V'])\n",
    "data"
   ]
  },
  {
   "cell_type": "markdown",
   "metadata": {},
   "source": [
    "`L` - средняя продолжительность жизни\n",
    "\n",
    "`M` - количество чиновников\n",
    "\n",
    "`A` - количество автомобилей\n",
    "\n",
    "`P` - доходы бедных\n",
    "\n",
    "`V` - объёмы продажи водки\n",
    "\n",
    "`k = 5` - количество переменных\n",
    "\n",
    "`i = 7` - количество объектов"
   ]
  },
  {
   "cell_type": "markdown",
   "metadata": {},
   "source": [
    "### StandardScaler"
   ]
  },
  {
   "cell_type": "code",
   "execution_count": 7,
   "metadata": {},
   "outputs": [
    {
     "data": {
      "text/plain": [
       "(array([1., 1., 1., 1., 1.]),\n",
       " array([ 1.33226763e-15, -1.90323947e-16, -1.58603289e-16,  9.51619735e-17,\n",
       "         3.40997072e-16]))"
      ]
     },
     "execution_count": 7,
     "metadata": {},
     "output_type": "execute_result"
    }
   ],
   "source": [
    "from sklearn.preprocessing import StandardScaler\n",
    "from sklearn.preprocessing import MinMaxScaler\n",
    "scaler = StandardScaler()\n",
    "X_normalise = scaler.fit_transform(X)\n",
    "(X_normalise.var(axis=0),X_normalise.mean(axis=0))"
   ]
  },
  {
   "cell_type": "code",
   "execution_count": 21,
   "metadata": {},
   "outputs": [
    {
     "data": {
      "text/plain": [
       "array([[ 0.67068184, -0.76804053, -0.31914663, -1.12014069, -0.35403938],\n",
       "       [ 0.18291323, -0.70251508,  0.56407312, -0.88792053,  0.07216089],\n",
       "       [-0.12194215, -0.62899871,  0.87579773, -0.5348511 ,  0.3878648 ],\n",
       "       [ 0.85359507, -0.53790235,  0.82384363, -0.19599923, -0.6381729 ],\n",
       "       [ 0.85359507,  0.09817403,  0.71993542,  0.13811345, -1.50635864],\n",
       "       [-1.95107443,  0.56324495, -1.51409099,  0.96036239,  1.71382121],\n",
       "       [-0.48776861,  1.9760377 , -1.15041228,  1.64043572,  0.32472402]])"
      ]
     },
     "execution_count": 21,
     "metadata": {},
     "output_type": "execute_result"
    }
   ],
   "source": [
    "X_normalise = (X - X.mean(axis = 0)) / X.std(axis = 0, ddof = 1)\n",
    "X_normalise"
   ]
  },
  {
   "cell_type": "markdown",
   "metadata": {},
   "source": [
    "#### Ковариационная матрица"
   ]
  },
  {
   "cell_type": "code",
   "execution_count": 139,
   "metadata": {},
   "outputs": [
    {
     "data": {
      "text/plain": [
       "array([[ 1.        , -0.5008401 ,  0.76922256, -0.59529202, -0.93404836],\n",
       "       [-0.5008401 ,  1.        , -0.70009309,  0.95366356,  0.29660224],\n",
       "       [ 0.76922256, -0.70009309,  1.        , -0.66917962, -0.68088296],\n",
       "       [-0.59529202,  0.95366356, -0.66917962,  1.        ,  0.37011036],\n",
       "       [-0.93404836,  0.29660224, -0.68088296,  0.37011036,  1.        ]])"
      ]
     },
     "execution_count": 139,
     "metadata": {},
     "output_type": "execute_result"
    }
   ],
   "source": [
    "cov_matrix = np.cov(X_normalise, rowvar=False)\n",
    "cov_matrix"
   ]
  },
  {
   "cell_type": "markdown",
   "metadata": {},
   "source": [
    "### Correlation Matrix"
   ]
  },
  {
   "cell_type": "code",
   "execution_count": 26,
   "metadata": {},
   "outputs": [
    {
     "data": {
      "text/plain": [
       "array([[ 1.        , -0.5008401 ,  0.76922256, -0.59529202, -0.93404836],\n",
       "       [-0.5008401 ,  1.        , -0.70009309,  0.95366356,  0.29660224],\n",
       "       [ 0.76922256, -0.70009309,  1.        , -0.66917962, -0.68088296],\n",
       "       [-0.59529202,  0.95366356, -0.66917962,  1.        ,  0.37011036],\n",
       "       [-0.93404836,  0.29660224, -0.68088296,  0.37011036,  1.        ]])"
      ]
     },
     "execution_count": 26,
     "metadata": {},
     "output_type": "execute_result"
    }
   ],
   "source": [
    "corr_matrix = np.corrcoef(X_normalise, rowvar = False)\n",
    "corr_matrix"
   ]
  },
  {
   "cell_type": "markdown",
   "metadata": {},
   "source": [
    "### Собственные значения"
   ]
  },
  {
   "cell_type": "code",
   "execution_count": 120,
   "metadata": {},
   "outputs": [
    {
     "data": {
      "text/plain": [
       "array([3.600012  , 1.0899853 , 0.2449248 , 0.01857152, 0.04650638])"
      ]
     },
     "execution_count": 120,
     "metadata": {},
     "output_type": "execute_result"
    }
   ],
   "source": [
    "eig_values, eig_vectors =  np.linalg.eig(corr_matrix)\n",
    "eig_values"
   ]
  },
  {
   "cell_type": "code",
   "execution_count": 121,
   "metadata": {},
   "outputs": [
    {
     "data": {
      "text/plain": [
       "array([[ 0.4722906 , -0.38112416, -0.29704183, -0.54258937, -0.49904798],\n",
       "       [-0.42955991, -0.53983542,  0.03260386,  0.48271743, -0.53849501],\n",
       "       [ 0.47689378, -0.04284921,  0.85161757,  0.1326095 , -0.16702847],\n",
       "       [-0.44638521, -0.46523952,  0.38085196, -0.57437861,  0.33065606],\n",
       "       [-0.40710248,  0.58739955,  0.20100359, -0.353673  , -0.56898356]])"
      ]
     },
     "execution_count": 121,
     "metadata": {},
     "output_type": "execute_result"
    }
   ],
   "source": [
    "- eig_vectors"
   ]
  },
  {
   "cell_type": "code",
   "execution_count": 122,
   "metadata": {},
   "outputs": [
    {
     "data": {
      "image/png": "[encoded data removed]",
      "text/plain": [
       "<Figure size 864x432 with 1 Axes>"
      ]
     },
     "metadata": {
      "needs_background": "light"
     },
     "output_type": "display_data"
    }
   ],
   "source": [
    "fig, ax = plt.subplots(1,1, figsize = (12,6))\n",
    "ax.bar(range(1, len(eig_values)+1), eig_values, label = 'Собственные значения', color = 'darkblue')\n",
    "ax.legend()\n",
    "plt.show()"
   ]
  },
  {
   "cell_type": "markdown",
   "metadata": {},
   "source": [
    "Два собственных вектора больше единицы - такое условие отбора применяется в метода главных компонент\n",
    "\n",
    "#### Процент дисперсии переменной объясненный фактором"
   ]
  },
  {
   "cell_type": "code",
   "execution_count": 123,
   "metadata": {},
   "outputs": [
    {
     "data": {
      "text/plain": [
       "array([72.00023991, 21.79970602,  4.89849608,  0.37143041,  0.93012757])"
      ]
     },
     "execution_count": 123,
     "metadata": {},
     "output_type": "execute_result"
    }
   ],
   "source": [
    "eig_values / np.sum(eig_values)*100"
   ]
  },
  {
   "cell_type": "markdown",
   "metadata": {},
   "source": [
    "\n",
    "#### Объясненная суммарная дисперсия"
   ]
  },
  {
   "cell_type": "code",
   "execution_count": 124,
   "metadata": {},
   "outputs": [
    {
     "data": {
      "text/plain": [
       "array([ 72.00023991,  93.79994594,  98.69844202,  99.06987243,\n",
       "       100.        ])"
      ]
     },
     "execution_count": 124,
     "metadata": {},
     "output_type": "execute_result"
    }
   ],
   "source": [
    "np.cumsum(eig_values)/ np.sum(eig_values)*100"
   ]
  },
  {
   "cell_type": "markdown",
   "metadata": {},
   "source": [
    "Видим, что первый и второй фактор вносят наибольший вклда в объясненную дисперсию."
   ]
  },
  {
   "cell_type": "markdown",
   "metadata": {},
   "source": [
    "Не нормированные главные компоненты.\n",
    "Собственные векторы - матрица перехода \n",
    "(матрица вращения, так как исходные данные центрированы)\n",
    "Матрица счетов (score) - старые переменные в новой системе координат"
   ]
  },
  {
   "cell_type": "code",
   "execution_count": 135,
   "metadata": {},
   "outputs": [
    {
     "data": {
      "text/plain": [
       "array([[-1.13862166, -0.48584875,  0.99382349,  0.00837424,  0.03674857],\n",
       "       [-1.02414119, -0.74084278, -0.07947531, -0.1209196 ,  0.14185255],\n",
       "       [-0.71111189, -0.82516912, -0.63582199, -0.04870469,  0.14425596],\n",
       "       [-1.37438505,  0.3539239 , -0.22758684,  0.27527467, -0.02436904],\n",
       "       [-1.25589657,  1.35826241, -0.11257435, -0.13313796, -0.30366052],\n",
       "       [ 3.01187459, -1.06431891, -0.0187283 ,  0.02800635, -0.26568503],\n",
       "       [ 2.49228177,  1.40399326,  0.08036332, -0.00889301,  0.2708575 ]])"
      ]
     },
     "execution_count": 135,
     "metadata": {},
     "output_type": "execute_result"
    }
   ],
   "source": [
    "score = X_normalise @ (eig_vectors)\n",
    "score"
   ]
  },
  {
   "cell_type": "code",
   "execution_count": 136,
   "metadata": {},
   "outputs": [
    {
     "data": {
      "text/plain": [
       "array([[-0.60010531, -0.46536184,  2.00813484,  0.06144998,  0.17040573],\n",
       "       [-0.5397689 , -0.70960347, -0.16058903, -0.88730511,  0.65778036],\n",
       "       [-0.37478825, -0.790374  , -1.28475158, -0.35739385,  0.66892512],\n",
       "       [-0.72436331,  0.3389999 , -0.45986543,  2.0199588 , -0.11300098],\n",
       "       [-0.66191451,  1.30098821, -0.22746945, -0.97696309, -1.40809537],\n",
       "       [ 1.58739464, -1.0194395 , -0.03784269,  0.20550992, -1.23200032],\n",
       "       [ 1.31354564,  1.34479071,  0.16238334, -0.06525666,  1.25598546]])"
      ]
     },
     "execution_count": 136,
     "metadata": {},
     "output_type": "execute_result"
    }
   ],
   "source": [
    "factors1 = np.array([np.array(a / np.sqrt(b)) for a, b in zip(score.T, eig_values)]).T\n",
    "factors1"
   ]
  },
  {
   "cell_type": "markdown",
   "metadata": {},
   "source": [
    "#### Матрица нагрузок (диагональные элементы)"
   ]
  },
  {
   "cell_type": "code",
   "execution_count": 137,
   "metadata": {},
   "outputs": [],
   "source": [
    "from scipy.stats.stats import pearsonr"
   ]
  },
  {
   "cell_type": "code",
   "execution_count": 138,
   "metadata": {},
   "outputs": [
    {
     "data": {
      "text/plain": [
       "array([[-0.89610991,  0.39790262,  0.14700564,  0.07394265,  0.10762138],\n",
       "       [ 0.81503399,  0.56360092, -0.01613561, -0.06578346,  0.11612827],\n",
       "       [-0.90484383,  0.04473558, -0.4214645 , -0.01807167,  0.03602025],\n",
       "       [ 0.8469578 ,  0.48572104, -0.18848317,  0.0782748 , -0.0713071 ],\n",
       "       [ 0.77242394, -0.613259  , -0.09947643,  0.04819763,  0.12270323]])"
      ]
     },
     "execution_count": 138,
     "metadata": {},
     "output_type": "execute_result"
    }
   ],
   "source": [
    "matrix_of_volt = np.array([[pearsonr(X_normalise[:,i],factors1[:,j])[0] for j in range(0, 5)] for i in range(0,5)])\n",
    "matrix_of_volt"
   ]
  },
  {
   "cell_type": "code",
   "execution_count": null,
   "metadata": {},
   "outputs": [],
   "source": []
  }
 ],
 "metadata": {
  "kernelspec": {
   "display_name": "Python 3",
   "language": "python",
   "name": "python3"
  },
  "language_info": {
   "codemirror_mode": {
    "name": "ipython",
    "version": 3
   },
   "file_extension": ".py",
   "mimetype": "text/x-python",
   "name": "python",
   "nbconvert_exporter": "python",
   "pygments_lexer": "ipython3",
   "version": "3.8.3"
  }
 },
 "nbformat": 4,
 "nbformat_minor": 4
}
