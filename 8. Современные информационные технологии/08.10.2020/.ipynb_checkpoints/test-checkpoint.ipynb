{
 "cells": [
  {
   "cell_type": "code",
   "execution_count": 1,
   "metadata": {},
   "outputs": [],
   "source": [
    "import numpy as np\n",
    "import pandas as pd\n",
    "import matplotlib.pyplot as plt"
   ]
  },
  {
   "cell_type": "markdown",
   "metadata": {},
   "source": [
    "### Data"
   ]
  },
  {
   "cell_type": "code",
   "execution_count": 2,
   "metadata": {},
   "outputs": [
    {
     "data": {
      "text/plain": [
       "array([[  68.9, 1060. ,    7.8,    5.5,   25.3],\n",
       "       [  68.1, 1101. ,    9.5,   15.3,   28. ],\n",
       "       [  67.6, 1147. ,   10.1,   30.2,   30. ],\n",
       "       [  69.2, 1204. ,   10. ,   44.5,   23.5],\n",
       "       [  69.2, 1602. ,    9.8,   58.6,   18. ],\n",
       "       [  64.6, 1893. ,    5.5,   93.3,   38.4],\n",
       "       [  67. , 2777. ,    6.2,  122. ,   29.6]])"
      ]
     },
     "execution_count": 2,
     "metadata": {},
     "output_type": "execute_result"
    }
   ],
   "source": [
    "X = np.array([[68.9, 1060 , 7.8, 5.5,  25.3], [68.1, 1101, 9.5, 15.3, \n",
    "    28], [67.6, 1147, 10.1, 30.2, 30], [69.2, 1204, 10.0, 44.5, 23.50],\n",
    "   [69.2, 1602, 9.8, 58.6, 18], [64.6, 1893, 5.5, 93.3, 38.4],\n",
    "   [67.0, 2777, 6.2, 122.0, 29.6]])\n",
    "X"
   ]
  },
  {
   "cell_type": "code",
   "execution_count": 3,
   "metadata": {},
   "outputs": [
    {
     "data": {
      "text/plain": [
       "array([1970, 1975, 1980, 1985, 1990, 1995, 1998])"
      ]
     },
     "execution_count": 3,
     "metadata": {},
     "output_type": "execute_result"
    }
   ],
   "source": [
    "year = np.array([1970, 1975, 1980, 1985, 1990, 1995, 1998])\n",
    "year"
   ]
  },
  {
   "cell_type": "code",
   "execution_count": null,
   "metadata": {},
   "outputs": [],
   "source": [
    "pd.DataFrame(data = X, index=year, columns = ['L', 'M', 'P', 'A','V'])"
   ]
  },
  {
   "cell_type": "markdown",
   "metadata": {},
   "source": [
    "### StandardScaler"
   ]
  },
  {
   "cell_type": "code",
   "execution_count": 105,
   "metadata": {},
   "outputs": [
    {
     "data": {
      "text/plain": [
       "(array([1., 1., 1., 1., 1.]),\n",
       " array([ 1.33226763e-15, -1.90323947e-16, -1.58603289e-16,  9.51619735e-17,\n",
       "         3.40997072e-16]))"
      ]
     },
     "execution_count": 105,
     "metadata": {},
     "output_type": "execute_result"
    }
   ],
   "source": [
    "from sklearn.preprocessing import StandardScaler\n",
    "from sklearn.preprocessing import MinMaxScaler\n",
    "scaler = StandardScaler()\n",
    "X_normalise = scaler.fit_transform(X)\n",
    "(X_normalise.var(axis=0),X_normalise.mean(axis=0))"
   ]
  },
  {
   "cell_type": "markdown",
   "metadata": {},
   "source": [
    "### Correlation Matrix"
   ]
  },
  {
   "cell_type": "code",
   "execution_count": 106,
   "metadata": {},
   "outputs": [
    {
     "data": {
      "text/plain": [
       "array([[ 1.        , -0.5008401 ,  0.76922256, -0.59529202, -0.93404836],\n",
       "       [-0.5008401 ,  1.        , -0.70009309,  0.95366356,  0.29660224],\n",
       "       [ 0.76922256, -0.70009309,  1.        , -0.66917962, -0.68088296],\n",
       "       [-0.59529202,  0.95366356, -0.66917962,  1.        ,  0.37011036],\n",
       "       [-0.93404836,  0.29660224, -0.68088296,  0.37011036,  1.        ]])"
      ]
     },
     "execution_count": 106,
     "metadata": {},
     "output_type": "execute_result"
    }
   ],
   "source": [
    "corr_matrix = np.corrcoef(X_normalise, rowvar = False)\n",
    "corr_matrix"
   ]
  },
  {
   "cell_type": "markdown",
   "metadata": {},
   "source": [
    "### Собственные значения"
   ]
  },
  {
   "cell_type": "code",
   "execution_count": 107,
   "metadata": {},
   "outputs": [
    {
     "data": {
      "text/plain": [
       "array([3.600012  , 1.0899853 , 0.2449248 , 0.01857152, 0.04650638])"
      ]
     },
     "execution_count": 107,
     "metadata": {},
     "output_type": "execute_result"
    }
   ],
   "source": [
    "eig_values, eig_vectors =  np.linalg.eig(corr_matrix)\n",
    "eig_values"
   ]
  },
  {
   "cell_type": "code",
   "execution_count": 108,
   "metadata": {},
   "outputs": [
    {
     "data": {
      "text/plain": [
       "array([[-0.4722906 ,  0.38112416,  0.29704183,  0.54258937,  0.49904798],\n",
       "       [ 0.42955991,  0.53983542, -0.03260386, -0.48271743,  0.53849501],\n",
       "       [-0.47689378,  0.04284921, -0.85161757, -0.1326095 ,  0.16702847],\n",
       "       [ 0.44638521,  0.46523952, -0.38085196,  0.57437861, -0.33065606],\n",
       "       [ 0.40710248, -0.58739955, -0.20100359,  0.353673  ,  0.56898356]])"
      ]
     },
     "execution_count": 108,
     "metadata": {},
     "output_type": "execute_result"
    }
   ],
   "source": [
    "eig_vectors"
   ]
  },
  {
   "cell_type": "code",
   "execution_count": 109,
   "metadata": {},
   "outputs": [
    {
     "data": {
      "image/png": "[encoded data removed]",
      "text/plain": [
       "<Figure size 864x432 with 1 Axes>"
      ]
     },
     "metadata": {
      "needs_background": "light"
     },
     "output_type": "display_data"
    }
   ],
   "source": [
    "fig, ax = plt.subplots(1,1, figsize = (12,6))\n",
    "ax.bar(range(1, len(eig_values)+1), eig_values, label = 'Собственные значения', color = 'darkblue')\n",
    "ax.legend()\n",
    "plt.show()"
   ]
  },
  {
   "cell_type": "markdown",
   "metadata": {},
   "source": [
    "Два собственных вектора больше единицы - такое условие отбора применяется в метода главных компонент\n",
    "\n",
    "#### Процент дисперсии переменной объясненный фактором"
   ]
  },
  {
   "cell_type": "code",
   "execution_count": 110,
   "metadata": {},
   "outputs": [
    {
     "data": {
      "text/plain": [
       "array([72.00023991, 21.79970602,  4.89849608,  0.37143041,  0.93012757])"
      ]
     },
     "execution_count": 110,
     "metadata": {},
     "output_type": "execute_result"
    }
   ],
   "source": [
    "eig_values / np.sum(eig_values)*100"
   ]
  },
  {
   "cell_type": "markdown",
   "metadata": {},
   "source": [
    "\n",
    "#### Объясненная суммарная дисперсия"
   ]
  },
  {
   "cell_type": "code",
   "execution_count": null,
   "metadata": {},
   "outputs": [],
   "source": [
    "np.cumsum(eig_values)/ np.sum(eig_values)*100"
   ]
  },
  {
   "cell_type": "markdown",
   "metadata": {},
   "source": [
    "Не нормированные главные компоненты\n",
    "Собственные векторы - матрица перехода \n",
    "(матрица вращения, так как исходные данные центрированы)\n",
    "Матрица счетов (score) - старые переменные в новой системе координат"
   ]
  },
  {
   "cell_type": "code",
   "execution_count": 126,
   "metadata": {},
   "outputs": [
    {
     "data": {
      "text/plain": [
       "array([[ 1.22985196,  0.52477662, -1.07345205, -0.00904521, -0.03969299],\n",
       "       [ 1.10619892,  0.80020166,  0.08584315,  0.1306081 , -0.15321827],\n",
       "       [ 0.76808863,  0.89128452,  0.68676625,  0.05260708, -0.15581425],\n",
       "       [ 1.48450552, -0.3822815 ,  0.24582189, -0.29733062,  0.02632158],\n",
       "       [ 1.35652333, -1.46709108,  0.1215942 ,  0.14380543,  0.32799085],\n",
       "       [-3.25319637,  1.14959581,  0.02022888, -0.03025032,  0.28697263],\n",
       "       [-2.69197198, -1.51648604, -0.0868023 ,  0.00960554, -0.29255954]])"
      ]
     },
     "execution_count": 126,
     "metadata": {},
     "output_type": "execute_result"
    }
   ],
   "source": [
    "score = -X_normalise @ (eig_vectors)\n",
    "score"
   ]
  },
  {
   "cell_type": "code",
   "execution_count": 127,
   "metadata": {},
   "outputs": [
    {
     "data": {
      "text/plain": [
       "array([[ 0.64818782,  0.50264823, -2.16903353, -0.06637356, -0.18405923],\n",
       "       [ 0.58301705,  0.76645935,  0.17345598,  0.95839906, -0.71048399],\n",
       "       [ 0.40481758,  0.8537015 ,  1.38769031,  0.38602947, -0.72252171],\n",
       "       [ 0.7824018 , -0.36616174,  0.49671144, -2.18180487,  0.12205501],\n",
       "       [ 0.71494938, -1.40522787,  0.24569508,  1.05524074,  1.52091683],\n",
       "       [-1.71458218,  1.10112051,  0.04087478, -0.22197609,  1.33071243],\n",
       "       [-1.41879145, -1.45253998, -0.17539405,  0.07048525, -1.35661935]])"
      ]
     },
     "execution_count": 127,
     "metadata": {},
     "output_type": "execute_result"
    }
   ],
   "source": [
    "factors1 = np.array([np.array(a / np.sqrt(b)) for a, b in zip(score.T, eig_values)]).T\n",
    "factors1"
   ]
  },
  {
   "cell_type": "markdown",
   "metadata": {},
   "source": [
    "#### Матрица нагрузок (диагональные элементы)"
   ]
  },
  {
   "cell_type": "code",
   "execution_count": 163,
   "metadata": {},
   "outputs": [
    {
     "data": {
      "text/plain": [
       "0    0.896110\n",
       "1   -0.563601\n",
       "2    0.421464\n",
       "3   -0.078275\n",
       "4   -0.122703\n",
       "dtype: float64"
      ]
     },
     "execution_count": 163,
     "metadata": {},
     "output_type": "execute_result"
    }
   ],
   "source": [
    "pd.DataFrame(score).corrwith(pd.DataFrame(X_normalise), drop=False)"
   ]
  },
  {
   "cell_type": "code",
   "execution_count": 158,
   "metadata": {},
   "outputs": [
    {
     "data": {
      "text/html": [
       "<div>\n",
       "<style scoped>\n",
       "    .dataframe tbody tr th:only-of-type {\n",
       "        vertical-align: middle;\n",
       "    }\n",
       "\n",
       "    .dataframe tbody tr th {\n",
       "        vertical-align: top;\n",
       "    }\n",
       "\n",
       "    .dataframe thead th {\n",
       "        text-align: right;\n",
       "    }\n",
       "</style>\n",
       "<table border=\"1\" class=\"dataframe\">\n",
       "  <thead>\n",
       "    <tr style=\"text-align: right;\">\n",
       "      <th></th>\n",
       "      <th>0</th>\n",
       "      <th>1</th>\n",
       "      <th>2</th>\n",
       "      <th>3</th>\n",
       "      <th>4</th>\n",
       "    </tr>\n",
       "  </thead>\n",
       "  <tbody>\n",
       "    <tr>\n",
       "      <th>0</th>\n",
       "      <td>1.000000</td>\n",
       "      <td>0.386092</td>\n",
       "      <td>-0.566911</td>\n",
       "      <td>0.040674</td>\n",
       "      <td>0.717726</td>\n",
       "    </tr>\n",
       "    <tr>\n",
       "      <th>1</th>\n",
       "      <td>0.386092</td>\n",
       "      <td>1.000000</td>\n",
       "      <td>-0.037096</td>\n",
       "      <td>-0.045411</td>\n",
       "      <td>0.304093</td>\n",
       "    </tr>\n",
       "    <tr>\n",
       "      <th>2</th>\n",
       "      <td>-0.566911</td>\n",
       "      <td>-0.037096</td>\n",
       "      <td>1.000000</td>\n",
       "      <td>0.142742</td>\n",
       "      <td>-0.188427</td>\n",
       "    </tr>\n",
       "    <tr>\n",
       "      <th>3</th>\n",
       "      <td>0.040674</td>\n",
       "      <td>-0.045411</td>\n",
       "      <td>0.142742</td>\n",
       "      <td>1.000000</td>\n",
       "      <td>-0.262439</td>\n",
       "    </tr>\n",
       "    <tr>\n",
       "      <th>4</th>\n",
       "      <td>0.717726</td>\n",
       "      <td>0.304093</td>\n",
       "      <td>-0.188427</td>\n",
       "      <td>-0.262439</td>\n",
       "      <td>1.000000</td>\n",
       "    </tr>\n",
       "  </tbody>\n",
       "</table>\n",
       "</div>"
      ],
      "text/plain": [
       "          0         1         2         3         4\n",
       "0  1.000000  0.386092 -0.566911  0.040674  0.717726\n",
       "1  0.386092  1.000000 -0.037096 -0.045411  0.304093\n",
       "2 -0.566911 -0.037096  1.000000  0.142742 -0.188427\n",
       "3  0.040674 -0.045411  0.142742  1.000000 -0.262439\n",
       "4  0.717726  0.304093 -0.188427 -0.262439  1.000000"
      ]
     },
     "execution_count": 158,
     "metadata": {},
     "output_type": "execute_result"
    }
   ],
   "source": [
    "pd.DataFrame(score*X_normalise).corr()"
   ]
  },
  {
   "cell_type": "code",
   "execution_count": 164,
   "metadata": {},
   "outputs": [],
   "source": [
    "pd.DataFrame.corr?"
   ]
  },
  {
   "cell_type": "code",
   "execution_count": 167,
   "metadata": {},
   "outputs": [],
   "source": [
    "points = list(zip(factors1[:,0],factors1[:,1]))"
   ]
  },
  {
   "cell_type": "code",
   "execution_count": 169,
   "metadata": {},
   "outputs": [
    {
     "data": {
      "text/plain": [
       "<matplotlib.collections.PathCollection at 0x26add762a30>"
      ]
     },
     "execution_count": 169,
     "metadata": {},
     "output_type": "execute_result"
    },
    {
     "data": {
      "image/png": "[encoded data removed]",
      "text/plain": [
       "<Figure size 432x288 with 1 Axes>"
      ]
     },
     "metadata": {
      "needs_background": "light"
     },
     "output_type": "display_data"
    }
   ],
   "source": [
    "plt.scatter(factors1[:,0],factors1[:,1])"
   ]
  },
  {
   "cell_type": "code",
   "execution_count": null,
   "metadata": {},
   "outputs": [],
   "source": []
  }
 ],
 "metadata": {
  "kernelspec": {
   "display_name": "Python 3",
   "language": "python",
   "name": "python3"
  },
  "language_info": {
   "codemirror_mode": {
    "name": "ipython",
    "version": 3
   },
   "file_extension": ".py",
   "mimetype": "text/x-python",
   "name": "python",
   "nbconvert_exporter": "python",
   "pygments_lexer": "ipython3",
   "version": "3.8.3"
  }
 },
 "nbformat": 4,
 "nbformat_minor": 4
}
