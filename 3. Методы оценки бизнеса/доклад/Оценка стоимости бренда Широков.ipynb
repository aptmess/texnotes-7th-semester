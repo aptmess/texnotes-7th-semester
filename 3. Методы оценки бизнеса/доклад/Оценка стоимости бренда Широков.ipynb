{
 "cells": [
  {
   "cell_type": "markdown",
   "metadata": {
    "slideshow": {
     "slide_type": "slide"
    }
   },
   "source": [
    "# Оценка стоимости бренда\n",
    "\n",
    "# Александр Широков \n",
    "\n",
    "# ПМ-1701"
   ]
  },
  {
   "cell_type": "markdown",
   "metadata": {
    "slideshow": {
     "slide_type": "slide"
    }
   },
   "source": [
    "## Содержание\n",
    "\n",
    "1. Понятие стоимости. Значение оценки стоимости брендов\n",
    "\n",
    "2. Абсолютная стоимость брендов. Методы оценки\n",
    "\n",
    "3. Относительная стоимость брендов. Методы оценки."
   ]
  },
  {
   "cell_type": "markdown",
   "metadata": {
    "slideshow": {
     "slide_type": "slide"
    }
   },
   "source": [
    "## Понятие стоимости бренда\n",
    "\n",
    "**Определение 1**: *Бренд* — комплекс представлений, мнений, ассоциаций, эмоций, ценностных характеристик о продукте либо услуге в сознании потребителя\n",
    "\n",
    "**Определение 2**: *Стоимость бренда* в денежном выражении - та денежная премия, которую держатель бренда получает от покупателей, приверженных бренду и согласных за него платить."
   ]
  },
  {
   "cell_type": "markdown",
   "metadata": {
    "slideshow": {
     "slide_type": "slide"
    }
   },
   "source": [
    "## Для чего нужна оценка стоимости бренда\n",
    "\n",
    "- продажа бренда\n",
    "- франчайзинг - когда одна сторона (*франчайзер*) передаёт другой стороне за плату право на определённый вид предпринимательства: действовать от своего имени, используя технологию, товарные знаки и/или бренды франчайзера.\n",
    "- слияния и поглощения\n",
    "- судебные процессы (предъявление претензий о незаконном использовании \n",
    "\n",
    "##  Оценка стоимости бренда для финансистов\n",
    "\n",
    "- определение *справедливой цены* при франчайзинге или продажи брендов\n",
    "- разработка адекватных подходов к учету расходов, связанных с продвижением бренда"
   ]
  },
  {
   "cell_type": "markdown",
   "metadata": {
    "slideshow": {
     "slide_type": "slide"
    }
   },
   "source": [
    "## Абсолютная стоимость бренда. Методы оценки\n",
    "\n",
    "**Определение 3**: *Абсолютная стоимость бренда* - та стоимость, которая определяется безотносительно некоего объекта для сравнения.\n",
    "\n",
    "При использовании методов оценки абсолютной стоимости бренда в фокусе находится только оцениваемый бренд."
   ]
  },
  {
   "cell_type": "markdown",
   "metadata": {
    "slideshow": {
     "slide_type": "slide"
    }
   },
   "source": [
    "## Метод освобождения от роялти\n",
    "\n",
    "Метод применяется к брендам, которые развиваются по системе франчайзинга.\n",
    "\n",
    "**Определение 4**: *Роялти* - периодические отчисления франчайзору (держателю франшизы) за право использования торговой марки единой франчайзинговой сети, которое выплачивается получателем франшизы в виде *процента от стоимости проданных товаров и услуг.*\n",
    "\n",
    "**По методу освобождения от роялти** - стоимость бренда равна сумме произведений годовых продаж на уровень роялти, приведенных к сегодняшним ценам.\n",
    "\n",
    "**Преимущества**:\n",
    "\n",
    "- простота - достаточно посмотреть какие суммы были получены от филиалов или франчайзи (получатели франшизы)\n",
    "\n",
    "**Недостатки**: кроме платы за использование бренда, в платежи обычно включатся проценты за исползование патентов, авторских прав и.т.д, выделить которые не просто (я бы сказал, что невозможно)"
   ]
  },
  {
   "cell_type": "markdown",
   "metadata": {
    "slideshow": {
     "slide_type": "slide"
    }
   },
   "source": [
    "## Метод остаточной вмесённой стоимости\n",
    "\n",
    "Из рыночной стоимости компании вычитается стоимость материальных активов, а также не относящихся к бренду нематериальных активов\n",
    "\n",
    "**Преимущества**: простота. \n",
    "\n",
    "**Недостатки**: \n",
    "\n",
    "- трудно выделить стоимость нематериальных активов, не относящихся к бренду\n",
    "- отсутствие информации о рыночной стоимости (часто)"
   ]
  },
  {
   "cell_type": "markdown",
   "metadata": {
    "slideshow": {
     "slide_type": "slide"
    }
   },
   "source": [
    "## Метод дисконтированных денежных потоков (`Interbrand`)\n",
    "\n",
    "Метод основан на прогнозе генерируемых брендом будущих поступлений\n",
    "\n",
    "Используются 4 этапа, которые мы подробно рассмотрим:\n",
    "\n",
    "1. Прогнозирование денежных потоков (`Financial Forecasting`)\n",
    "\n",
    "2. Определение роли бренда (`Role Brand Analysis`)\n",
    "\n",
    "3. Определение нормы дисконта\n",
    "\n",
    "4. Расчет стоимости бренда"
   ]
  },
  {
   "cell_type": "markdown",
   "metadata": {
    "slideshow": {
     "slide_type": "slide"
    }
   },
   "source": [
    "## 1. `Financial Forecasting`\n",
    "\n",
    "**Определение 5** *Financial Forecasting* - прогнозирование денежных потоков, которые создают *все нематериальные активы*.\n",
    "\n",
    "1.1 Создается прогноз объёма продаж и операционной прибыли на определённый период планирования \n",
    "\n",
    "1.2 Из доходов вычитаются:\n",
    "    - прогнозируемые операционные расходы\n",
    "    - налоги на корпорации\n",
    "    - затраты на привлеченный капитал, необходимый для работы предприятия имеющего бренды\n",
    "\n",
    "1.3 Получаем доход - создаваемый нематериальными активами предприятия - `step 1 done`"
   ]
  },
  {
   "cell_type": "markdown",
   "metadata": {
    "slideshow": {
     "slide_type": "slide"
    }
   },
   "source": [
    "## 2. `Role Brand Analysis`\n",
    "\n",
    "1. Определяется, *какой процент* от вычисленных нематериальных доходов генерируется *именно брендом*:\n",
    "\n",
    "    - анализируется рынок (отрасль) и конкректный бренд\n",
    "    - определяется значимость процессов\n",
    "    - оценивается в какой степени каждый из бизнес-процессов зависит от бренда (в процентах)\n",
    "    - если в отсутствие бренда бизнес-процесс происходит также эффективно, значит вклад бренда равен нулю\n",
    "\n",
    "2. `E (Денежные доходы, генерируемые брендом)` = $RBA \\cdot FF$"
   ]
  },
  {
   "cell_type": "code",
   "execution_count": 6,
   "metadata": {
    "slideshow": {
     "slide_type": "fragment"
    }
   },
   "outputs": [
    {
     "data": {
      "text/html": [
       "<div>\n",
       "<style scoped>\n",
       "    .dataframe tbody tr th:only-of-type {\n",
       "        vertical-align: middle;\n",
       "    }\n",
       "\n",
       "    .dataframe tbody tr th {\n",
       "        vertical-align: top;\n",
       "    }\n",
       "\n",
       "    .dataframe thead th {\n",
       "        text-align: right;\n",
       "    }\n",
       "</style>\n",
       "<table border=\"1\" class=\"dataframe\">\n",
       "  <thead>\n",
       "    <tr style=\"text-align: right;\">\n",
       "      <th></th>\n",
       "      <th>Средний по отрасли вклад фактора в совокупный спрос</th>\n",
       "      <th>Вклад фактора в совокупный спрос</th>\n",
       "    </tr>\n",
       "  </thead>\n",
       "  <tbody>\n",
       "    <tr>\n",
       "      <th>Качество</th>\n",
       "      <td>9</td>\n",
       "      <td>16</td>\n",
       "    </tr>\n",
       "    <tr>\n",
       "      <th>Инновации</th>\n",
       "      <td>10</td>\n",
       "      <td>12</td>\n",
       "    </tr>\n",
       "    <tr>\n",
       "      <th>Дизайн</th>\n",
       "      <td>5</td>\n",
       "      <td>2</td>\n",
       "    </tr>\n",
       "    <tr>\n",
       "      <th>Известность</th>\n",
       "      <td>20</td>\n",
       "      <td>22</td>\n",
       "    </tr>\n",
       "    <tr>\n",
       "      <th>...</th>\n",
       "      <td>...</td>\n",
       "      <td>...</td>\n",
       "    </tr>\n",
       "    <tr>\n",
       "      <th>Итого</th>\n",
       "      <td>100</td>\n",
       "      <td>60</td>\n",
       "    </tr>\n",
       "  </tbody>\n",
       "</table>\n",
       "</div>"
      ],
      "text/plain": [
       "            Средний по отрасли вклад фактора в совокупный спрос  \\\n",
       "Качество                                                     9    \n",
       "Инновации                                                   10    \n",
       "Дизайн                                                       5    \n",
       "Известность                                                 20    \n",
       "...                                                        ...    \n",
       "Итого                                                      100    \n",
       "\n",
       "            Вклад фактора в совокупный спрос  \n",
       "Качество                                  16  \n",
       "Инновации                                 12  \n",
       "Дизайн                                     2  \n",
       "Известность                               22  \n",
       "...                                      ...  \n",
       "Итого                                     60  "
      ]
     },
     "execution_count": 6,
     "metadata": {},
     "output_type": "execute_result"
    }
   ],
   "source": [
    "import pandas as pd\n",
    "d = {'Средний по отрасли вклад фактора в совокупный спрос': [9, 10, 5, 20, '...', 100], \n",
    "     'Вклад фактора в совокупный спрос': [16, 12, 2, 22,  '...', 60]}\n",
    "pd.DataFrame(d, index=['Качество', 'Инновации', 'Дизайн', 'Известность', '...', 'Итого'])"
   ]
  },
  {
   "cell_type": "markdown",
   "metadata": {
    "slideshow": {
     "slide_type": "slide"
    }
   },
   "source": [
    "## 3. Определение нормы дисконта\n",
    "\n",
    "**Определение 6**: *Дисконтирование* - приведение денежных потоков к единому моменту времени.\n",
    "\n",
    "$$ \\large k_d = \\frac{1}{(1+i)^n} $$\n",
    "\n",
    "- $i$ - процентная ставка\n",
    "- $n$ - количество период.\n",
    "\n",
    "Для определения текущей стоимости бренда будущие дохода необходимо дисконтировать - логично.\n",
    "\n",
    "Но коэффициент дисконтирования зависит от стабильности и рискованности будущих доходов. Для его определения `Interbrand` разработал методику - `Индекс силы бренда`.\n",
    "\n",
    "**Утверждение** : чем *выше* индекс силы, тем *меньше* риски бренда и тем ниже должна быть норма дисконта."
   ]
  },
  {
   "attachments": {},
   "cell_type": "markdown",
   "metadata": {
    "slideshow": {
     "slide_type": "slide"
    }
   },
   "source": [
    "## Индекс силы бренда"
   ]
  },
  {
   "cell_type": "code",
   "execution_count": 12,
   "metadata": {
    "slideshow": {
     "slide_type": "fragment"
    }
   },
   "outputs": [
    {
     "data": {
      "text/html": [
       "<div>\n",
       "<style scoped>\n",
       "    .dataframe tbody tr th:only-of-type {\n",
       "        vertical-align: middle;\n",
       "    }\n",
       "\n",
       "    .dataframe tbody tr th {\n",
       "        vertical-align: top;\n",
       "    }\n",
       "\n",
       "    .dataframe thead th {\n",
       "        text-align: right;\n",
       "    }\n",
       "</style>\n",
       "<table border=\"1\" class=\"dataframe\">\n",
       "  <thead>\n",
       "    <tr style=\"text-align: right;\">\n",
       "      <th></th>\n",
       "      <th>Показатель силы бренда</th>\n",
       "      <th>Максимальный балл</th>\n",
       "    </tr>\n",
       "  </thead>\n",
       "  <tbody>\n",
       "    <tr>\n",
       "      <th>0</th>\n",
       "      <td>Лидерство</td>\n",
       "      <td>25</td>\n",
       "    </tr>\n",
       "    <tr>\n",
       "      <th>1</th>\n",
       "      <td>Стабильность</td>\n",
       "      <td>15</td>\n",
       "    </tr>\n",
       "    <tr>\n",
       "      <th>2</th>\n",
       "      <td>Рынок</td>\n",
       "      <td>10</td>\n",
       "    </tr>\n",
       "    <tr>\n",
       "      <th>3</th>\n",
       "      <td>Интернациональность</td>\n",
       "      <td>25</td>\n",
       "    </tr>\n",
       "    <tr>\n",
       "      <th>4</th>\n",
       "      <td>Тенденции</td>\n",
       "      <td>10</td>\n",
       "    </tr>\n",
       "    <tr>\n",
       "      <th>5</th>\n",
       "      <td>Поддержка</td>\n",
       "      <td>10</td>\n",
       "    </tr>\n",
       "    <tr>\n",
       "      <th>6</th>\n",
       "      <td>Защита</td>\n",
       "      <td>5</td>\n",
       "    </tr>\n",
       "    <tr>\n",
       "      <th>7</th>\n",
       "      <td>Итого</td>\n",
       "      <td>Max: 100</td>\n",
       "    </tr>\n",
       "  </tbody>\n",
       "</table>\n",
       "</div>"
      ],
      "text/plain": [
       "  Показатель силы бренда Максимальный балл\n",
       "0              Лидерство                25\n",
       "1           Стабильность                15\n",
       "2                  Рынок                10\n",
       "3    Интернациональность                25\n",
       "4              Тенденции                10\n",
       "5              Поддержка                10\n",
       "6                 Защита                 5\n",
       "7                  Итого          Max: 100"
      ]
     },
     "execution_count": 12,
     "metadata": {},
     "output_type": "execute_result"
    }
   ],
   "source": [
    "d = {'Показатель силы бренда': \n",
    "     ['Лидерство', 'Стабильность', 'Рынок', 'Интернациональность', 'Тенденции', 'Поддержка', 'Защита', 'Итого'],\n",
    "    'Максимальный балл': [25, 15, 10, 25, 10, 10, 5, 'Max: 100']}\n",
    "pd.DataFrame(d)"
   ]
  },
  {
   "attachments": {
    "image.png": {
     "image/png": "[encoded data removed]"
    }
   },
   "cell_type": "markdown",
   "metadata": {
    "slideshow": {
     "slide_type": "slide"
    }
   },
   "source": [
    "## S-образная кривая\n",
    "\n",
    "`Interbrand` разработал собственную $S$-образную кривую, отражающую связь между нормой дисконта (X) и индексом силы бренда (Y).\n",
    "\n",
    "Норма дисконта идеального бренда (100 баллов) равна `5%` - приближается к безрисковой ставке.\n",
    "\n",
    "Средний бренд с индексом силы $50$ имеет норму дисконта около $15\\%$\n",
    "\n",
    "![image.png](attachment:image.png)"
   ]
  },
  {
   "cell_type": "markdown",
   "metadata": {
    "slideshow": {
     "slide_type": "slide"
    }
   },
   "source": [
    "## 4. Расчет стоимости бренда\n",
    "\n",
    "$$\\large S = \\sum\\limits_{i=1}^n E_i \\cdot k_{di}$$\n",
    "\n",
    "- $E_i$ - прибыль, генерируемая брендом в $n$-м году, $k_{dn}$ - коэффициент дисконтирования $n$-ого периода (бренд мультипликатор).\n",
    "\n",
    "**Недостатки**:\n",
    "\n",
    "- качество прогнозов..."
   ]
  },
  {
   "cell_type": "markdown",
   "metadata": {
    "slideshow": {
     "slide_type": "slide"
    }
   },
   "source": [
    "## Метод суммарных затрат \n",
    "\n",
    "Стоимость бренда - стоимость всех маркетинговых расходов на бренд, которые понес за всю историю существования бренда владелец.\n",
    "\n",
    "Подсчитываются:\n",
    "\n",
    "- расходы на исследование и разработку\n",
    "- художественное решение и упакова\n",
    "- вложения в рекламу и.т.д"
   ]
  },
  {
   "cell_type": "markdown",
   "metadata": {
    "slideshow": {
     "slide_type": "slide"
    }
   },
   "source": [
    "## Метод дисконтирования суммарных затрат\n",
    "\n",
    "Аналогично предыдущему методу, но используем дисконтирование - приводим прошлые затраты к сегодняшнему показателю.\n",
    "\n",
    "**Преимущества**:\n",
    "\n",
    "- доступны производителю - собственные издержки может посчитать каждый\n",
    "\n",
    "**Недостатки** : невозможно дать точную оценку эффективности затрат по продвижению бренда."
   ]
  },
  {
   "cell_type": "markdown",
   "metadata": {
    "slideshow": {
     "slide_type": "slide"
    }
   },
   "source": [
    "## Относительная стоимость брендов\n",
    "\n",
    "**Определение 7**: *Относительная стоимость* - стоимость, которая определяется относительно некоего объекта для сравнения.\n",
    "\n",
    "Фокусируемся на *бренде-аналоге*.\n",
    "\n",
    "**Методы оценки относительной стоимости бренда:**\n",
    "\n",
    "- рыночный метод\n",
    "- метод дополнительного дохода\n",
    "- метод притока наличности\n",
    "- метод вычисления затрат на размещение бренда"
   ]
  },
  {
   "cell_type": "markdown",
   "metadata": {
    "slideshow": {
     "slide_type": "slide"
    }
   },
   "source": [
    "## Рыночный метод\n",
    "\n",
    "В качестве объекта для сравнения: происходившие *в прошлом сделки на рынке*.\n",
    "\n",
    "**Преимущества**:\n",
    "\n",
    "- простой метод оценки\n",
    "- приблизительное представление о стоимости, порядке цен\n",
    "\n",
    "**Недостатки**:\n",
    "\n",
    "- сложно найти бренд-аналог\n",
    "- чаще всего компании владеют портфелем брендов, выделить стоимость одного бренда при сделках слияния и поглощения - сложно"
   ]
  },
  {
   "cell_type": "markdown",
   "metadata": {
    "slideshow": {
     "slide_type": "slide"
    }
   },
   "source": [
    "## Метод дополнительного дохода\n",
    "\n",
    "Суть метода:\n",
    "\n",
    "1. Ищем разницу в цене брендового и небрендированного товара\n",
    "2. Умножаем на прогнозируемые объемы продаж под брендом\n",
    "3. Умножаем на среднее время жизни бренда\n",
    "4. Проводим дисконтирование полученной стоимости\n",
    "\n",
    "**Недостатки**:\n",
    "\n",
    "- бренд-аналог небрендованный - как найти?\n",
    "- прогноз объема продаж..."
   ]
  },
  {
   "cell_type": "markdown",
   "metadata": {
    "slideshow": {
     "slide_type": "slide"
    }
   },
   "source": [
    "## Метод притока наличности (`Discounted Cash Flows`)\n",
    "\n",
    "1. Считаем финансовые поступления от продажи брендового товара\n",
    "2. Вычитаем затраты на разработку и продвижение бренда (реклама в том числе)\n",
    "3. Сравниваем с притоком наличных средств от продажи обычного тоавра той же категории аналогичного качества\n",
    "\n",
    "**Недостатки**:\n",
    "\n",
    "- последний пункт смущает очень.."
   ]
  },
  {
   "cell_type": "markdown",
   "metadata": {
    "slideshow": {
     "slide_type": "slide"
    }
   },
   "source": [
    "## Метод вычисления затрат на размещение бренда\n",
    "\n",
    "Стоимость бренда вычисляется как стоимость замещения данного бренда аналогичным товаром, не имеющим бренда (`no-name`)\n",
    "\n",
    "**Подсчет стоимости**:\n",
    "\n",
    "Представляется, какие затраты придется понести тому, кто решит создать аналогичный бренд. Таким образом определяется величина затрат на доведение безямянного товара до того же уровня, что и изучаемый бренд.\n",
    "\n",
    "При использовании данного метода измеряются следующие параметры:\n",
    "\n",
    "- разница между количеством потребителей, выбирающих данный бренд и количество покупателей безымянного товара той же категории, назначения и качества\n",
    "\n",
    "- разница между ценами, по которым можно продавать товар под данным брендом и аналогичный товар\n",
    "\n",
    "- количество лояльных потребителей, которые по-прежнему будут выбирать данный бренд при изменении условий покупки, использования и обслуживания товара\n",
    "\n",
    "- срок сохранение лояльности покупателем"
   ]
  },
  {
   "cell_type": "markdown",
   "metadata": {
    "slideshow": {
     "slide_type": "slide"
    }
   },
   "source": [
    "## Метод вычисления затрат на размещение бренда\n",
    "\n",
    "**Преимущества**:\n",
    "\n",
    "- Универсальный (для большинства рынков и корпоративных брендов)\n",
    "\n",
    "**Недостатки**:\n",
    "\n",
    "- невозможно проверить насколько гипотетический бренд соответствует реальному."
   ]
  },
  {
   "cell_type": "markdown",
   "metadata": {
    "slideshow": {
     "slide_type": "slide"
    }
   },
   "source": [
    "## Спасибо за внимание!"
   ]
  }
 ],
 "metadata": {
  "celltoolbar": "Slideshow",
  "kernelspec": {
   "display_name": "Python 3",
   "language": "python",
   "name": "python3"
  },
  "language_info": {
   "codemirror_mode": {
    "name": "ipython",
    "version": 3
   },
   "file_extension": ".py",
   "mimetype": "text/x-python",
   "name": "python",
   "nbconvert_exporter": "python",
   "pygments_lexer": "ipython3",
   "version": "3.8.3"
  }
 },
 "nbformat": 4,
 "nbformat_minor": 4
}
