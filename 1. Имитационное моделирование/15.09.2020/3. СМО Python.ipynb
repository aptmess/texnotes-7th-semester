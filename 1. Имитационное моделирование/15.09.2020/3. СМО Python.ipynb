{
 "cells": [
  {
   "cell_type": "code",
   "execution_count": 1,
   "metadata": {},
   "outputs": [],
   "source": [
    "import random\n",
    "\n",
    "class QueuingSystem:\n",
    "\n",
    "    def __init__(self, time_to_finish, lmbd):\n",
    "        '''\n",
    "        time_to_finish - время работы\n",
    "        lmbd - интенсивность потока\n",
    "        '''\n",
    "        self.time_to_finish = time_to_finish\n",
    "        self.lmbd = lmbd\n",
    "\n",
    "    def __str__(self):\n",
    "        return (\n",
    "            'Общее: {}\\n'.format(self.qty_of_processed_requests + self.qty_of_refused_requests) +\n",
    "            'Обслужено: {}\\n'.format(self.qty_of_processed_requests) +\n",
    "            'Отказано: {}\\n'.format(self.qty_of_refused_requests) +\n",
    "            'Процент обслуженных пользователей: {:.3}\\n'.format(self.qty_of_processed_requests \\\n",
    "                                                                / (self.qty_of_processed_requests \\\n",
    "                                                                   + self.qty_of_refused_requests)) +\n",
    "            'Вероятность отказа: {:.3}\\n'.format(self.qty_of_refused_requests \\\n",
    "                                                 / (self.qty_of_processed_requests + self.qty_of_refused_requests)) +\n",
    "            'Пропускная способность: {:.3}\\n'.format(self.qty_of_processed_requests / self.time_to_finish) +\n",
    "            'Интенсивность потока: {}'.format(self.lmbd)\n",
    "        )\n",
    "\n",
    "    def __iter__(self):\n",
    "        self.system_uptime = 0\n",
    "        self.time_when_channel_will_be_free = 0\n",
    "        self.qty_of_processed_requests = 0\n",
    "        self.qty_of_refused_requests = 0\n",
    "        return self\n",
    "\n",
    "    def __next__(self):\n",
    "        if self.system_uptime > self.time_to_finish:\n",
    "            raise StopIteration\n",
    "        time_when_request_came_in = random.random()\n",
    "        self.system_uptime += time_when_request_came_in\n",
    "\n",
    "        if self._can_system_process_request():\n",
    "            self.qty_of_processed_requests += 1\n",
    "\n",
    "            time_for_which_request_has_taken_channel = random.expovariate(self.lmbd)\n",
    "            self.time_when_channel_will_be_free = self.system_uptime + time_for_which_request_has_taken_channel\n",
    "            return 'пользователь добавлен в очередь в  {}'.format(self.system_uptime)\n",
    "        else:\n",
    "            self.qty_of_refused_requests += 1\n",
    "            return 'пользователь исключен из очереди {}'.format(self.system_uptime)\n",
    "\n",
    "    def _can_system_process_request(self):\n",
    "        return self.system_uptime >= self.time_when_channel_will_be_free"
   ]
  },
  {
   "cell_type": "code",
   "execution_count": 2,
   "metadata": {},
   "outputs": [
    {
     "name": "stdout",
     "output_type": "stream",
     "text": [
      "Общее: 1981\n",
      "Обслужено: 1569\n",
      "Отказано: 412\n",
      "Процент обслуженных пользователей: 0.792\n",
      "Вероятность отказа: 0.208\n",
      "Пропускная способность: 1.57\n",
      "Интенсивность потока: 5\n"
     ]
    }
   ],
   "source": [
    "lmbd = 5\n",
    "time_to_finish = 1000\n",
    "qs = QueuingSystem(time_to_finish, lmbd)\n",
    "for request in qs: request\n",
    "print(qs)"
   ]
  }
 ],
 "metadata": {
  "kernelspec": {
   "display_name": "Python 3",
   "language": "python",
   "name": "python3"
  },
  "language_info": {
   "codemirror_mode": {
    "name": "ipython",
    "version": 3
   },
   "file_extension": ".py",
   "mimetype": "text/x-python",
   "name": "python",
   "nbconvert_exporter": "python",
   "pygments_lexer": "ipython3",
   "version": "3.8.3"
  }
 },
 "nbformat": 4,
 "nbformat_minor": 4
}
